{
 "cells": [
  {
   "cell_type": "markdown",
   "metadata": {},
   "source": [
    "# Machine Learning in Finance (Seminar) - Group 1"
   ]
  },
  {
   "cell_type": "markdown",
   "metadata": {},
   "source": [
    "## 1 Imports"
   ]
  },
  {
   "cell_type": "markdown",
   "metadata": {},
   "source": [
    "### 1.1 Python imports"
   ]
  },
  {
   "cell_type": "code",
   "execution_count": 1,
   "metadata": {},
   "outputs": [
    {
     "name": "stdout",
     "output_type": "stream",
     "text": [
      "Requirement already satisfied: nbimporter in c:\\users\\mtsch\\anaconda3\\lib\\site-packages (0.3.4)\n",
      "Requirement already satisfied: imblearn in c:\\users\\mtsch\\anaconda3\\lib\\site-packages (0.0)\n",
      "Requirement already satisfied: imbalanced-learn in c:\\users\\mtsch\\anaconda3\\lib\\site-packages (from imblearn) (0.8.0)\n",
      "Requirement already satisfied: joblib>=0.11 in c:\\users\\mtsch\\anaconda3\\lib\\site-packages (from imbalanced-learn->imblearn) (0.17.0)\n",
      "Requirement already satisfied: numpy>=1.13.3 in c:\\users\\mtsch\\anaconda3\\lib\\site-packages (from imbalanced-learn->imblearn) (1.19.2)\n",
      "Requirement already satisfied: scikit-learn>=0.24 in c:\\users\\mtsch\\anaconda3\\lib\\site-packages (from imbalanced-learn->imblearn) (0.24.1)\n",
      "Requirement already satisfied: scipy>=0.19.1 in c:\\users\\mtsch\\anaconda3\\lib\\site-packages (from imbalanced-learn->imblearn) (1.5.2)\n",
      "Requirement already satisfied: threadpoolctl>=2.0.0 in c:\\users\\mtsch\\anaconda3\\lib\\site-packages (from scikit-learn>=0.24->imbalanced-learn->imblearn) (2.1.0)\n"
     ]
    }
   ],
   "source": [
    "import sys\n",
    "import numpy as np\n",
    "import pandas as pd\n",
    "import matplotlib\n",
    "import matplotlib.pyplot as plt\n",
    "import seaborn as sns\n",
    "from collections import Counter\n",
    "import sys\n",
    "!{sys.executable} -m pip install nbimporter\n",
    "\n",
    "import nbimporter\n",
    "from Helpers import helper_functions\n",
    "from sklearn.model_selection import train_test_split\n",
    "\n",
    "import sys\n",
    "!{sys.executable} -m pip install imblearn\n",
    "from collections import Counter\n",
    "from imblearn.over_sampling import SMOTE\n",
    "from sklearn.preprocessing import StandardScaler\n",
    "from sklearn.metrics import confusion_matrix, classification_report\n",
    "from sklearn.impute import SimpleImputer\n",
    "from sklearn.ensemble import RandomForestClassifier\n",
    "import datetime\n",
    "from sklearn.model_selection import GridSearchCV, cross_validate, cross_val_score, StratifiedKFold, KFold\n",
    "from sklearn.neural_network import MLPClassifier\n",
    "from sklearn.pipeline import Pipeline\n",
    "from sklearn.discriminant_analysis import QuadraticDiscriminantAnalysis as QDA\n",
    "from sklearn import metrics\n",
    "from sklearn.discriminant_analysis import LinearDiscriminantAnalysis as LDA\n",
    "from sklearn.svm import SVC"
   ]
  },
  {
   "cell_type": "markdown",
   "metadata": {},
   "source": [
    "### 1.2 Data imports"
   ]
  },
  {
   "cell_type": "markdown",
   "metadata": {},
   "source": [
    "Reading the five datasets from the Data folder (The files were downloaded from Kaggle and uploaded to the repository manually). We than add the additional column 'SP500' to every dataframe including the annual performance of the SP500 according to this source: https://www.macrotrends.net/2526/sp-500-historical-annual-returns. We there downloaded the historical data on Thursday, 04.03.2021. The corresponding file 'sp-500-historical-annual-returns.csv' can be found in our folder 'Data'."
   ]
  },
  {
   "cell_type": "code",
   "execution_count": 2,
   "metadata": {},
   "outputs": [],
   "source": [
    "#load data sets\n",
    "df_2014 = pd.read_csv('Data/2014_Financial_Data.csv')\n",
    "df_2015 = pd.read_csv('Data/2015_Financial_Data.csv')\n",
    "df_2016 = pd.read_csv('Data/2016_Financial_Data.csv')\n",
    "df_2017 = pd.read_csv('Data/2017_Financial_Data.csv')\n",
    "df_2018 = pd.read_csv('Data/2018_Financial_Data.csv')\n",
    "\n",
    "#load S&P-500 data set\n",
    "df_SP500 = pd.read_csv('Data/sp-500-historical-annual-returns.csv')"
   ]
  },
  {
   "cell_type": "markdown",
   "metadata": {},
   "source": [
    "## 2 Dataset Preparation"
   ]
  },
  {
   "cell_type": "markdown",
   "metadata": {},
   "source": [
    "### 2.1 Organising Data Frames"
   ]
  },
  {
   "cell_type": "code",
   "execution_count": 3,
   "metadata": {},
   "outputs": [],
   "source": [
    "#rename price variation columns for later concatenation of the different data frames\n",
    "df_2014 = df_2014.rename(columns={\"2015 PRICE VAR [%]\": \"PRICE VAR [%]\"})\n",
    "df_2015 = df_2015.rename(columns={\"2016 PRICE VAR [%]\": \"PRICE VAR [%]\"})\n",
    "df_2016 = df_2016.rename(columns={\"2017 PRICE VAR [%]\": \"PRICE VAR [%]\"})\n",
    "df_2017 = df_2017.rename(columns={\"2018 PRICE VAR [%]\": \"PRICE VAR [%]\"})\n",
    "df_2018 = df_2018.rename(columns={\"2019 PRICE VAR [%]\": \"PRICE VAR [%]\"})\n",
    "\n",
    "#drop row entries consisting of only nan values\n",
    "df_2014.dropna(how = 'all', inplace = True)\n",
    "df_2015.dropna(how = 'all', inplace = True)\n",
    "df_2016.dropna(how = 'all', inplace = True)\n",
    "df_2017.dropna(how = 'all', inplace = True)\n",
    "df_2018.dropna(how = 'all', inplace = True)\n",
    "\n",
    "#drop class column and name of share column\n",
    "df_2014 = df_2014.drop(columns = ['Class', 'Unnamed: 0'])\n",
    "df_2015 = df_2015.drop(columns = ['Class', 'Unnamed: 0'])\n",
    "df_2016 = df_2016.drop(columns = ['Class', 'Unnamed: 0'])\n",
    "df_2017 = df_2017.drop(columns = ['Class', 'Unnamed: 0'])\n",
    "df_2018 = df_2018.drop(columns = ['Class', 'Unnamed: 0'])"
   ]
  },
  {
   "cell_type": "markdown",
   "metadata": {},
   "source": [
    "Firstly, we want to get an overview of the data which we deal with. One important property is the Sector and their distribution."
   ]
  },
  {
   "cell_type": "code",
   "execution_count": 4,
   "metadata": {},
   "outputs": [
    {
     "data": {
      "image/png": "[encoded data removed]",
      "text/plain": [
       "<Figure size 432x288 with 5 Axes>"
      ]
     },
     "metadata": {
      "needs_background": "light"
     },
     "output_type": "display_data"
    }
   ],
   "source": [
    "#Plotting the sector distributions\n",
    "df_2014_sector = df_2014['Sector'].value_counts()\n",
    "df_2015_sector = df_2015['Sector'].value_counts()\n",
    "df_2016_sector = df_2016['Sector'].value_counts()\n",
    "df_2017_sector = df_2017['Sector'].value_counts()\n",
    "df_2018_sector = df_2018['Sector'].value_counts()\n",
    "       \n",
    "plt.title('Observations Sector Distribution', fontsize=20)\n",
    "plt.subplot(5, 1, 1)\n",
    "year_2014 = plt.bar(np.arange(len(df_2014_sector)), df_2014_sector)\n",
    "plt.ylabel('2014')\n",
    "\n",
    "plt.subplot(5, 1, 2)\n",
    "year_2015 = plt.bar(np.arange(len(df_2015_sector)), df_2015_sector)\n",
    "plt.ylabel('2015')\n",
    "\n",
    "plt.subplot(5, 1, 3)\n",
    "year_2016 = plt.bar(np.arange(len(df_2016_sector)), df_2016_sector)\n",
    "plt.ylabel('2016')\n",
    "\n",
    "plt.subplot(5, 1, 4)\n",
    "year_2017 = plt.bar(np.arange(len(df_2017_sector)), df_2017_sector)\n",
    "plt.ylabel('2017')\n",
    "\n",
    "plt.subplot(5,1,5)\n",
    "year_2018 = plt.bar(np.arange(len(df_2018_sector)), df_2018_sector)\n",
    "plt.ylabel('2018')\n",
    "plt.xticks(np.arange(len(df_2018_sector)), df_2018_sector.index.values.tolist(), rotation = 90)\n",
    "\n",
    "plt.show()"
   ]
  },
  {
   "cell_type": "markdown",
   "metadata": {},
   "source": [
    "We clearly see that some Sectors appear more often than others. And we also see that the dataframes don't have the same size. We decide to add boolean columns for all years. These year columns and the Sector will be part of our most important features."
   ]
  },
  {
   "cell_type": "code",
   "execution_count": 5,
   "metadata": {},
   "outputs": [],
   "source": [
    "#add year columns as booleans\n",
    "df_2014['year_2014'] = 1\n",
    "df_2014['year_2015'] = 0\n",
    "df_2014['year_2016'] = 0\n",
    "df_2014['year_2017'] = 0\n",
    "df_2014['year_2018'] = 0\n",
    "\n",
    "df_2015['year_2014'] = 0\n",
    "df_2015['year_2015'] = 1\n",
    "df_2015['year_2016'] = 0\n",
    "df_2015['year_2017'] = 0\n",
    "df_2015['year_2018'] = 0\n",
    "\n",
    "df_2016['year_2014'] = 0\n",
    "df_2016['year_2015'] = 0\n",
    "df_2016['year_2016'] = 1\n",
    "df_2016['year_2017'] = 0\n",
    "df_2016['year_2018'] = 0\n",
    "\n",
    "df_2017['year_2014'] = 0\n",
    "df_2017['year_2015'] = 0\n",
    "df_2017['year_2016'] = 0\n",
    "df_2017['year_2017'] = 1\n",
    "df_2017['year_2018'] = 0\n",
    "\n",
    "df_2018['year_2014'] = 0\n",
    "df_2018['year_2015'] = 0\n",
    "df_2018['year_2016'] = 0\n",
    "df_2018['year_2017'] = 0\n",
    "df_2018['year_2018'] = 1"
   ]
  },
  {
   "cell_type": "markdown",
   "metadata": {},
   "source": [
    "Obviously, our Sector-column will be important as well. We therefore factorize the categorical value and now have one column per Sector which appears in the data set."
   ]
  },
  {
   "cell_type": "code",
   "execution_count": 6,
   "metadata": {},
   "outputs": [],
   "source": [
    "#Factorize categorical value \"Sector\"\n",
    "df_Sector_Columns_2014 = pd.get_dummies(df_2014['Sector'])\n",
    "df_Sector_Columns_2015 = pd.get_dummies(df_2015['Sector'])\n",
    "df_Sector_Columns_2016 = pd.get_dummies(df_2016['Sector'])\n",
    "df_Sector_Columns_2017 = pd.get_dummies(df_2017['Sector'])\n",
    "df_Sector_Columns_2018 = pd.get_dummies(df_2018['Sector'])\n",
    "\n",
    "#merge dfs\n",
    "df_2014_factorized = pd.concat([df_2014, df_Sector_Columns_2014], axis=1)\n",
    "df_2015_factorized = pd.concat([df_2015, df_Sector_Columns_2015], axis=1)\n",
    "df_2016_factorized = pd.concat([df_2016, df_Sector_Columns_2016], axis=1)\n",
    "df_2017_factorized = pd.concat([df_2017, df_Sector_Columns_2017], axis=1)\n",
    "df_2018_factorized = pd.concat([df_2018, df_Sector_Columns_2018], axis=1)\n",
    "\n",
    "#delete the now useless sector column\n",
    "del df_2014_factorized['Sector']\n",
    "del df_2015_factorized['Sector']\n",
    "del df_2016_factorized['Sector']\n",
    "del df_2017_factorized['Sector']\n",
    "del df_2018_factorized['Sector']"
   ]
  },
  {
   "cell_type": "markdown",
   "metadata": {},
   "source": [
    "### 2.2 Add response variable"
   ]
  },
  {
   "cell_type": "markdown",
   "metadata": {},
   "source": [
    "As requested in the task we add a column for our response variable Strategy (Buy = 0, Hold = 1, Sell = 2). "
   ]
  },
  {
   "cell_type": "code",
   "execution_count": 7,
   "metadata": {},
   "outputs": [],
   "source": [
    "#add S&P500 performance for the following year to the dataframes\n",
    "SP500_performance_2015 = df_SP500.value[87]\n",
    "SP500_performance_2016 = df_SP500.value[88]\n",
    "SP500_performance_2017 = df_SP500.value[89]\n",
    "SP500_performance_2018 = df_SP500.value[90]\n",
    "SP500_performance_2019 = df_SP500.value[91]\n",
    "\n",
    "df_2014_factorized['SP500'] = SP500_performance_2015\n",
    "df_2015_factorized['SP500'] = SP500_performance_2016\n",
    "df_2016_factorized['SP500'] = SP500_performance_2017\n",
    "df_2017_factorized['SP500'] = SP500_performance_2018\n",
    "df_2018_factorized['SP500'] = SP500_performance_2019\n",
    "\n",
    "#add Strategy column      \n",
    "df_2014_factorized['Strategy'] = -1\n",
    "df_2015_factorized['Strategy'] = -1\n",
    "df_2016_factorized['Strategy'] = -1\n",
    "df_2017_factorized['Strategy'] = -1\n",
    "df_2018_factorized['Strategy'] = -1\n",
    "\n",
    "#Fill Strategy column\n",
    "for index in df_2014_factorized.index:\n",
    "    df_2014_factorized.loc[index, 'Strategy'] = helper_functions.get_strategy(df_2014_factorized['PRICE VAR [%]'].values[index],\\\n",
    "                                                                df_2014_factorized['SP500'].values[index])\n",
    "for index in df_2015_factorized.index:\n",
    "    df_2015_factorized.loc[index, 'Strategy'] = helper_functions.get_strategy(df_2015_factorized['PRICE VAR [%]'].values[index],\\\n",
    "                                                                df_2015_factorized['SP500'].values[index])\n",
    "for index in df_2016_factorized.index:\n",
    "    df_2016_factorized.loc[index, 'Strategy'] = helper_functions.get_strategy(df_2016_factorized['PRICE VAR [%]'].values[index],\\\n",
    "                                                                df_2016_factorized['SP500'].values[index])\n",
    "for index in df_2017_factorized.index:\n",
    "    df_2017_factorized.loc[index, 'Strategy'] = helper_functions.get_strategy(df_2017_factorized['PRICE VAR [%]'].values[index],\\\n",
    "                                                                df_2017_factorized['SP500'].values[index])\n",
    "for index in df_2018_factorized.index:\n",
    "    df_2018_factorized.loc[index, 'Strategy'] = helper_functions.get_strategy(df_2018_factorized['PRICE VAR [%]'].values[index],\\\n",
    "                                                                df_2018_factorized['SP500'].values[index])\n",
    "\n",
    "\n"
   ]
  },
  {
   "cell_type": "code",
   "execution_count": 8,
   "metadata": {},
   "outputs": [],
   "source": [
    "#OPTIONAL -- create csv to take a control look to a data frame\n",
    "# e.g. 2016: uncomment following lines\n",
    "\n",
    "#compression_opts = dict(method='zip', archive_name='2016.csv')  \n",
    "#df_2016_factorized.to_csv('2016.zip', index=False,\n",
    "#         compression=compression_opts) "
   ]
  },
  {
   "cell_type": "code",
   "execution_count": 9,
   "metadata": {},
   "outputs": [],
   "source": [
    "\n",
    "#remove S&P 500 column and PRICE VAR\n",
    "columns_to_drop = ['SP500', 'PRICE VAR [%]']\n",
    "df_2014_factorized = df_2014_factorized.drop(columns = columns_to_drop)\n",
    "df_2015_factorized = df_2015_factorized.drop(columns = columns_to_drop)\n",
    "df_2016_factorized = df_2016_factorized.drop(columns = columns_to_drop)\n",
    "df_2017_factorized = df_2017_factorized.drop(columns = columns_to_drop)\n",
    "df_2018_factorized = df_2018_factorized.drop(columns = columns_to_drop)"
   ]
  },
  {
   "cell_type": "markdown",
   "metadata": {},
   "source": [
    "We take a first look at the Strategy distribution. We notice a clear class imbalance but a quite similar picture in every year. "
   ]
  },
  {
   "cell_type": "code",
   "execution_count": 10,
   "metadata": {},
   "outputs": [
    {
     "data": {
      "image/png": "[encoded data removed]",
      "text/plain": [
       "<Figure size 432x288 with 5 Axes>"
      ]
     },
     "metadata": {
      "needs_background": "light"
     },
     "output_type": "display_data"
    }
   ],
   "source": [
    "#Plotting the strategy distributions\n",
    "df_2014_strategy = df_2014_factorized['Strategy'].value_counts()\n",
    "df_2015_strategy = df_2015_factorized['Strategy'].value_counts()\n",
    "df_2016_strategy = df_2016_factorized['Strategy'].value_counts()\n",
    "df_2017_strategy = df_2017_factorized['Strategy'].value_counts()\n",
    "df_2018_strategy = df_2018_factorized['Strategy'].value_counts()\n",
    "       \n",
    "plt.title('Strategy Distributions', fontsize=20)\n",
    "plt.subplot(5, 1, 1)\n",
    "year_2014 = plt.bar(np.arange(len(df_2014_strategy)), df_2014_strategy)\n",
    "plt.ylabel('2014')\n",
    "\n",
    "plt.subplot(5, 1, 2)\n",
    "year_2015 = plt.bar(np.arange(len(df_2015_strategy)), df_2015_strategy)\n",
    "plt.ylabel('2015')\n",
    "\n",
    "plt.subplot(5, 1, 3)\n",
    "year_2016 = plt.bar(np.arange(len(df_2016_strategy)), df_2016_strategy)\n",
    "plt.ylabel('2016')\n",
    "\n",
    "plt.subplot(5, 1, 4)\n",
    "year_2017 = plt.bar(np.arange(len(df_2017_strategy)), df_2017_strategy)\n",
    "plt.ylabel('2017')\n",
    "\n",
    "plt.subplot(5,1,5)\n",
    "year_2018 = plt.bar(np.arange(len(df_2018_strategy)), df_2018_strategy)\n",
    "plt.ylabel('2018')\n",
    "plt.xticks(np.arange(len(df_2018_strategy)), df_2018_strategy.index.values.tolist(), rotation = 90)\n",
    "\n",
    "plt.show()"
   ]
  },
  {
   "cell_type": "markdown",
   "metadata": {},
   "source": [
    "## 2.3 Handling missing values"
   ]
  },
  {
   "cell_type": "markdown",
   "metadata": {},
   "source": [
    "### 2.3.1 Columns"
   ]
  },
  {
   "cell_type": "markdown",
   "metadata": {},
   "source": [
    "Financial Data 2014 - zero values"
   ]
  },
  {
   "cell_type": "code",
   "execution_count": 11,
   "metadata": {},
   "outputs": [
    {
     "name": "stdout",
     "output_type": "stream",
     "text": [
      "                                            Percentage of Zero Values\n",
      "year_2018                                                       100.0\n",
      "year_2015                                                       100.0\n",
      "year_2016                                                       100.0\n",
      "year_2017                                                       100.0\n",
      "Communication Services                                           97.8\n",
      "Utilities                                                        97.5\n",
      "Consumer Defensive                                               95.7\n",
      "Energy                                                           94.2\n",
      "Real Estate                                                      94.1\n",
      "Basic Materials                                                  93.6\n",
      "Consumer Cyclical                                                88.0\n",
      "Industrials                                                      86.8\n",
      "Technology                                                       84.9\n",
      "Healthcare                                                       84.7\n",
      "Preferred Dividends                                              83.7\n",
      "Financial Services                                               82.7\n",
      "Net Income - Discontinued ops                                    80.0\n",
      "Deposit Liabilities                                              79.6\n",
      "R&D to Revenue                                                   65.0\n",
      "Net Income - Non-Controlling int                                 64.4\n",
      "Deferred revenue                                                 62.4\n",
      "R&D Expenses                                                     61.5\n",
      "R&D Expense Growth                                               60.0\n",
      "Dividends per Share Growth                                       57.3\n",
      "Effect of forex changes on cash                                  51.4\n",
      "3Y Dividend per Share Growth (per Share)                         51.1\n",
      "Dividend Yield                                                   50.5\n",
      "Dividend per Share                                               50.3\n",
      "Payout Ratio                                                     49.4\n",
      "Dividend payments                                                49.3\n",
      "payoutRatio                                                      48.9\n",
      "Acquisitions and disposals                                       48.7\n",
      "Short-term investments                                           47.6\n",
      "Long-term investments                                            46.5\n",
      "Tax assets                                                       45.3\n",
      "daysOfSalesOutstanding                                           44.6\n",
      "Days of Inventory on Hand                                        44.6\n",
      "5Y Dividend per Share Growth (per Share)                         44.4\n",
      "Inventories                                                      43.9\n",
      "Tax Liabilities                                                  43.4\n",
      "Inventory Growth                                                 42.4\n",
      "Investment purchases and sales                                   41.7\n",
      "Average Inventory                                                41.3\n",
      "inventoryTurnover                                                41.3\n",
      "Inventory Turnover                                               41.3\n",
      "Strategy                                                         40.1\n",
      "longtermDebtToCapitalization                                     39.8\n",
      "dividendYield                                                    39.8\n",
      "PFCF ratio                                                       36.2\n",
      "totalDebtToCapitalization                                        36.2\n",
      "priceToFreeCashFlowsRatio                                        36.0\n",
      "Investments                                                      35.7\n",
      "10Y Dividend per Share Growth (per Share)                        33.7\n",
      "5Y Net Income Growth (per Share)                                 31.8\n",
      "PE ratio                                                         29.3\n",
      "priceEarningsRatio                                               29.0\n",
      "3Y Net Income Growth (per Share)                                 28.9\n",
      "Goodwill and Intangible Assets                                   27.6\n",
      "Intangibles to Total Assets                                      26.3\n",
      "Short-term debt                                                  26.3\n",
      "Interest Expense                                                 25.4\n",
      "Interest Coverage                                                24.9\n",
      "interestCoverage                                                 24.7\n",
      "Capex to Operating Cash Flow                                     24.7\n",
      "Other comprehensive income                                       24.5\n",
      "dividendPayoutRatio                                              23.4\n",
      "Graham Number                                                    23.0\n",
      "3Y Operating CF Growth (per Share)                               21.8\n",
      "Cost of Revenue                                                  21.0\n",
      "Long-term debt                                                   21.0\n",
      "Stock-based compensation to Revenue                              19.4\n",
      "Debt Growth                                                      18.7\n",
      "5Y Operating CF Growth (per Share)                               18.2\n",
      "10Y Net Income Growth (per Share)                                18.1\n",
      "Total debt                                                       17.9\n",
      "debtEquityRatio                                                  17.8\n",
      "Debt to Equity                                                   17.8\n",
      "Issuance (repayment) of debt                                     17.8\n",
      "Debt to Assets                                                   17.7\n",
      "debtRatio                                                        17.7\n",
      "Enterprise Value over EBITDA                                     17.7\n",
      "Interest Debt per Share                                          17.6\n",
      "daysOfInventoryOutstanding                                       16.5\n",
      "Days Sales Outstanding                                           16.5\n",
      "Issuance (buybacks) of shares                                    16.2\n",
      "PTB ratio                                                        16.2\n",
      "Receivables                                                      16.0\n",
      "priceToBookRatio                                                 16.0\n",
      "Stock-based compensation                                         15.7\n",
      "Receivables Turnover                                             14.9\n",
      "Receivables growth                                               14.7\n",
      "10Y Operating CF Growth (per Share)                              14.5\n",
      "Days Payables Outstanding                                        14.3\n",
      "daysOfPayablesOutstanding                                        14.3\n",
      "Income Tax Expense                                               13.9\n",
      "Average Receivables                                              13.7\n",
      "payablesTurnover                                                 11.9\n",
      "Payables Turnover                                                11.9\n",
      "priceSalesRatio                                                  11.0\n",
      "Payables                                                         10.5\n",
      "priceFairValue                                                    9.8\n",
      "Average Payables                                                  9.6\n",
      "priceCashFlowRatio                                                8.5\n",
      "Capex to Revenue                                                  7.8\n",
      "priceEarningsToGrowthRatio                                        7.7\n",
      "returnOnCapitalEmployed                                           7.3\n",
      "ROIC                                                              7.3\n",
      "SG&A to Revenue                                                   6.7\n",
      "3Y Shareholders Equity Growth (per Share)                         6.3\n",
      "Capex to Depreciation                                             6.2\n",
      "5Y Shareholders Equity Growth (per Share)                         5.5\n",
      "Earnings Before Tax Margin                                        5.4\n",
      "PB ratio                                                          5.1\n",
      "priceBookValueRatio                                               5.0\n",
      "Depreciation & Amortization                                       4.9\n",
      "Gross Margin                                                      4.7\n",
      "Property, Plant & Equipment Net                                   4.7\n",
      "Capital Expenditure                                               4.6\n",
      "assetTurnover                                                     4.5\n",
      "Revenue                                                           4.4\n",
      "EBIT Margin                                                       4.4\n",
      "Net Profit Margin                                                 4.4\n",
      "Gross Profit                                                      4.3\n",
      "priceToSalesRatio                                                 4.3\n",
      "Price to Sales Ratio                                              4.3\n",
      "Free Cash Flow margin                                             4.3\n",
      "Capex per Share                                                   4.3\n",
      "Revenue per Share                                                 4.3\n",
      "Gross Profit Growth                                               4.2\n",
      "Revenue Growth                                                    4.1\n",
      "Other Liabilities                                                 4.1\n",
      "Weighted Average Shares Growth                                    4.1\n",
      "10Y Shareholders Equity Growth (per Share)                        4.0\n",
      "fixedAssetTurnover                                                3.9\n",
      "effectiveTaxRate                                                  3.7\n",
      "Total non-current liabilities                                     3.6\n",
      "EV to Sales                                                       3.4\n",
      "3Y Revenue Growth (per Share)                                     2.9\n",
      "5Y Revenue Growth (per Share)                                     2.8\n",
      "Weighted Average Shares Diluted Growth                            2.7\n",
      "SG&A Expense                                                      2.5\n",
      "SG&A Expenses Growth                                              2.4\n",
      "Other Assets                                                      2.2\n",
      "Investing Cash flow                                               1.9\n",
      "Retained earnings (deficit)                                       1.4\n",
      "EPS Diluted Growth                                                1.4\n",
      "EPS Growth                                                        1.3\n",
      "Financing Cash Flow                                               1.2\n",
      "10Y Revenue Growth (per Share)                                    1.2\n",
      "Net cash flow / Change in cash                                    0.7\n",
      "Cash and cash equivalents                                         0.6\n",
      "Cash per Share                                                    0.5\n",
      "cashPerShare                                                      0.5\n",
      "Profit Margin                                                     0.5\n",
      "Net Cash/Marketcap                                                0.4\n",
      "Operating Expenses                                                0.4\n",
      "Earnings Yield                                                    0.4\n",
      "EPS                                                               0.4\n",
      "EPS Diluted                                                       0.4\n",
      "Total non-current assets                                          0.4\n",
      "EBITDA Margin                                                     0.4\n",
      "Total current liabilities                                         0.3\n",
      "Cash and short-term investments                                   0.3\n",
      "Shareholders Equity per Share                                     0.3\n",
      "Free Cash Flow                                                    0.3\n",
      "Net Debt                                                          0.3\n",
      "Total liabilities                                                 0.3\n",
      "Total current assets                                              0.3\n",
      "Asset Growth                                                      0.2\n",
      "Book Value per Share Growth                                       0.2\n",
      "EBIT                                                              0.2\n",
      "Total assets                                                      0.2\n",
      "Net Income Growth                                                 0.2\n",
      "EBIT Growth                                                       0.2\n",
      "Total shareholders equity                                         0.2\n",
      "Net Income Com                                                    0.2\n",
      "Net Income                                                        0.2\n",
      "Operating Cash Flow                                               0.2\n",
      "Earnings before Tax                                               0.2\n",
      "Operating Income                                                  0.2\n",
      "operatingCashFlowPerShare                                         0.2\n",
      "freeCashFlowPerShare                                              0.2\n",
      "cashRatio                                                         0.2\n",
      "Net Income per Share                                              0.2\n",
      "Operating Cash Flow per Share                                     0.2\n",
      "netProfitMargin                                                   0.2\n",
      "Free Cash Flow per Share                                          0.2\n",
      "Income Quality                                                    0.2\n",
      "Current ratio                                                     0.1\n",
      "Net Debt to EBITDA                                                0.1\n",
      "eBTperEBIT                                                        0.1\n",
      "eBITperRevenue                                                    0.1\n",
      "priceToOperatingCashFlowsRatio                                    0.1\n",
      "currentRatio                                                      0.1\n",
      "POCF ratio                                                        0.1\n",
      "Consolidated Income                                               0.1\n",
      "Market Cap                                                        0.1\n",
      "Tangible Book Value per Share                                     0.1\n",
      "Book Value per Share                                              0.1\n",
      "Weighted Average Shs Out (Dil)                                    0.1\n",
      "Weighted Average Shs Out                                          0.1\n",
      "freeCashFlowOperatingCashFlowRatio                                0.1\n",
      "nIperEBT                                                          0.1\n",
      "Free Cash Flow Yield                                              0.1\n",
      "returnOnEquity                                                    0.1\n",
      "niperEBT                                                          0.1\n",
      "Return on Tangible Assets                                         0.1\n",
      "Operating Income Growth                                           0.1\n",
      "ROE                                                               0.1\n",
      "returnOnAssets                                                    0.1\n",
      "enterpriseValueMultiple                                           0.1\n",
      "Net Current Asset Value                                           0.1\n",
      "ebitperRevenue                                                    0.1\n",
      "Working Capital                                                   0.1\n",
      "ebtperEBIT                                                        0.1\n",
      "Operating Cash Flow growth                                        0.1\n",
      "Free Cash Flow growth                                             0.1\n",
      "Graham Net-Net                                                    0.1\n",
      "dividendpaidAndCapexCoverageRatios                                0.0\n",
      "capitalExpenditureCoverageRatios                                  0.0\n",
      "cashFlowToDebtRatio                                               0.0\n",
      "shortTermCoverageRatios                                           0.0\n",
      "Tangible Asset Value                                              0.0\n",
      "cashFlowCoverageRatios                                            0.0\n",
      "Invested Capital                                                  0.0\n",
      "operatingCashFlowSalesRatio                                       0.0\n",
      "year_2014                                                         0.0\n",
      "cashConversionCycle                                               0.0\n",
      "EBITDA                                                            0.0\n",
      "Enterprise Value                                                  0.0\n",
      "operatingCycle                                                    0.0\n",
      "quickRatio                                                        0.0\n",
      "grossProfitMargin                                                 0.0\n",
      "EV to Operating cash flow                                         0.0\n",
      "EV to Free cash flow                                              0.0\n",
      "operatingProfitMargin                                             0.0\n",
      "pretaxProfitMargin                                                0.0\n",
      "companyEquityMultiplier                                           0.0\n"
     ]
    }
   ],
   "source": [
    "#Identification of missing and zero values\n",
    "pd.options.display.max_columns = None\n",
    "pd.options.display.max_rows = None\n",
    "\n",
    "#Check zero values per column\n",
    "percentage_of_zeroes_2014 = round(df_2014_factorized[df_2014_factorized == 0].count(axis = 0) * 100 / len(df_2014_factorized), 1)\n",
    "df_zeroes_2014 = pd.DataFrame({'Percentage of Zero Values': percentage_of_zeroes_2014})\n",
    "df_zeroes_2014.sort_values('Percentage of Zero Values', inplace = True, ascending = False)\n",
    "\n",
    "print(df_zeroes_2014)"
   ]
  },
  {
   "cell_type": "markdown",
   "metadata": {},
   "source": [
    "Financial Data 2014 - nan values"
   ]
  },
  {
   "cell_type": "code",
   "execution_count": 12,
   "metadata": {},
   "outputs": [
    {
     "name": "stdout",
     "output_type": "stream",
     "text": [
      "                                            Percentage of nan Values\n",
      "operatingCycle                                                 100.0\n",
      "cashConversionCycle                                            100.0\n",
      "shortTermCoverageRatios                                         51.4\n",
      "cashFlowCoverageRatios                                          41.9\n",
      "cashFlowToDebtRatio                                             41.9\n",
      "10Y Shareholders Equity Growth (per Share)                      41.6\n",
      "10Y Net Income Growth (per Share)                               40.6\n",
      "10Y Revenue Growth (per Share)                                  40.6\n",
      "10Y Operating CF Growth (per Share)                             40.3\n",
      "10Y Dividend per Share Growth (per Share)                       38.5\n",
      "Net Debt to EBITDA                                              37.4\n",
      "dividendPayoutRatio                                             34.0\n",
      "priceEarningsToGrowthRatio                                      34.0\n",
      "Other Assets                                                    33.5\n",
      "Net Debt                                                        33.5\n",
      "niperEBT                                                        32.6\n",
      "effectiveTaxRate                                                32.6\n",
      "nIperEBT                                                        32.6\n",
      "eBTperEBIT                                                      29.4\n",
      "ebtperEBIT                                                      29.4\n",
      "5Y Shareholders Equity Growth (per Share)                       27.9\n",
      "priceCashFlowRatio                                              27.7\n",
      "Weighted Average Shares Diluted Growth                          27.5\n",
      "5Y Revenue Growth (per Share)                                   27.2\n",
      "5Y Net Income Growth (per Share)                                27.2\n",
      "5Y Operating CF Growth (per Share)                              27.1\n",
      "freeCashFlowOperatingCashFlowRatio                              26.7\n",
      "Return on Tangible Assets                                       26.1\n",
      "returnOnAssets                                                  26.1\n",
      "returnOnCapitalEmployed                                         25.9\n",
      "ROIC                                                            25.9\n",
      "Working Capital                                                 25.9\n",
      "Current ratio                                                   25.9\n",
      "cashRatio                                                       25.5\n",
      "quickRatio                                                      25.5\n",
      "currentRatio                                                    25.4\n",
      "Net Current Asset Value                                         25.2\n",
      "5Y Dividend per Share Growth (per Share)                        25.0\n",
      "enterpriseValueMultiple                                         24.8\n",
      "Short-term investments                                          24.5\n",
      "Cash and short-term investments                                 24.4\n",
      "Long-term investments                                           23.9\n",
      "Total non-current liabilities                                   23.9\n",
      "Total non-current assets                                        23.8\n",
      "Short-term debt                                                 23.6\n",
      "Total current liabilities                                       23.1\n",
      "Total current assets                                            22.9\n",
      "Long-term debt                                                  22.4\n",
      "Other Liabilities                                               21.8\n",
      "3Y Shareholders Equity Growth (per Share)                       20.9\n",
      "Payables Turnover                                               20.5\n",
      "payablesTurnover                                                20.5\n",
      "3Y Revenue Growth (per Share)                                   19.2\n",
      "3Y Net Income Growth (per Share)                                19.2\n",
      "3Y Operating CF Growth (per Share)                              19.1\n",
      "dividendYield                                                   18.1\n",
      "priceBookValueRatio                                             17.3\n",
      "priceToBookRatio                                                17.3\n",
      "EV to Operating cash flow                                       17.2\n",
      "Enterprise Value over EBITDA                                    17.2\n",
      "Enterprise Value                                                17.2\n",
      "EV to Free cash flow                                            17.2\n",
      "EV to Sales                                                     17.2\n",
      "Graham Number                                                   16.9\n",
      "PTB ratio                                                       16.9\n",
      "PB ratio                                                        16.9\n",
      "3Y Dividend per Share Growth (per Share)                        15.8\n",
      "priceFairValue                                                  11.2\n",
      "capitalExpenditureCoverageRatios                                11.1\n",
      "priceSalesRatio                                                 10.4\n",
      "companyEquityMultiplier                                          9.9\n",
      "Book Value per Share Growth                                      9.7\n",
      "Net Cash/Marketcap                                               9.2\n",
      "ebitperRevenue                                                   9.1\n",
      "grossProfitMargin                                                9.1\n",
      "eBITperRevenue                                                   9.1\n",
      "operatingCashFlowSalesRatio                                      9.1\n",
      "netProfitMargin                                                  9.1\n",
      "pretaxProfitMargin                                               9.1\n",
      "operatingProfitMargin                                            9.1\n",
      "fixedAssetTurnover                                               9.1\n",
      "priceToOperatingCashFlowsRatio                                   8.9\n",
      "Weighted Average Shares Growth                                   8.8\n",
      "POCF ratio                                                       8.3\n",
      "Graham Net-Net                                                   8.3\n",
      "Free Cash Flow Yield                                             8.3\n",
      "Receivables Turnover                                             8.0\n",
      "inventoryTurnover                                                8.0\n",
      "Inventory Turnover                                               8.0\n",
      "Debt Growth                                                      7.9\n",
      "Market Cap                                                       7.8\n",
      "EPS Diluted Growth                                               7.7\n",
      "dividendpaidAndCapexCoverageRatios                               7.7\n",
      "Average Inventory                                                7.6\n",
      "Average Payables                                                 7.6\n",
      "Asset Growth                                                     7.6\n",
      "Average Receivables                                              7.6\n",
      "Receivables growth                                               7.6\n",
      "Inventory Growth                                                 7.6\n",
      "EPS Growth                                                       7.4\n",
      "longtermDebtToCapitalization                                     7.4\n",
      "totalDebtToCapitalization                                        7.1\n",
      "R&D Expense Growth                                               6.5\n",
      "Net Income Growth                                                6.4\n",
      "SG&A Expenses Growth                                             6.4\n",
      "Free Cash Flow growth                                            6.2\n",
      "Dividends per Share Growth                                       6.2\n",
      "Weighted Average Shs Out                                         6.2\n",
      "Revenue Growth                                                   6.2\n",
      "Gross Profit Growth                                              6.1\n",
      "Cash per Share                                                   6.1\n",
      "Tangible Book Value per Share                                    6.1\n",
      "Shareholders Equity per Share                                    6.1\n",
      "cashPerShare                                                     6.1\n",
      "Book Value per Share                                             6.1\n",
      "Interest Debt per Share                                          6.1\n",
      "EBIT Growth                                                      6.1\n",
      "Operating Income Growth                                          6.1\n",
      "Operating Cash Flow growth                                       6.1\n",
      "Net Income per Share                                             6.0\n",
      "operatingCashFlowPerShare                                        6.0\n",
      "freeCashFlowPerShare                                             6.0\n",
      "Revenue per Share                                                6.0\n",
      "Free Cash Flow per Share                                         5.7\n",
      "Capex per Share                                                  5.7\n",
      "Operating Cash Flow per Share                                    5.7\n",
      "payoutRatio                                                      5.4\n",
      "Profit Margin                                                    5.3\n",
      "EBITDA Margin                                                    5.3\n",
      "ROE                                                              5.1\n",
      "returnOnEquity                                                   5.0\n",
      "Debt to Assets                                                   4.9\n",
      "Debt to Equity                                                   4.9\n",
      "Payout Ratio                                                     4.9\n",
      "Invested Capital                                                 4.9\n",
      "debtEquityRatio                                                  4.9\n",
      "debtRatio                                                        4.9\n",
      "Days Sales Outstanding                                           4.8\n",
      "Days Payables Outstanding                                        4.8\n",
      "Days of Inventory on Hand                                        4.8\n",
      "priceToFreeCashFlowsRatio                                        4.8\n",
      "priceToSalesRatio                                                4.8\n",
      "priceEarningsRatio                                               4.8\n",
      "Deposit Liabilities                                              4.8\n",
      "daysOfPayablesOutstanding                                        4.8\n",
      "daysOfInventoryOutstanding                                       4.8\n",
      "daysOfSalesOutstanding                                           4.8\n",
      "assetTurnover                                                    4.5\n",
      "Tangible Asset Value                                             4.5\n",
      "Intangibles to Total Assets                                      4.5\n",
      "interestCoverage                                                 4.5\n",
      "Stock-based compensation to Revenue                              4.3\n",
      "Retained earnings (deficit)                                      4.3\n",
      "R&D to Revenue                                                   4.3\n",
      "Free Cash Flow margin                                            4.2\n",
      "Capex to Depreciation                                            4.1\n",
      "Capex to Revenue                                                 4.1\n",
      "SG&A to Revenue                                                  4.1\n",
      "Income Quality                                                   4.1\n",
      "Dividend Yield                                                   4.0\n",
      "Earnings Yield                                                   4.0\n",
      "PE ratio                                                         4.0\n",
      "Price to Sales Ratio                                             4.0\n",
      "PFCF ratio                                                       4.0\n",
      "Net Income - Discontinued ops                                    3.9\n",
      "Net Income - Non-Controlling int                                 3.9\n",
      "Dividend per Share                                               3.9\n",
      "Preferred Dividends                                              3.9\n",
      "Interest Coverage                                                3.8\n",
      "Capex to Operating Cash Flow                                     3.8\n",
      "Dividend payments                                                3.7\n",
      "Deferred revenue                                                 3.6\n",
      "R&D Expenses                                                     3.6\n",
      "Tax assets                                                       3.5\n",
      "Tax Liabilities                                                  3.4\n",
      "Acquisitions and disposals                                       3.3\n",
      "Investments                                                      3.3\n",
      "Inventories                                                      3.0\n",
      "Weighted Average Shs Out (Dil)                                   2.9\n",
      "Issuance (buybacks) of shares                                    2.8\n",
      "Payables                                                         2.4\n",
      "Property, Plant & Equipment Net                                  2.3\n",
      "EPS Diluted                                                      2.2\n",
      "Effect of forex changes on cash                                  2.2\n",
      "Earnings before Tax                                              2.1\n",
      "Total debt                                                       2.0\n",
      "EPS                                                              1.9\n",
      "Cost of Revenue                                                  1.9\n",
      "Other comprehensive income                                       1.9\n",
      "Stock-based compensation                                         1.8\n",
      "Interest Expense                                                 1.7\n",
      "Income Tax Expense                                               1.7\n",
      "EBITDA                                                           1.7\n",
      "Operating Expenses                                               1.7\n",
      "Issuance (repayment) of debt                                     1.6\n",
      "Receivables                                                      1.5\n",
      "SG&A Expense                                                     1.5\n",
      "Net Profit Margin                                                1.5\n",
      "Cash and cash equivalents                                        1.5\n",
      "Capital Expenditure                                              1.4\n",
      "Gross Profit                                                     1.4\n",
      "Operating Income                                                 1.4\n",
      "EBIT Margin                                                      1.3\n",
      "Revenue                                                          1.2\n",
      "Free Cash Flow                                                   1.2\n",
      "Earnings Before Tax Margin                                       1.2\n",
      "Gross Margin                                                     1.2\n",
      "Operating Cash Flow                                              1.1\n",
      "Depreciation & Amortization                                      1.1\n",
      "Total liabilities                                                1.0\n",
      "Total shareholders equity                                        0.9\n",
      "Total assets                                                     0.9\n",
      "Goodwill and Intangible Assets                                   0.9\n",
      "Investing Cash flow                                              0.7\n",
      "Net Income                                                       0.6\n",
      "Consolidated Income                                              0.6\n",
      "Investment purchases and sales                                   0.6\n",
      "Net Income Com                                                   0.4\n",
      "Net cash flow / Change in cash                                   0.4\n",
      "Financing Cash Flow                                              0.3\n",
      "EBIT                                                             0.1\n",
      "Consumer Defensive                                               0.0\n",
      "Utilities                                                        0.0\n",
      "Technology                                                       0.0\n",
      "Real Estate                                                      0.0\n",
      "Industrials                                                      0.0\n",
      "Healthcare                                                       0.0\n",
      "Financial Services                                               0.0\n",
      "Energy                                                           0.0\n",
      "year_2014                                                        0.0\n",
      "Consumer Cyclical                                                0.0\n",
      "Communication Services                                           0.0\n",
      "Basic Materials                                                  0.0\n",
      "year_2018                                                        0.0\n",
      "year_2017                                                        0.0\n",
      "year_2016                                                        0.0\n",
      "year_2015                                                        0.0\n",
      "Strategy                                                         0.0\n"
     ]
    }
   ],
   "source": [
    "#Check nan values per column\n",
    "percentage_of_nan_2014 = round(df_2014_factorized.isnull().sum() * 100 / len(df_2014_factorized), 1)\n",
    "df_nan_2014 = pd.DataFrame({'Percentage of nan Values': percentage_of_nan_2014})\n",
    "df_nan_2014.sort_values('Percentage of nan Values', inplace = True, ascending = False)\n",
    "\n",
    "print(df_nan_2014)"
   ]
  },
  {
   "cell_type": "markdown",
   "metadata": {},
   "source": [
    "Besides just getting a first feel for our data set concerning zero and nan values, we also took a closer look at features with extreme or identical percentage values.\n",
    "\n",
    "Hereby we discovered a great amount of duplicate columns and other useless features, which are removed next. As all the data sets consist of the same columns, these will also be removed in the 2015-2018 data sets.\n",
    "\n",
    "As the fractions of zero and nan values may, and most certainly will vary from one year to another, we decided to drop columns due to their overstepping of a certain threshold after combining the cleaned data sets."
   ]
  },
  {
   "cell_type": "markdown",
   "metadata": {},
   "source": [
    "### 2.3.1.1 Drop columns – Unnecessary features"
   ]
  },
  {
   "cell_type": "code",
   "execution_count": 13,
   "metadata": {},
   "outputs": [],
   "source": [
    "useless_feature_columns = ['cashConversionCycle', 'operatingCycle', 'operatingProfitMargin']\n",
    "\n",
    "duplicates = ['priceToSalesRatio', 'priceEarningsRatio', 'priceToFreeCashFlowsRatio', 'priceToOperatingCashFlowsRatio', \\\n",
    "              'dividendYield', 'ebitperRevenue', 'grossProfitMargin', 'returnOnEquity', 'returnOnCapitalEmployed', \\\n",
    "              'eBTperEBIT', 'eBITperRevenue', 'payablesTurnover', 'inventoryTurnover', 'currentRatio', \\\n",
    "              'daysOfPayablesOutstanding', 'debtEquityRatio', 'interestCoverage', 'payoutRatio', 'dividendPayoutRatio', \\\n",
    "              'niperEBT', 'cashFlowCoverageRatios', 'Return on Tangible Assets', 'PTB ratio', 'PB ratio', \\\n",
    "              'Cash per Share', 'Operating Cash Flow per Share', 'Debt to Assets']\n",
    "\n",
    "columns_to_drop = useless_feature_columns + duplicates\n",
    "\n",
    "df_2014_factorized = df_2014_factorized.drop(columns = columns_to_drop)\n",
    "df_2015_factorized = df_2015_factorized.drop(columns = columns_to_drop)\n",
    "df_2016_factorized = df_2016_factorized.drop(columns = columns_to_drop)\n",
    "df_2017_factorized = df_2017_factorized.drop(columns = columns_to_drop)\n",
    "df_2018_factorized = df_2018_factorized.drop(columns = columns_to_drop)"
   ]
  },
  {
   "cell_type": "markdown",
   "metadata": {},
   "source": [
    "### 2.3.1.2 Drop columns – Zero values"
   ]
  },
  {
   "cell_type": "markdown",
   "metadata": {},
   "source": [
    "Financial Data 2014 - zero values"
   ]
  },
  {
   "cell_type": "code",
   "execution_count": 14,
   "metadata": {},
   "outputs": [],
   "source": [
    "#Check zero values per column\n",
    "percentage_of_zeroes_2014 = round(df_2014_factorized[df_2014_factorized == 0].count(axis = 0) * 100 / len(df_2014_factorized), 1)\n",
    "df_zeroes_2014 = pd.DataFrame({'Percentage of Zero Values': percentage_of_zeroes_2014})\n",
    "df_zeroes_2014.sort_values('Percentage of Zero Values', inplace = True, ascending = False)\n",
    "\n",
    "#OPTIONAL\n",
    "#print(df_zeroes_2014)"
   ]
  },
  {
   "cell_type": "markdown",
   "metadata": {},
   "source": [
    "Financial Data 2015 - zero values"
   ]
  },
  {
   "cell_type": "code",
   "execution_count": 15,
   "metadata": {},
   "outputs": [],
   "source": [
    "#Check zero values per column\n",
    "percentage_of_zeroes_2015 = round(df_2015_factorized[df_2015_factorized == 0].count(axis = 0) * 100 / len(df_2015_factorized), 1)\n",
    "df_zeroes_2015 = pd.DataFrame({'Percentage of Zero Values': percentage_of_zeroes_2015})\n",
    "df_zeroes_2015.sort_values('Percentage of Zero Values', inplace = True, ascending = False)\n",
    "\n",
    "#OPTIONAL\n",
    "#print(df_zeroes_2015)"
   ]
  },
  {
   "cell_type": "markdown",
   "metadata": {},
   "source": [
    "Financial Data 2016 - zero values"
   ]
  },
  {
   "cell_type": "code",
   "execution_count": 16,
   "metadata": {},
   "outputs": [],
   "source": [
    "#Check zero values per column\n",
    "percentage_of_zeroes_2016 = round(df_2016_factorized[df_2016_factorized == 0].count(axis = 0) * 100 / len(df_2016_factorized), 1)\n",
    "df_zeroes_2016 = pd.DataFrame({'Percentage of Zero Values': percentage_of_zeroes_2016})\n",
    "df_zeroes_2016.sort_values('Percentage of Zero Values', inplace = True, ascending = False)\n",
    "\n",
    "#OPTIONAL\n",
    "#print(df_zeroes_2016)"
   ]
  },
  {
   "cell_type": "markdown",
   "metadata": {},
   "source": [
    "Financial Data 2017 - zero values"
   ]
  },
  {
   "cell_type": "code",
   "execution_count": 17,
   "metadata": {},
   "outputs": [],
   "source": [
    "#Check zero values per column\n",
    "percentage_of_zeroes_2017 = round(df_2017_factorized[df_2017_factorized == 0].count(axis = 0) * 100 / len(df_2017_factorized), 1)\n",
    "df_zeroes_2017 = pd.DataFrame({'Percentage of Zero Values': percentage_of_zeroes_2017})\n",
    "df_zeroes_2017.sort_values('Percentage of Zero Values', inplace = True, ascending = False)\n",
    "\n",
    "#OPTIONAL\n",
    "#print(df_zeroes_2017)"
   ]
  },
  {
   "cell_type": "markdown",
   "metadata": {},
   "source": [
    "Financial Data 2018 - zero values"
   ]
  },
  {
   "cell_type": "code",
   "execution_count": 18,
   "metadata": {},
   "outputs": [],
   "source": [
    "#Check zero values per column\n",
    "percentage_of_zeroes_2018 = round(df_2018_factorized[df_2018_factorized == 0].count(axis = 0) * 100 / len(df_2018_factorized), 1)\n",
    "df_zeroes_2018 = pd.DataFrame({'Percentage of Zero Values': percentage_of_zeroes_2018})\n",
    "df_zeroes_2018.sort_values('Percentage of Zero Values', inplace = True, ascending = False)\n",
    "\n",
    "#OPTIONAL\n",
    "#print(df_zeroes_2018)"
   ]
  },
  {
   "cell_type": "markdown",
   "metadata": {},
   "source": [
    "When comparing the Zero Value Percentage Columns, corrected from the factorized sector columns, then we can see, that there are the following columns present with a threshold of more than 50%:\n",
    "\n",
    "2014: <br>\n",
    "Preferred Dividends                                              (83.7)<br>\n",
    "Net Income - Discontinued ops                                    (80.0)<br>\n",
    "Deposit Liabilities                                              (79.6)<br>\n",
    "R&D to Revenue                                                   (65.0)<br>\n",
    "Net Income - Non-Controlling int                                 (64.4)<br>\n",
    "Deferred revenue                                                 (62.4)<br>\n",
    "R&D Expenses                                                     (61.5)<br>\n",
    "R&D Expense Growth                                               (60.0)<br>\n",
    "Dividends per Share Growth                                       (57.3)<br>\n",
    "Effect of forex changes on cash                                  (51.4)<br>\n",
    "3Y Dividend per Share Growth (per Share)                         (51.1)<br>\n",
    "Dividend Yield                                                   (50.5)<br>\n",
    "Dividend per Share                                               (50.3)<br>\n",
    "<br>\n",
    "<br>\n",
    "2015: <br>\n",
    "Preferred Dividends                                              (81.8)<br>\n",
    "Net Income - Discontinued ops                                    (80.0)<br>\n",
    "Deposit Liabilities                                              (78.1)<br>\n",
    "R&D to Revenue                                                   (62.5)<br>\n",
    "Net Income - Non-Controlling int                                 (62.3)<br>\n",
    "Deferred revenue                                                 (60.8)<br>\n",
    "R&D Expenses                                                     (59.1)<br>\n",
    "Short-term investments                                           (58.5)<br>\n",
    "R&D Expense Growth                                               (58.3)<br>\n",
    "Dividends per Share Growth                                       (55.9)<br>\n",
    "<br>\n",
    "<br>\n",
    "2016:<br>\n",
    "Preferred Dividends                                              (75.0)<br>\n",
    "Net Income - Discontinued ops                                    (74.2)<br>\n",
    "Deposit Liabilities                                              (71.3)<br>\n",
    "Net Income - Non-Controlling int                                 (57.2)<br>\n",
    "R&D to Revenue                                                   (56.7)<br>\n",
    "Deferred revenue                                                 (55.2)<br>\n",
    "Short-term investments                                           (54.7)<br>\n",
    "R&D Expenses                                                     (53.4)<br>\n",
    "R&D Expense Growth                                               (52.8)<br>\n",
    "Dividends per Share Growth                                       (52.7)<br>\n",
    "<br>\n",
    "<br>\n",
    "2017:<br>\n",
    "Net Income - Discontinued ops                                    (74.2)<br>\n",
    "Preferred Dividends                                              (73.3)<br>\n",
    "Deposit Liabilities                                              (70.4)<br>\n",
    "Net Income - Non-Controlling int                                 (56.0)<br>\n",
    "R&D to Revenue                                                   (55.7)<br>\n",
    "Deferred revenue                                                 (55.4)<br>\n",
    "Short-term investments                                           (53.8)<br>\n",
    "Dividends per Share Growth                                       (53.0)<br>\n",
    "R&D Expenses                                                     (52.5)<br>\n",
    "R&D Expense Growth                                               (52.2)<br>\n",
    "<br>\n",
    "<br>\n",
    "2018:<br>\n",
    "Preferred Dividends                                              (83.5)<br>\n",
    "Deposit Liabilities                                              (79.8)<br>\n",
    "Deferred revenue                                                 (64.2)<br>\n",
    "R&D to Revenue                                                   (63.1)<br>\n",
    "Net Income - Non-Controlling int                                 (63.0)<br>\n",
    "Short-term investments                                           (59.7)<br>\n",
    "R&D Expenses                                                     (59.6)<br>\n",
    "R&D Expense Growth                                               (59.4)<br>\n",
    "Dividends per Share Growth                                       (58.4)<br>\n",
    "3Y Dividend per Share Growth (per Share)                         (55.1)<br>\n",
    "Tax assets                                                       (52.6)<br>\n",
    "<br>\n",
    "<br>\n",
    "Due to these findings, we decided to further remove from all data sets the following columns"
   ]
  },
  {
   "cell_type": "code",
   "execution_count": 19,
   "metadata": {},
   "outputs": [],
   "source": [
    "zero_value_drops = ['Preferred Dividends', 'Net Income - Discontinued ops', 'Deposit Liabilities', 'Deferred revenue', \\\n",
    "                   'Net Income - Non-Controlling int', 'R&D to Revenue', 'R&D Expenses', 'Short-term investments', \\\n",
    "                   'R&D Expense Growth', 'Dividends per Share Growth']\n",
    "\n",
    "df_2014_factorized = df_2014_factorized.drop(columns = zero_value_drops)\n",
    "df_2015_factorized = df_2015_factorized.drop(columns = zero_value_drops)\n",
    "df_2016_factorized = df_2016_factorized.drop(columns = zero_value_drops)\n",
    "df_2017_factorized = df_2017_factorized.drop(columns = zero_value_drops)\n",
    "df_2018_factorized = df_2018_factorized.drop(columns = zero_value_drops)"
   ]
  },
  {
   "cell_type": "markdown",
   "metadata": {},
   "source": [
    "### 2.3.1.2 Drop columns – NaN values"
   ]
  },
  {
   "cell_type": "markdown",
   "metadata": {},
   "source": [
    "Financial Data 2014 - NaN values"
   ]
  },
  {
   "cell_type": "code",
   "execution_count": 20,
   "metadata": {},
   "outputs": [],
   "source": [
    "#Check nan values per column\n",
    "percentage_of_nan_2014 = round(df_2014_factorized.isnull().sum() * 100 / len(df_2014_factorized), 1)\n",
    "df_nan_2014 = pd.DataFrame({'Percentage of nan Values': percentage_of_nan_2014})\n",
    "df_nan_2014.sort_values('Percentage of nan Values', inplace = True, ascending = False)\n",
    "\n",
    "#OPTIONAL\n",
    "#print(df_nan_2014)"
   ]
  },
  {
   "cell_type": "markdown",
   "metadata": {},
   "source": [
    "Financial Data 2015 - NaN values"
   ]
  },
  {
   "cell_type": "code",
   "execution_count": 21,
   "metadata": {},
   "outputs": [],
   "source": [
    "#Check nan values per column\n",
    "percentage_of_nan_2015 = round(df_2015_factorized.isnull().sum() * 100 / len(df_2015_factorized), 1)\n",
    "df_nan_2015 = pd.DataFrame({'Percentage of nan Values': percentage_of_nan_2015})\n",
    "df_nan_2015.sort_values('Percentage of nan Values', inplace = True, ascending = False)\n",
    "\n",
    "#OPTIONAL\n",
    "#print(df_nan_2015)"
   ]
  },
  {
   "cell_type": "markdown",
   "metadata": {},
   "source": [
    "Financial Data 2016 - NaN values"
   ]
  },
  {
   "cell_type": "code",
   "execution_count": 22,
   "metadata": {},
   "outputs": [],
   "source": [
    "#Check nan values per column\n",
    "percentage_of_nan_2016 = round(df_2016_factorized.isnull().sum() * 100 / len(df_2016_factorized), 1)\n",
    "df_nan_2016 = pd.DataFrame({'Percentage of nan Values': percentage_of_nan_2016})\n",
    "df_nan_2016.sort_values('Percentage of nan Values', inplace = True, ascending = False)\n",
    "\n",
    "#OPTIONAL\n",
    "#print(df_nan_2016)"
   ]
  },
  {
   "cell_type": "markdown",
   "metadata": {},
   "source": [
    "Financial Data 2017 - NaN values"
   ]
  },
  {
   "cell_type": "code",
   "execution_count": 23,
   "metadata": {},
   "outputs": [],
   "source": [
    "#Check nan values per column\n",
    "percentage_of_nan_2017 = round(df_2017_factorized.isnull().sum() * 100 / len(df_2017_factorized), 1)\n",
    "df_nan_2017 = pd.DataFrame({'Percentage of nan Values': percentage_of_nan_2017})\n",
    "df_nan_2017.sort_values('Percentage of nan Values', inplace = True, ascending = False)\n",
    "\n",
    "#OPTIONAL\n",
    "#print(df_nan_2017)"
   ]
  },
  {
   "cell_type": "markdown",
   "metadata": {},
   "source": [
    "Financial Data 2018 - NaN values"
   ]
  },
  {
   "cell_type": "code",
   "execution_count": 24,
   "metadata": {},
   "outputs": [],
   "source": [
    "#Check nan values per column\n",
    "percentage_of_nan_2018 = round(df_2018_factorized.isnull().sum() * 100 / len(df_2018_factorized), 1)\n",
    "df_nan_2018 = pd.DataFrame({'Percentage of nan Values': percentage_of_nan_2018})\n",
    "df_nan_2018.sort_values('Percentage of nan Values', inplace = True, ascending = False)\n",
    "\n",
    "#OPTIONAL\n",
    "#print(df_nan_2018)"
   ]
  },
  {
   "cell_type": "markdown",
   "metadata": {},
   "source": [
    "When comparing the NaN Value Percentage Columns we can see, that there are the following columns present with a threshold of missing values above 40%:\n",
    "\n",
    "2014: <br>\n",
    "shortTermCoverageRatios                                         51.4<br>\n",
    "cashFlowToDebtRatio                                             41.9<br>\n",
    "10Y Shareholders Equity Growth (per Share)                      41.6<br>\n",
    "10Y Revenue Growth (per Share)                                  40.6<br>\n",
    "10Y Net Income Growth (per Share)                               40.6<br>\n",
    "10Y Operating CF Growth (per Share)                             40.3<br>\n",
    "<br>\n",
    "<br>\n",
    "2015: <br>\n",
    "shortTermCoverageRatios                                         46.7<br>\n",
    "10Y Shareholders Equity Growth (per Share)                      42.9<br>\n",
    "10Y Revenue Growth (per Share)                                  42.2<br>\n",
    "10Y Net Income Growth (per Share)                               42.2<br>\n",
    "10Y Operating CF Growth (per Share)                             41.9<br>\n",
    "<br>\n",
    "<br>\n",
    "2016: <br>\n",
    "shortTermCoverageRatios                                         50.4<br>\n",
    "10Y Shareholders Equity Growth (per Share)                      47.7<br>\n",
    "10Y Net Income Growth (per Share)                               47.4<br>\n",
    "10Y Revenue Growth (per Share)                                  47.4<br>\n",
    "10Y Operating CF Growth (per Share)                             47.1<br>\n",
    "priceEarningsToGrowthRatio                                      46.2<br>\n",
    "10Y Dividend per Share Growth (per Share)                       46.1<br>\n",
    "Net Debt to EBITDA                                              44.1<br>\n",
    "nIperEBT                                                        43.5<br>\n",
    "effectiveTaxRate                                                43.5<br>\n",
    "ebtperEBIT                                                      41.4<br>\n",
    "Net Debt                                                        40.5<br>\n",
    "Other Assets                                                    40.3<br>\n",
    "<br>\n",
    "<br>\n",
    "2017: <br>\n",
    "shortTermCoverageRatios                                         50.8<br>\n",
    "10Y Shareholders Equity Growth (per Share)                      47.3<br>\n",
    "10Y Net Income Growth (per Share)                               46.8<br>\n",
    "10Y Revenue Growth (per Share)                                  46.8<br>\n",
    "10Y Operating CF Growth (per Share)                             46.6<br>\n",
    "10Y Dividend per Share Growth (per Share)                       45.8<br>\n",
    "priceEarningsToGrowthRatio                                      45.6<br>\n",
    "Net Debt to EBITDA                                              44.4<br>\n",
    "effectiveTaxRate                                                43.2<br>\n",
    "nIperEBT                                                        43.2<br>\n",
    "ebtperEBIT                                                      41.0<br>\n",
    "<br>\n",
    "<br>\n",
    "2018: <br>\n",
    "shortTermCoverageRatios                                         43.9<br>\n",
    "<br>\n",
    "<br>\n",
    "Due to these findings, we decided to further remove from all data sets the following columns"
   ]
  },
  {
   "cell_type": "code",
   "execution_count": 25,
   "metadata": {},
   "outputs": [],
   "source": [
    "nan_values_drop = ['shortTermCoverageRatios', '10Y Shareholders Equity Growth (per Share)', \\\n",
    "                   '10Y Net Income Growth (per Share)', '10Y Revenue Growth (per Share)', \\\n",
    "                  '10Y Operating CF Growth (per Share)', '10Y Dividend per Share Growth (per Share)']\n",
    "\n",
    "df_2014_factorized = df_2014_factorized.drop(columns = nan_values_drop)\n",
    "df_2015_factorized = df_2015_factorized.drop(columns = nan_values_drop)\n",
    "df_2016_factorized = df_2016_factorized.drop(columns = nan_values_drop)\n",
    "df_2017_factorized = df_2017_factorized.drop(columns = nan_values_drop)\n",
    "df_2018_factorized = df_2018_factorized.drop(columns = nan_values_drop)"
   ]
  },
  {
   "cell_type": "markdown",
   "metadata": {},
   "source": [
    "When looking at the dropped columns above, it also makes sense, in our opinion, from an economical point of view to drop these 10 year metrics, as we see such a long period as too long to be of any use."
   ]
  },
  {
   "cell_type": "markdown",
   "metadata": {},
   "source": [
    "### 2.3.2 Rows"
   ]
  },
  {
   "cell_type": "markdown",
   "metadata": {},
   "source": [
    "We decided to delete rows which still have more than 42 NaN values. I.e. all rows need at least 150 Non-NaN-values in their 192 columns (77.7%).\n",
    "We therefore delete 2491 out of 22077 rows (11.3 %)."
   ]
  },
  {
   "cell_type": "code",
   "execution_count": 26,
   "metadata": {},
   "outputs": [],
   "source": [
    "#delete rows which have less than 150 non-NaN values\n",
    "df_2014_factorized.dropna(axis=0, thresh=150, inplace=True)\n",
    "df_2015_factorized.dropna(axis=0, thresh=150, inplace=True)\n",
    "df_2016_factorized.dropna(axis=0, thresh=150, inplace=True)\n",
    "df_2017_factorized.dropna(axis=0, thresh=150, inplace=True)\n",
    "df_2018_factorized.dropna(axis=0, thresh=150, inplace=True)"
   ]
  },
  {
   "cell_type": "markdown",
   "metadata": {},
   "source": [
    "## 2.4 Outlier Handling"
   ]
  },
  {
   "cell_type": "markdown",
   "metadata": {},
   "source": [
    "We decided to handle possible outliers on a per year data set level. Furthermore, it is in our opinion of importance to do this task sectorwise. We define the upper 5 and lower 5 percent of all values in every year and sector as outliers and replace it with the corresponding threshold."
   ]
  },
  {
   "cell_type": "code",
   "execution_count": 27,
   "metadata": {},
   "outputs": [],
   "source": [
    "upper_quantile_threshold = 0.95\n",
    "lower_quantile_threshold = 0.05"
   ]
  },
  {
   "cell_type": "markdown",
   "metadata": {},
   "source": [
    "Financial Data 2014"
   ]
  },
  {
   "cell_type": "code",
   "execution_count": 28,
   "metadata": {},
   "outputs": [],
   "source": [
    "#OPTIONAL check if Outlier handling works (see below as well)\n",
    "#df_2014_factorized[df_2014_factorized['Consumer Defensive']==1].describe()"
   ]
  },
  {
   "cell_type": "code",
   "execution_count": 29,
   "metadata": {},
   "outputs": [],
   "source": [
    "df_2014_sectors_strategy = df_2014_factorized.iloc[:, -12:]\n",
    "df_2014_factorized_copy = df_2014_factorized.drop(columns = ['Consumer Cyclical', 'Consumer Defensive', \\\n",
    "                                                            'Energy', 'Financial Services', 'Healthcare', 'Industrials', \\\n",
    "                                                            'Real Estate', 'Technology', 'Utilities', 'Basic Materials', \\\n",
    "                                                             'Communication Services', 'Strategy'])\n",
    "\n",
    "df_2014_CD = df_2014_factorized_copy[df_2014_factorized['Consumer Defensive'] == 1]\n",
    "df_2014_BM = df_2014_factorized_copy[df_2014_factorized['Basic Materials'] == 1]\n",
    "df_2014_HC = df_2014_factorized_copy[df_2014_factorized['Healthcare'] == 1]\n",
    "df_2014_CC = df_2014_factorized_copy[df_2014_factorized['Consumer Cyclical'] == 1]\n",
    "df_2014_IN = df_2014_factorized_copy[df_2014_factorized['Industrials'] == 1]\n",
    "df_2014_RE = df_2014_factorized_copy[df_2014_factorized['Real Estate'] == 1]\n",
    "df_2014_CS = df_2014_factorized_copy[df_2014_factorized['Communication Services'] == 1]\n",
    "df_2014_EN = df_2014_factorized_copy[df_2014_factorized['Energy'] == 1]\n",
    "df_2014_FS = df_2014_factorized_copy[df_2014_factorized['Financial Services'] == 1]\n",
    "df_2014_UT = df_2014_factorized_copy[df_2014_factorized['Utilities'] == 1]\n",
    "df_2014_TE = df_2014_factorized_copy[df_2014_factorized['Technology'] == 1]\n",
    "\n",
    "top_quantiles = df_2014_CD.quantile(upper_quantile_threshold)\n",
    "outliers_top = (df_2014_CD > top_quantiles)\n",
    "low_quantiles = df_2014_CD.quantile(lower_quantile_threshold)\n",
    "outliers_low = (df_2014_CD < low_quantiles)\n",
    "df_2014_CD = df_2014_CD.mask(outliers_top, top_quantiles, axis=1)\n",
    "df_2014_CD = df_2014_CD.mask(outliers_low, low_quantiles, axis=1)\n",
    "\n",
    "\n",
    "dfs_to_check_2014 = [df_2014_CD, df_2014_BM, df_2014_HC, df_2014_CC, df_2014_IN, df_2014_RE, df_2014_CS, \\\n",
    "                     df_2014_EN, df_2014_FS, df_2014_UT, df_2014_TE]\n",
    "\n",
    "new_2014_dfs = []\n",
    "\n",
    "for i in range(len(dfs_to_check_2014)):\n",
    "    df_deep_copy = dfs_to_check_2014[i].copy(deep = True)\n",
    "    top_quantiles = df_deep_copy.quantile(upper_quantile_threshold)\n",
    "    outliers_top = (df_deep_copy > top_quantiles)\n",
    "\n",
    "    low_quantiles = df_deep_copy.quantile(lower_quantile_threshold)\n",
    "    outliers_low = (df_deep_copy < low_quantiles)\n",
    "\n",
    "    df_deep_copy = df_deep_copy.mask(outliers_top, top_quantiles, axis=1)\n",
    "    df_deep_copy = df_deep_copy.mask(outliers_low, low_quantiles, axis=1)\n",
    "    \n",
    "    new_2014_dfs.append(df_deep_copy)\n",
    "\n",
    "df_2014_factorized = pd.concat(new_2014_dfs)\n",
    "df_2014_factorized['Consumer Cyclical'] = df_2014_sectors_strategy['Consumer Cyclical']\n",
    "df_2014_factorized['Consumer Defensive'] = df_2014_sectors_strategy['Consumer Defensive']\n",
    "df_2014_factorized['Energy'] = df_2014_sectors_strategy['Energy']\n",
    "df_2014_factorized['Financial Services'] = df_2014_sectors_strategy['Financial Services']\n",
    "df_2014_factorized['Healthcare'] = df_2014_sectors_strategy['Healthcare']\n",
    "df_2014_factorized['Industrials'] = df_2014_sectors_strategy['Industrials']\n",
    "df_2014_factorized['Real Estate'] = df_2014_sectors_strategy['Real Estate']\n",
    "df_2014_factorized['Technology'] = df_2014_sectors_strategy['Technology']\n",
    "df_2014_factorized['Utilities'] = df_2014_sectors_strategy['Utilities']\n",
    "df_2014_factorized['Basic Materials'] = df_2014_sectors_strategy['Basic Materials']\n",
    "df_2014_factorized['Communication Services'] = df_2014_sectors_strategy['Communication Services']\n",
    "df_2014_factorized['Strategy'] = df_2014_sectors_strategy['Strategy']"
   ]
  },
  {
   "cell_type": "code",
   "execution_count": 30,
   "metadata": {},
   "outputs": [],
   "source": [
    "#OPTIONAL check if Outlier handling works (see above as well)\n",
    "#df_2014_factorized[df_2014_factorized['Consumer Defensive']==1].describe()"
   ]
  },
  {
   "cell_type": "markdown",
   "metadata": {},
   "source": [
    "Financial Data 2015"
   ]
  },
  {
   "cell_type": "code",
   "execution_count": 31,
   "metadata": {},
   "outputs": [],
   "source": [
    "df_2015_sectors_strategy = df_2015_factorized.iloc[:, -12:]\n",
    "df_2015_factorized_copy = df_2015_factorized.drop(columns = ['Consumer Cyclical', 'Consumer Defensive', \\\n",
    "                                                            'Energy', 'Financial Services', 'Healthcare', 'Industrials', \\\n",
    "                                                            'Real Estate', 'Technology', 'Utilities', 'Basic Materials', \\\n",
    "                                                             'Communication Services', 'Strategy'])\n",
    "\n",
    "df_2015_CD = df_2015_factorized_copy[df_2015_factorized['Consumer Defensive'] == 1]\n",
    "df_2015_BM = df_2015_factorized_copy[df_2015_factorized['Basic Materials'] == 1]\n",
    "df_2015_HC = df_2015_factorized_copy[df_2015_factorized['Healthcare'] == 1]\n",
    "df_2015_CC = df_2015_factorized_copy[df_2015_factorized['Consumer Cyclical'] == 1]\n",
    "df_2015_IN = df_2015_factorized_copy[df_2015_factorized['Industrials'] == 1]\n",
    "df_2015_RE = df_2015_factorized_copy[df_2015_factorized['Real Estate'] == 1]\n",
    "df_2015_CS = df_2015_factorized_copy[df_2015_factorized['Communication Services'] == 1]\n",
    "df_2015_EN = df_2015_factorized_copy[df_2015_factorized['Energy'] == 1]\n",
    "df_2015_FS = df_2015_factorized_copy[df_2015_factorized['Financial Services'] == 1]\n",
    "df_2015_UT = df_2015_factorized_copy[df_2015_factorized['Utilities'] == 1]\n",
    "df_2015_TE = df_2015_factorized_copy[df_2015_factorized['Technology'] == 1]\n",
    "\n",
    "top_quantiles = df_2015_CD.quantile(upper_quantile_threshold)\n",
    "outliers_top = (df_2015_CD > top_quantiles)\n",
    "low_quantiles = df_2015_CD.quantile(lower_quantile_threshold)\n",
    "outliers_low = (df_2015_CD < low_quantiles)\n",
    "df_2015_CD = df_2015_CD.mask(outliers_top, top_quantiles, axis=1)\n",
    "df_2015_CD = df_2015_CD.mask(outliers_low, low_quantiles, axis=1)\n",
    "\n",
    "\n",
    "dfs_to_check_2015 = [df_2015_CD, df_2015_BM, df_2015_HC, df_2015_CC, df_2015_IN, df_2015_RE, df_2015_CS, \\\n",
    "                     df_2015_EN, df_2015_FS, df_2015_UT, df_2015_TE]\n",
    "\n",
    "new_2015_dfs = []\n",
    "\n",
    "for i in range(len(dfs_to_check_2015)):\n",
    "    df_deep_copy = dfs_to_check_2015[i].copy(deep = True)\n",
    "    top_quantiles = df_deep_copy.quantile(upper_quantile_threshold)\n",
    "    outliers_top = (df_deep_copy > top_quantiles)\n",
    "\n",
    "    low_quantiles = df_deep_copy.quantile(lower_quantile_threshold)\n",
    "    outliers_low = (df_deep_copy < low_quantiles)\n",
    "\n",
    "    df_deep_copy = df_deep_copy.mask(outliers_top, top_quantiles, axis=1)\n",
    "    df_deep_copy = df_deep_copy.mask(outliers_low, low_quantiles, axis=1)\n",
    "    \n",
    "    new_2015_dfs.append(df_deep_copy)\n",
    "\n",
    "df_2015_factorized = pd.concat(new_2015_dfs)\n",
    "df_2015_factorized['Consumer Cyclical'] = df_2015_sectors_strategy['Consumer Cyclical']\n",
    "df_2015_factorized['Consumer Defensive'] = df_2015_sectors_strategy['Consumer Defensive']\n",
    "df_2015_factorized['Energy'] = df_2015_sectors_strategy['Energy']\n",
    "df_2015_factorized['Financial Services'] = df_2015_sectors_strategy['Financial Services']\n",
    "df_2015_factorized['Healthcare'] = df_2015_sectors_strategy['Healthcare']\n",
    "df_2015_factorized['Industrials'] = df_2015_sectors_strategy['Industrials']\n",
    "df_2015_factorized['Real Estate'] = df_2015_sectors_strategy['Real Estate']\n",
    "df_2015_factorized['Technology'] = df_2015_sectors_strategy['Technology']\n",
    "df_2015_factorized['Utilities'] = df_2015_sectors_strategy['Utilities']\n",
    "df_2015_factorized['Basic Materials'] = df_2015_sectors_strategy['Basic Materials']\n",
    "df_2015_factorized['Communication Services'] = df_2015_sectors_strategy['Communication Services']\n",
    "df_2015_factorized['Strategy'] = df_2015_sectors_strategy['Strategy']"
   ]
  },
  {
   "cell_type": "markdown",
   "metadata": {},
   "source": [
    "Financial Data 2016"
   ]
  },
  {
   "cell_type": "code",
   "execution_count": 32,
   "metadata": {},
   "outputs": [],
   "source": [
    "df_2016_sectors_strategy = df_2016_factorized.iloc[:, -12:]\n",
    "df_2016_factorized_copy = df_2016_factorized.drop(columns = ['Consumer Cyclical', 'Consumer Defensive', \\\n",
    "                                                            'Energy', 'Financial Services', 'Healthcare', 'Industrials', \\\n",
    "                                                            'Real Estate', 'Technology', 'Utilities', 'Basic Materials', \\\n",
    "                                                             'Communication Services', 'Strategy'])\n",
    "\n",
    "df_2016_CD = df_2016_factorized_copy[df_2016_factorized['Consumer Defensive'] == 1]\n",
    "df_2016_BM = df_2016_factorized_copy[df_2016_factorized['Basic Materials'] == 1]\n",
    "df_2016_HC = df_2016_factorized_copy[df_2016_factorized['Healthcare'] == 1]\n",
    "df_2016_CC = df_2016_factorized_copy[df_2016_factorized['Consumer Cyclical'] == 1]\n",
    "df_2016_IN = df_2016_factorized_copy[df_2016_factorized['Industrials'] == 1]\n",
    "df_2016_RE = df_2016_factorized_copy[df_2016_factorized['Real Estate'] == 1]\n",
    "df_2016_CS = df_2016_factorized_copy[df_2016_factorized['Communication Services'] == 1]\n",
    "df_2016_EN = df_2016_factorized_copy[df_2016_factorized['Energy'] == 1]\n",
    "df_2016_FS = df_2016_factorized_copy[df_2016_factorized['Financial Services'] == 1]\n",
    "df_2016_UT = df_2016_factorized_copy[df_2016_factorized['Utilities'] == 1]\n",
    "df_2016_TE = df_2016_factorized_copy[df_2016_factorized['Technology'] == 1]\n",
    "\n",
    "top_quantiles = df_2016_CD.quantile(upper_quantile_threshold)\n",
    "outliers_top = (df_2016_CD > top_quantiles)\n",
    "low_quantiles = df_2016_CD.quantile(lower_quantile_threshold)\n",
    "outliers_low = (df_2016_CD < low_quantiles)\n",
    "df_2016_CD = df_2016_CD.mask(outliers_top, top_quantiles, axis=1)\n",
    "df_2016_CD = df_2016_CD.mask(outliers_low, low_quantiles, axis=1)\n",
    "\n",
    "\n",
    "dfs_to_check_2016 = [df_2016_CD, df_2016_BM, df_2016_HC, df_2016_CC, df_2016_IN, df_2016_RE, df_2016_CS, \\\n",
    "                     df_2016_EN, df_2016_FS, df_2016_UT, df_2016_TE]\n",
    "\n",
    "new_2016_dfs = []\n",
    "\n",
    "for i in range(len(dfs_to_check_2016)):\n",
    "    df_deep_copy = dfs_to_check_2016[i].copy(deep = True)\n",
    "    top_quantiles = df_deep_copy.quantile(upper_quantile_threshold)\n",
    "    outliers_top = (df_deep_copy > top_quantiles)\n",
    "\n",
    "    low_quantiles = df_deep_copy.quantile(lower_quantile_threshold)\n",
    "    outliers_low = (df_deep_copy < low_quantiles)\n",
    "\n",
    "    df_deep_copy = df_deep_copy.mask(outliers_top, top_quantiles, axis=1)\n",
    "    df_deep_copy = df_deep_copy.mask(outliers_low, low_quantiles, axis=1)\n",
    "    \n",
    "    new_2016_dfs.append(df_deep_copy)\n",
    "\n",
    "df_2016_factorized = pd.concat(new_2016_dfs)\n",
    "df_2016_factorized['Consumer Cyclical'] = df_2016_sectors_strategy['Consumer Cyclical']\n",
    "df_2016_factorized['Consumer Defensive'] = df_2016_sectors_strategy['Consumer Defensive']\n",
    "df_2016_factorized['Energy'] = df_2016_sectors_strategy['Energy']\n",
    "df_2016_factorized['Financial Services'] = df_2016_sectors_strategy['Financial Services']\n",
    "df_2016_factorized['Healthcare'] = df_2016_sectors_strategy['Healthcare']\n",
    "df_2016_factorized['Industrials'] = df_2016_sectors_strategy['Industrials']\n",
    "df_2016_factorized['Real Estate'] = df_2016_sectors_strategy['Real Estate']\n",
    "df_2016_factorized['Technology'] = df_2016_sectors_strategy['Technology']\n",
    "df_2016_factorized['Utilities'] = df_2016_sectors_strategy['Utilities']\n",
    "df_2016_factorized['Basic Materials'] = df_2016_sectors_strategy['Basic Materials']\n",
    "df_2016_factorized['Communication Services'] = df_2016_sectors_strategy['Communication Services']\n",
    "df_2016_factorized['Strategy'] = df_2016_sectors_strategy['Strategy']"
   ]
  },
  {
   "cell_type": "markdown",
   "metadata": {},
   "source": [
    "Financial Data 2017"
   ]
  },
  {
   "cell_type": "code",
   "execution_count": 33,
   "metadata": {},
   "outputs": [],
   "source": [
    "df_2017_sectors_strategy = df_2017_factorized.iloc[:, -12:]\n",
    "df_2017_factorized_copy = df_2017_factorized.drop(columns = ['Consumer Cyclical', 'Consumer Defensive', \\\n",
    "                                                            'Energy', 'Financial Services', 'Healthcare', 'Industrials', \\\n",
    "                                                            'Real Estate', 'Technology', 'Utilities', 'Basic Materials', \\\n",
    "                                                             'Communication Services', 'Strategy'])\n",
    "\n",
    "df_2017_CD = df_2017_factorized_copy[df_2017_factorized['Consumer Defensive'] == 1]\n",
    "df_2017_BM = df_2017_factorized_copy[df_2017_factorized['Basic Materials'] == 1]\n",
    "df_2017_HC = df_2017_factorized_copy[df_2017_factorized['Healthcare'] == 1]\n",
    "df_2017_CC = df_2017_factorized_copy[df_2017_factorized['Consumer Cyclical'] == 1]\n",
    "df_2017_IN = df_2017_factorized_copy[df_2017_factorized['Industrials'] == 1]\n",
    "df_2017_RE = df_2017_factorized_copy[df_2017_factorized['Real Estate'] == 1]\n",
    "df_2017_CS = df_2017_factorized_copy[df_2017_factorized['Communication Services'] == 1]\n",
    "df_2017_EN = df_2017_factorized_copy[df_2017_factorized['Energy'] == 1]\n",
    "df_2017_FS = df_2017_factorized_copy[df_2017_factorized['Financial Services'] == 1]\n",
    "df_2017_UT = df_2017_factorized_copy[df_2017_factorized['Utilities'] == 1]\n",
    "df_2017_TE = df_2017_factorized_copy[df_2017_factorized['Technology'] == 1]\n",
    "\n",
    "top_quantiles = df_2017_CD.quantile(upper_quantile_threshold)\n",
    "outliers_top = (df_2017_CD > top_quantiles)\n",
    "low_quantiles = df_2017_CD.quantile(lower_quantile_threshold)\n",
    "outliers_low = (df_2017_CD < low_quantiles)\n",
    "df_2017_CD = df_2017_CD.mask(outliers_top, top_quantiles, axis=1)\n",
    "df_2017_CD = df_2017_CD.mask(outliers_low, low_quantiles, axis=1)\n",
    "\n",
    "\n",
    "dfs_to_check_2017 = [df_2017_CD, df_2017_BM, df_2017_HC, df_2017_CC, df_2017_IN, df_2017_RE, df_2017_CS, \\\n",
    "                     df_2017_EN, df_2017_FS, df_2017_UT, df_2017_TE]\n",
    "\n",
    "new_2017_dfs = []\n",
    "\n",
    "for i in range(len(dfs_to_check_2017)):\n",
    "    df_deep_copy = dfs_to_check_2017[i].copy(deep = True)\n",
    "    top_quantiles = df_deep_copy.quantile(upper_quantile_threshold)\n",
    "    outliers_top = (df_deep_copy > top_quantiles)\n",
    "\n",
    "    low_quantiles = df_deep_copy.quantile(lower_quantile_threshold)\n",
    "    outliers_low = (df_deep_copy < low_quantiles)\n",
    "\n",
    "    df_deep_copy = df_deep_copy.mask(outliers_top, top_quantiles, axis=1)\n",
    "    df_deep_copy = df_deep_copy.mask(outliers_low, low_quantiles, axis=1)\n",
    "    \n",
    "    new_2017_dfs.append(df_deep_copy)\n",
    "\n",
    "df_2017_factorized = pd.concat(new_2017_dfs)\n",
    "df_2017_factorized['Consumer Cyclical'] = df_2017_sectors_strategy['Consumer Cyclical']\n",
    "df_2017_factorized['Consumer Defensive'] = df_2017_sectors_strategy['Consumer Defensive']\n",
    "df_2017_factorized['Energy'] = df_2017_sectors_strategy['Energy']\n",
    "df_2017_factorized['Financial Services'] = df_2017_sectors_strategy['Financial Services']\n",
    "df_2017_factorized['Healthcare'] = df_2017_sectors_strategy['Healthcare']\n",
    "df_2017_factorized['Industrials'] = df_2017_sectors_strategy['Industrials']\n",
    "df_2017_factorized['Real Estate'] = df_2017_sectors_strategy['Real Estate']\n",
    "df_2017_factorized['Technology'] = df_2017_sectors_strategy['Technology']\n",
    "df_2017_factorized['Utilities'] = df_2017_sectors_strategy['Utilities']\n",
    "df_2017_factorized['Basic Materials'] = df_2017_sectors_strategy['Basic Materials']\n",
    "df_2017_factorized['Communication Services'] = df_2017_sectors_strategy['Communication Services']\n",
    "df_2017_factorized['Strategy'] = df_2017_sectors_strategy['Strategy']"
   ]
  },
  {
   "cell_type": "markdown",
   "metadata": {},
   "source": [
    "Financial Data 2018"
   ]
  },
  {
   "cell_type": "code",
   "execution_count": 34,
   "metadata": {},
   "outputs": [],
   "source": [
    "df_2018_sectors_strategy = df_2018_factorized.iloc[:, -12:]\n",
    "df_2018_factorized_copy = df_2018_factorized.drop(columns = ['Consumer Cyclical', 'Consumer Defensive', \\\n",
    "                                                            'Energy', 'Financial Services', 'Healthcare', 'Industrials', \\\n",
    "                                                            'Real Estate', 'Technology', 'Utilities', 'Basic Materials', \\\n",
    "                                                             'Communication Services', 'Strategy'])\n",
    "\n",
    "df_2018_CD = df_2018_factorized_copy[df_2018_factorized['Consumer Defensive'] == 1]\n",
    "df_2018_BM = df_2018_factorized_copy[df_2018_factorized['Basic Materials'] == 1]\n",
    "df_2018_HC = df_2018_factorized_copy[df_2018_factorized['Healthcare'] == 1]\n",
    "df_2018_CC = df_2018_factorized_copy[df_2018_factorized['Consumer Cyclical'] == 1]\n",
    "df_2018_IN = df_2018_factorized_copy[df_2018_factorized['Industrials'] == 1]\n",
    "df_2018_RE = df_2018_factorized_copy[df_2018_factorized['Real Estate'] == 1]\n",
    "df_2018_CS = df_2018_factorized_copy[df_2018_factorized['Communication Services'] == 1]\n",
    "df_2018_EN = df_2018_factorized_copy[df_2018_factorized['Energy'] == 1]\n",
    "df_2018_FS = df_2018_factorized_copy[df_2018_factorized['Financial Services'] == 1]\n",
    "df_2018_UT = df_2018_factorized_copy[df_2018_factorized['Utilities'] == 1]\n",
    "df_2018_TE = df_2018_factorized_copy[df_2018_factorized['Technology'] == 1]\n",
    "\n",
    "top_quantiles = df_2018_CD.quantile(upper_quantile_threshold)\n",
    "outliers_top = (df_2018_CD > top_quantiles)\n",
    "low_quantiles = df_2018_CD.quantile(lower_quantile_threshold)\n",
    "outliers_low = (df_2018_CD < low_quantiles)\n",
    "df_2018_CD = df_2018_CD.mask(outliers_top, top_quantiles, axis=1)\n",
    "df_2018_CD = df_2018_CD.mask(outliers_low, low_quantiles, axis=1)\n",
    "\n",
    "\n",
    "dfs_to_check_2018 = [df_2018_CD, df_2018_BM, df_2018_HC, df_2018_CC, df_2018_IN, df_2018_RE, df_2018_CS, \\\n",
    "                     df_2018_EN, df_2018_FS, df_2018_UT, df_2018_TE]\n",
    "\n",
    "new_2018_dfs = []\n",
    "\n",
    "for i in range(len(dfs_to_check_2018)):\n",
    "    df_deep_copy = dfs_to_check_2018[i].copy(deep = True)\n",
    "    top_quantiles = df_deep_copy.quantile(upper_quantile_threshold)\n",
    "    outliers_top = (df_deep_copy > top_quantiles)\n",
    "\n",
    "    low_quantiles = df_deep_copy.quantile(lower_quantile_threshold)\n",
    "    outliers_low = (df_deep_copy < low_quantiles)\n",
    "\n",
    "    df_deep_copy = df_deep_copy.mask(outliers_top, top_quantiles, axis=1)\n",
    "    df_deep_copy = df_deep_copy.mask(outliers_low, low_quantiles, axis=1)\n",
    "    \n",
    "    new_2018_dfs.append(df_deep_copy)\n",
    "\n",
    "df_2018_factorized = pd.concat(new_2018_dfs)\n",
    "df_2018_factorized['Consumer Cyclical'] = df_2018_sectors_strategy['Consumer Cyclical']\n",
    "df_2018_factorized['Consumer Defensive'] = df_2018_sectors_strategy['Consumer Defensive']\n",
    "df_2018_factorized['Energy'] = df_2018_sectors_strategy['Energy']\n",
    "df_2018_factorized['Financial Services'] = df_2018_sectors_strategy['Financial Services']\n",
    "df_2018_factorized['Healthcare'] = df_2018_sectors_strategy['Healthcare']\n",
    "df_2018_factorized['Industrials'] = df_2018_sectors_strategy['Industrials']\n",
    "df_2018_factorized['Real Estate'] = df_2018_sectors_strategy['Real Estate']\n",
    "df_2018_factorized['Technology'] = df_2018_sectors_strategy['Technology']\n",
    "df_2018_factorized['Utilities'] = df_2018_sectors_strategy['Utilities']\n",
    "df_2018_factorized['Basic Materials'] = df_2018_sectors_strategy['Basic Materials']\n",
    "df_2018_factorized['Communication Services'] = df_2018_sectors_strategy['Communication Services']\n",
    "df_2018_factorized['Strategy'] = df_2018_sectors_strategy['Strategy']"
   ]
  },
  {
   "cell_type": "markdown",
   "metadata": {},
   "source": [
    "## 2.5 Imputation of missing values"
   ]
  },
  {
   "cell_type": "markdown",
   "metadata": {},
   "source": [
    "We decided to impute missing values on a per year data set level. Furthermore, it is in our opinion of importance to do this task sectorwise as the outlier handling. We imputed with the median strategy with the help of SimpleImputer."
   ]
  },
  {
   "cell_type": "markdown",
   "metadata": {},
   "source": [
    "Financial Data 2014"
   ]
  },
  {
   "cell_type": "code",
   "execution_count": 35,
   "metadata": {},
   "outputs": [],
   "source": [
    "sectors = ['Consumer Defensive','Basic Materials','Healthcare', 'Consumer Cyclical', 'Industrials','Real Estate', 'Communication Services',\n",
    "          'Energy', 'Financial Services','Utilities','Technology']\n",
    "df_names = {'imp_CD':[],'imp_BM':[],'imp_HC':[],'imp_CC':[],'imp_II':[],'imp_RE':[],\n",
    "            'imp_CS':[],'imp_EE':[],'imp_FS':[],'imp_UU':[],'imp_TC':[]}\n",
    "frames_to_concat_2014 = []\n",
    "for i, j in zip(sectors, df_names):\n",
    "    ipr = SimpleImputer(missing_values=np.nan, strategy='median')\n",
    "    ipr = ipr.fit(df_2014_factorized[df_2014_factorized[i] == 1].values)\n",
    "    df_names[j] = ipr.transform(df_2014_factorized[df_2014_factorized[i] == 1].values)\n",
    "    df_names[j] = pd.DataFrame(df_names[j])\n",
    "    frames_to_concat_2014.append(df_names[j])\n",
    "\n",
    "df_2014_factorized_imputed = pd.concat(frames_to_concat_2014)\n",
    "df_2014_factorized_imputed.columns = df_2014_factorized.columns"
   ]
  },
  {
   "cell_type": "markdown",
   "metadata": {},
   "source": [
    "Financial Data 2015"
   ]
  },
  {
   "cell_type": "code",
   "execution_count": 36,
   "metadata": {},
   "outputs": [],
   "source": [
    "sectors = ['Consumer Defensive','Basic Materials','Healthcare', 'Consumer Cyclical', 'Industrials','Real Estate', 'Communication Services',\n",
    "          'Energy', 'Financial Services','Utilities','Technology']\n",
    "df_names = {'imp_CD':[],'imp_BM':[],'imp_HC':[],'imp_CC':[],'imp_II':[],'imp_RE':[],\n",
    "            'imp_CS':[],'imp_EE':[],'imp_FS':[],'imp_UU':[],'imp_TC':[]}\n",
    "frames_to_concat_2015 = []\n",
    "for i, j in zip(sectors, df_names):\n",
    "    ipr = SimpleImputer(missing_values=np.nan, strategy='median')\n",
    "    ipr = ipr.fit(df_2015_factorized[df_2015_factorized[i] == 1].values)\n",
    "    df_names[j] = ipr.transform(df_2015_factorized[df_2015_factorized[i] == 1].values)\n",
    "    df_names[j] = pd.DataFrame(df_names[j])\n",
    "    frames_to_concat_2015.append(df_names[j])\n",
    "\n",
    "df_2015_factorized_imputed = pd.concat(frames_to_concat_2015)\n",
    "df_2015_factorized_imputed.columns = df_2015_factorized.columns\n"
   ]
  },
  {
   "cell_type": "markdown",
   "metadata": {},
   "source": [
    "Financial Data 2016"
   ]
  },
  {
   "cell_type": "code",
   "execution_count": 37,
   "metadata": {},
   "outputs": [],
   "source": [
    "sectors = ['Consumer Defensive','Basic Materials','Healthcare', 'Consumer Cyclical', 'Industrials','Real Estate', 'Communication Services',\n",
    "          'Energy', 'Financial Services','Utilities','Technology']\n",
    "df_names = {'imp_CD':[],'imp_BM':[],'imp_HC':[],'imp_CC':[],'imp_II':[],'imp_RE':[],\n",
    "            'imp_CS':[],'imp_EE':[],'imp_FS':[],'imp_UU':[],'imp_TC':[]}\n",
    "frames_to_concat_2016 = []\n",
    "for i, j in zip(sectors, df_names):\n",
    "    ipr = SimpleImputer(missing_values=np.nan, strategy='median')\n",
    "    ipr = ipr.fit(df_2016_factorized[df_2016_factorized[i] == 1].values)\n",
    "    df_names[j] = ipr.transform(df_2016_factorized[df_2016_factorized[i] == 1].values)\n",
    "    df_names[j] = pd.DataFrame(df_names[j])\n",
    "    frames_to_concat_2016.append(df_names[j])\n",
    "\n",
    "df_2016_factorized_imputed = pd.concat(frames_to_concat_2016)\n",
    "df_2016_factorized_imputed.columns = df_2016_factorized.columns"
   ]
  },
  {
   "cell_type": "markdown",
   "metadata": {},
   "source": [
    "Financial Data 2017"
   ]
  },
  {
   "cell_type": "code",
   "execution_count": 38,
   "metadata": {},
   "outputs": [],
   "source": [
    "sectors = ['Consumer Defensive','Basic Materials','Healthcare', 'Consumer Cyclical', 'Industrials','Real Estate', 'Communication Services',\n",
    "          'Energy', 'Financial Services','Utilities','Technology']\n",
    "df_names = {'imp_CD':[],'imp_BM':[],'imp_HC':[],'imp_CC':[],'imp_II':[],'imp_RE':[],\n",
    "            'imp_CS':[],'imp_EE':[],'imp_FS':[],'imp_UU':[],'imp_TC':[]}\n",
    "frames_to_concat_2017 = []\n",
    "for i, j in zip(sectors, df_names):\n",
    "    ipr = SimpleImputer(missing_values=np.nan, strategy='median')\n",
    "    ipr = ipr.fit(df_2017_factorized[df_2017_factorized[i] == 1].values)\n",
    "    df_names[j] = ipr.transform(df_2017_factorized[df_2017_factorized[i] == 1].values)\n",
    "    df_names[j] = pd.DataFrame(df_names[j])\n",
    "    frames_to_concat_2017.append(df_names[j])\n",
    "\n",
    "df_2017_factorized_imputed = pd.concat(frames_to_concat_2017)\n",
    "df_2017_factorized_imputed.columns = df_2017_factorized.columns"
   ]
  },
  {
   "cell_type": "markdown",
   "metadata": {},
   "source": [
    "Financial Data 2018"
   ]
  },
  {
   "cell_type": "code",
   "execution_count": 39,
   "metadata": {},
   "outputs": [],
   "source": [
    "sectors = ['Consumer Defensive','Basic Materials','Healthcare', 'Consumer Cyclical', 'Industrials','Real Estate', 'Communication Services',\n",
    "          'Energy', 'Financial Services','Utilities','Technology']\n",
    "df_names = {'imp_CD':[],'imp_BM':[],'imp_HC':[],'imp_CC':[],'imp_II':[],'imp_RE':[],\n",
    "            'imp_CS':[],'imp_EE':[],'imp_FS':[],'imp_UU':[],'imp_TC':[]}\n",
    "frames_to_concat_2018 = []\n",
    "for i, j in zip(sectors, df_names):\n",
    "    ipr = SimpleImputer(missing_values=np.nan, strategy='median')\n",
    "    ipr = ipr.fit(df_2018_factorized[df_2018_factorized[i] == 1].values)\n",
    "    df_names[j] = ipr.transform(df_2018_factorized[df_2018_factorized[i] == 1].values)\n",
    "    df_names[j] = pd.DataFrame(df_names[j])\n",
    "    frames_to_concat_2018.append(df_names[j])\n",
    "\n",
    "df_2018_factorized_imputed = pd.concat(frames_to_concat_2018)\n",
    "df_2018_factorized_imputed.columns = df_2018_factorized.columns"
   ]
  },
  {
   "cell_type": "markdown",
   "metadata": {},
   "source": [
    "Finally, we can concatenate our yearly data frames."
   ]
  },
  {
   "cell_type": "code",
   "execution_count": 40,
   "metadata": {},
   "outputs": [],
   "source": [
    "#Concatenating all yearly data frames\n",
    "all_frames = [df_2014_factorized_imputed, df_2015_factorized_imputed, df_2016_factorized_imputed, \\\n",
    "              df_2017_factorized_imputed, df_2018_factorized_imputed]\n",
    "\n",
    "df_complete = pd.concat(all_frames)"
   ]
  },
  {
   "cell_type": "markdown",
   "metadata": {},
   "source": [
    "We than do a zero-value-check again. Because we imputed with the median (which can be zero of course), it's possible that some columns now have a high number of zero-values."
   ]
  },
  {
   "cell_type": "code",
   "execution_count": 41,
   "metadata": {},
   "outputs": [
    {
     "name": "stdout",
     "output_type": "stream",
     "text": [
      "                                           Percentage of Zero Values\n",
      "Communication Services                                     98.100684\n",
      "Utilities                                                  97.528847\n",
      "Consumer Defensive                                         95.644848\n",
      "Energy                                                     94.414378\n",
      "Real Estate                                                94.271418\n",
      "Basic Materials                                            93.515777\n",
      "Consumer Cyclical                                          88.113959\n",
      "Industrials                                                86.520984\n",
      "Technology                                                 84.565506\n",
      "Healthcare                                                 83.728173\n",
      "Financial Services                                         83.595425\n",
      "year_2014                                                  81.920760\n",
      "year_2015                                                  80.782191\n",
      "year_2016                                                  79.403656\n",
      "year_2017                                                  79.000306\n",
      "year_2018                                                  78.893087\n",
      "5Y Dividend per Share Growth (per Share)                   64.954559\n",
      "3Y Dividend per Share Growth (per Share)                   61.988155\n",
      "Payout Ratio                                               54.156030\n",
      "Dividend Yield                                             52.813234\n",
      "Dividend per Share                                         52.583478\n",
      "Tax assets                                                 52.231186\n",
      "Dividend payments                                          51.853365\n",
      "Long-term investments                                      51.577658\n",
      "Effect of forex changes on cash                            51.521495\n",
      "Acquisitions and disposals                                 50.418666\n",
      "5Y Net Income Growth (per Share)                           48.090473\n",
      "daysOfSalesOutstanding                                     47.008067\n",
      "Days of Inventory on Hand                                  47.008067\n",
      "Inventory Growth                                           46.798734\n",
      "Tax Liabilities                                            46.579189\n",
      "Inventories                                                45.884816\n",
      "Inventory Turnover                                         45.323190\n",
      "Average Inventory                                          44.996426\n",
      "3Y Net Income Growth (per Share)                           44.960686\n",
      "Investment purchases and sales                             41.887062\n",
      "Short-term debt                                            41.555192\n",
      "Strategy                                                   39.839681\n",
      "Investments                                                37.537016\n",
      "PFCF ratio                                                 35.433473\n",
      "PE ratio                                                   34.315327\n",
      "5Y Operating CF Growth (per Share)                         31.757378\n",
      "3Y Operating CF Growth (per Share)                         31.609313\n",
      "Graham Number                                              29.618095\n",
      "Interest Expense                                           27.126519\n",
      "Capex to Operating Cash Flow                               26.575105\n",
      "Intangibles to Total Assets                                26.421934\n",
      "Goodwill and Intangible Assets                             26.324926\n",
      "Interest Coverage                                          26.222812\n",
      "longtermDebtToCapitalization                               24.594098\n",
      "Other comprehensive income                                 24.349025\n",
      "Long-term debt                                             21.806392\n",
      "Enterprise Value over EBITDA                               21.239661\n",
      "totalDebtToCapitalization                                  20.754621\n",
      "Cost of Revenue                                            20.417645\n",
      "Stock-based compensation to Revenue                        19.820280\n",
      "Debt Growth                                                19.544573\n",
      "priceToBookRatio                                           18.814459\n",
      "Debt to Equity                                             18.768508\n",
      "Issuance (buybacks) of shares                              17.711631\n",
      "Interest Debt per Share                                    17.369550\n",
      "debtRatio                                                  17.313387\n",
      "Total debt                                                 17.262330\n",
      "Issuance (repayment) of debt                               17.216379\n",
      "Receivables growth                                         16.894721\n",
      "daysOfInventoryOutstanding                                 16.772184\n",
      "Days Sales Outstanding                                     16.772184\n",
      "Receivables Turnover                                       15.919534\n",
      "Receivables                                                15.373226\n",
      "Stock-based compensation                                   14.847340\n",
      "Payables Turnover                                          14.270397\n",
      "Days Payables Outstanding                                  14.219340\n",
      "Average Receivables                                        14.198918\n",
      "Income Tax Expense                                         13.438170\n",
      "5Y Shareholders Equity Growth (per Share)                  12.478301\n",
      "3Y Shareholders Equity Growth (per Share)                  11.906464\n",
      "Payables                                                   10.047993\n",
      "Average Payables                                            9.772286\n",
      "Capex to Revenue                                            8.649035\n",
      "ROIC                                                        7.239865\n",
      "Capex to Depreciation                                       7.081589\n",
      "3Y Revenue Growth (per Share)                               6.948841\n",
      "5Y Revenue Growth (per Share)                               6.749719\n",
      "SG&A to Revenue                                             5.549883\n",
      "Capital Expenditure                                         5.325232\n",
      "Capex per Share                                             5.243541\n",
      "Revenue Growth                                              4.993363\n",
      "Gross Profit Growth                                         4.942306\n",
      "Weighted Average Shares Diluted Growth                      4.824875\n",
      "EBIT Margin                                                 4.625753\n",
      "Net Profit Margin                                           4.559379\n",
      "Gross Margin                                                4.533851\n",
      "Earnings Before Tax Margin                                  4.513428\n",
      "Free Cash Flow margin                                       4.513428\n",
      "Gross Profit                                                4.503217\n",
      "priceBookValueRatio                                         3.982436\n",
      "Revenue per Share                                           3.946697\n",
      "Revenue                                                     3.931380\n",
      "assetTurnover                                               3.931380\n",
      "Price to Sales Ratio                                        3.916062\n",
      "effectiveTaxRate                                            3.844583\n",
      "Weighted Average Shares Growth                              3.706729\n",
      "Property, Plant & Equipment Net                             3.686307\n",
      "fixedAssetTurnover                                          3.589298\n",
      "EV to Sales                                                 3.400388\n",
      "Depreciation & Amortization                                 2.777494\n",
      "SG&A Expenses Growth                                        2.491576\n",
      "priceSalesRatio                                             2.394568\n",
      "Other Liabilities                                           2.180129\n",
      "Retained earnings (deficit)                                 2.123966\n",
      "Total non-current liabilities                               1.838048\n",
      "Investing Cash flow                                         1.766568\n",
      "priceFairValue                                              1.700194\n",
      "priceCashFlowRatio                                          1.516389\n",
      "SG&A Expense                                                1.353007\n",
      "EPS Diluted Growth                                          1.301950\n",
      "EPS Growth                                                  1.291739\n",
      "priceEarningsToGrowthRatio                                  1.240682\n",
      "Financing Cash Flow                                         0.862861\n",
      "Other Assets                                                0.622894\n",
      "Profit Margin                                               0.464618\n",
      "Earnings Yield                                              0.418666\n",
      "EPS Diluted                                                 0.408455\n",
      "EPS                                                         0.408455\n",
      "Net cash flow / Change in cash                              0.316553\n",
      "Net Cash/Marketcap                                          0.306341\n",
      "Net Income Growth                                           0.234862\n",
      "Operating Cash Flow growth                                  0.229756\n",
      "Net Income per Share                                        0.194016\n",
      "Asset Growth                                                0.173593\n",
      "Operating Income Growth                                     0.163382\n",
      "operatingCashFlowPerShare                                   0.153171\n",
      "EBIT Growth                                                 0.142959\n",
      "Book Value per Share Growth                                 0.137854\n",
      "Free Cash Flow Yield                                        0.122537\n",
      "ROE                                                         0.117431\n",
      "netProfitMargin                                             0.102114\n",
      "EBITDA Margin                                               0.097008\n",
      "returnOnAssets                                              0.097008\n",
      "freeCashFlowPerShare                                        0.086797\n",
      "Free Cash Flow per Share                                    0.086797\n",
      "Graham Net-Net                                              0.076585\n",
      "Free Cash Flow growth                                       0.076585\n",
      "Income Quality                                              0.076585\n",
      "Shareholders Equity per Share                               0.071480\n",
      "Net Debt to EBITDA                                          0.056163\n",
      "Net Income                                                  0.056163\n",
      "Net Income Com                                              0.056163\n",
      "Operating Income                                            0.045951\n",
      "Net Debt                                                    0.045951\n",
      "EBIT                                                        0.045951\n",
      "POCF ratio                                                  0.045951\n",
      "freeCashFlowOperatingCashFlowRatio                          0.035740\n",
      "Operating Cash Flow                                         0.025528\n",
      "ebtperEBIT                                                  0.025528\n",
      "Book Value per Share                                        0.025528\n",
      "Earnings before Tax                                         0.025528\n",
      "Total shareholders equity                                   0.025528\n",
      "operatingCashFlowSalesRatio                                 0.020423\n",
      "Consolidated Income                                         0.015317\n",
      "cashFlowToDebtRatio                                         0.015317\n",
      "Net Current Asset Value                                     0.015317\n",
      "Free Cash Flow                                              0.015317\n",
      "pretaxProfitMargin                                          0.010211\n",
      "EV to Free cash flow                                        0.010211\n",
      "capitalExpenditureCoverageRatios                            0.005106\n",
      "EV to Operating cash flow                                   0.005106\n",
      "Working Capital                                             0.005106\n",
      "nIperEBT                                                    0.005106\n",
      "dividendpaidAndCapexCoverageRatios                          0.005106\n",
      "Total current assets                                        0.000000\n",
      "cashRatio                                                   0.000000\n",
      "Total liabilities                                           0.000000\n",
      "Operating Expenses                                          0.000000\n",
      "Tangible Book Value per Share                               0.000000\n",
      "enterpriseValueMultiple                                     0.000000\n",
      "Invested Capital                                            0.000000\n",
      "Market Cap                                                  0.000000\n",
      "Enterprise Value                                            0.000000\n",
      "cashPerShare                                                0.000000\n",
      "Weighted Average Shs Out                                    0.000000\n",
      "Weighted Average Shs Out (Dil)                              0.000000\n",
      "quickRatio                                                  0.000000\n",
      "Total current liabilities                                   0.000000\n",
      "EBITDA                                                      0.000000\n",
      "companyEquityMultiplier                                     0.000000\n",
      "Tangible Asset Value                                        0.000000\n",
      "Cash and cash equivalents                                   0.000000\n",
      "Current ratio                                               0.000000\n",
      "Cash and short-term investments                             0.000000\n",
      "Total assets                                                0.000000\n",
      "Total non-current assets                                    0.000000\n"
     ]
    }
   ],
   "source": [
    "#Check zero values per column\n",
    "percentage_of_zeroes_complete = df_complete[df_complete == 0].count(axis = 0) *100 / len(df_complete)\n",
    "df_zeroes_complete = pd.DataFrame({'Percentage of Zero Values': percentage_of_zeroes_complete})\n",
    "df_zeroes_complete.sort_values('Percentage of Zero Values', inplace = True, ascending = False)\n",
    "\n",
    "\n",
    "print(df_zeroes_complete)"
   ]
  },
  {
   "cell_type": "code",
   "execution_count": 42,
   "metadata": {},
   "outputs": [],
   "source": [
    "#Again we drop columns with zero values percentages above 50%\n",
    "#wegen median imputation können die 0-Werte wieder steigen -> mehr Spalten rausschmeissen\n",
    "zero_values_drops_complete = ['5Y Dividend per Share Growth (per Share)', '3Y Dividend per Share Growth (per Share)', \\\n",
    "                              'Tax assets', 'Acquisitions and disposals', 'Effect of forex changes on cash', \\\n",
    "                              'Inventory Growth', 'Payout Ratio']\n",
    "\n",
    "df_complete = df_complete.drop(columns = zero_values_drops_complete)"
   ]
  },
  {
   "cell_type": "markdown",
   "metadata": {},
   "source": [
    "# 3 Machine Learning Data Analysis"
   ]
  },
  {
   "cell_type": "markdown",
   "metadata": {},
   "source": [
    "## 3.1 ML Data Preparation"
   ]
  },
  {
   "cell_type": "markdown",
   "metadata": {},
   "source": [
    "### 3.1.1. Train-Test-Split"
   ]
  },
  {
   "cell_type": "markdown",
   "metadata": {},
   "source": [
    "Define Strategy as the response variable. Split into train and test set."
   ]
  },
  {
   "cell_type": "code",
   "execution_count": 43,
   "metadata": {},
   "outputs": [],
   "source": [
    "cols = df_complete.columns.values\n",
    "y = df_complete['Strategy']\n",
    "X = df_complete.drop(['Strategy'],1)\n",
    "\n",
    "X_train, X_test, y_train, y_test = train_test_split(X, y, test_size = 0.3, random_state = 0, stratify = y)\n",
    "\n",
    "#OPTIONAL check shapes\n",
    "#print(X_train.shape)\n",
    "#print(X_test.shape)\n",
    "#print(y_train.shape)\n",
    "#print(y_test.shape)\n",
    "\n",
    "X_train_lda_qda = X_train\n",
    "y_train_lda_qda = y_train\n",
    "X_test_lda_qda = X_test\n",
    "y_test_lda_qda = y_test"
   ]
  },
  {
   "cell_type": "markdown",
   "metadata": {},
   "source": [
    "### 3.1.2 Class Imbalance"
   ]
  },
  {
   "cell_type": "markdown",
   "metadata": {},
   "source": [
    "As seen at the very top of the notebook, there is a huge class imbalance. It's crucial to train our models on a balanced train set. Note that we balance only after the train-test-split on the train set such that the test set is not containing artificial data which happens while balancing. Our test set still just contains real data."
   ]
  },
  {
   "cell_type": "code",
   "execution_count": 187,
   "metadata": {},
   "outputs": [
    {
     "name": "stdout",
     "output_type": "stream",
     "text": [
      "BEFORE balancing dataset shape Counter({2.0: 7417, 0.0: 5462, 1.0: 831})\n",
      "AFTER balancing dataset shape Counter({0.0: 7417, 2.0: 7417, 1.0: 7417})\n"
     ]
    }
   ],
   "source": [
    "print('BEFORE balancing dataset shape %s' % Counter(y_train))\n",
    "sm = SMOTE(random_state=1, sampling_strategy='all', k_neighbors=10, n_jobs=-1)\n",
    "X_train, y_train = sm.fit_resample(X_train,y_train)\n",
    "print('AFTER balancing dataset shape %s' % Counter(y_train))"
   ]
  },
  {
   "cell_type": "markdown",
   "metadata": {},
   "source": [
    "### 3.1.3 Feature Selection"
   ]
  },
  {
   "cell_type": "markdown",
   "metadata": {},
   "source": [
    "After trying out many thresholds on all models we decided to select all features with at least 0.0055 rel. feature importance which holds for 81 features. Note that years and sectors are very important features."
   ]
  },
  {
   "cell_type": "code",
   "execution_count": 189,
   "metadata": {},
   "outputs": [
    {
     "name": "stdout",
     "output_type": "stream",
     "text": [
      " 1) year_2015 0.0182\n",
      " 2) year_2017 0.0172\n",
      " 3) year_2018 0.0137\n",
      " 4) Dividend per Share 0.0106\n",
      " 5) Dividend Yield 0.0104\n",
      " 6) year_2014 0.0099\n",
      " 7) Dividend payments 0.0097\n",
      " 8) PFCF ratio 0.0096\n",
      " 9) year_2016 0.0095\n",
      "10) Investments 0.0084\n",
      "11) PE ratio 0.0082\n",
      "12) Total non-current liabilities 0.0069\n",
      "13) ROIC    0.0069\n",
      "14) 3Y Net Income Growth (per Share) 0.0069\n",
      "15) Enterprise Value over EBITDA 0.0068\n",
      "16) Graham Number 0.0067\n",
      "17) Total non-current assets 0.0067\n",
      "18) Long-term investments 0.0066\n",
      "19) Price to Sales Ratio 0.0065\n",
      "20) Other comprehensive income 0.0065\n",
      "21) Capex to Operating Cash Flow 0.0065\n",
      "22) Stock-based compensation to Revenue 0.0065\n",
      "23) enterpriseValueMultiple 0.0064\n",
      "24) Short-term debt 0.0064\n",
      "25) Tangible Book Value per Share 0.0062\n",
      "26) POCF ratio 0.0062\n",
      "27) 5Y Net Income Growth (per Share) 0.0062\n",
      "28) cashPerShare 0.0062\n",
      "29) returnOnAssets 0.0061\n",
      "30) cashRatio 0.0061\n",
      "31) Current ratio 0.0061\n",
      "32) dividendpaidAndCapexCoverageRatios 0.0061\n",
      "33) capitalExpenditureCoverageRatios 0.0061\n",
      "34) Graham Net-Net 0.0061\n",
      "35) priceSalesRatio 0.0061\n",
      "36) Net Cash/Marketcap 0.0060\n",
      "37) quickRatio 0.0060\n",
      "38) priceCashFlowRatio 0.0060\n",
      "39) Working Capital 0.0060\n",
      "40) Free Cash Flow growth 0.0059\n",
      "41) Enterprise Value 0.0059\n",
      "42) Stock-based compensation 0.0059\n",
      "43) Weighted Average Shares Diluted Growth 0.0059\n",
      "44) Asset Growth 0.0059\n",
      "45) Issuance (buybacks) of shares 0.0059\n",
      "46) Intangibles to Total Assets 0.0059\n",
      "47) Other Liabilities 0.0058\n",
      "48) priceFairValue 0.0058\n",
      "49) effectiveTaxRate 0.0058\n",
      "50) fixedAssetTurnover 0.0058\n",
      "51) nIperEBT 0.0058\n",
      "52) Earnings Yield 0.0058\n",
      "53) Net cash flow / Change in cash 0.0058\n",
      "54) Other Assets 0.0058\n",
      "55) Net Income per Share 0.0058\n",
      "56) SG&A to Revenue 0.0058\n",
      "57) priceToBookRatio 0.0058\n",
      "58) Net Debt to EBITDA 0.0058\n",
      "59) EV to Sales 0.0058\n",
      "60) SG&A Expenses Growth 0.0058\n",
      "61) assetTurnover 0.0057\n",
      "62) Book Value per Share Growth 0.0057\n",
      "63) EV to Operating cash flow 0.0057\n",
      "64) Market Cap 0.0057\n",
      "65) priceBookValueRatio 0.0057\n",
      "66) Weighted Average Shares Growth 0.0056\n",
      "67) EV to Free cash flow 0.0056\n",
      "68) 3Y Shareholders Equity Growth (per Share) 0.0056\n",
      "69) EPS Growth 0.0056\n",
      "70) Net Debt 0.0056\n",
      "71) EPS     0.0056\n",
      "72) Free Cash Flow Yield 0.0056\n",
      "73) Weighted Average Shs Out 0.0056\n",
      "74) totalDebtToCapitalization 0.0056\n",
      "75) longtermDebtToCapitalization 0.0055\n",
      "76) 5Y Revenue Growth (per Share) 0.0055\n",
      "77) Income Tax Expense 0.0055\n",
      "78) Debt Growth 0.0055\n",
      "79) 3Y Operating CF Growth (per Share) 0.0055\n",
      "80) Receivables growth 0.0055\n",
      "81) 3Y Revenue Growth (per Share) 0.0055\n"
     ]
    },
    {
     "data": {
      "image/png": "[encoded data removed]",
      "text/plain": [
       "<Figure size 864x576 with 1 Axes>"
      ]
     },
     "metadata": {
      "needs_background": "light"
     },
     "output_type": "display_data"
    }
   ],
   "source": [
    "important_features = helper_functions.feature_selection(x = X_train, y = y_train.values.ravel(), thres=0.0055)"
   ]
  },
  {
   "cell_type": "code",
   "execution_count": 47,
   "metadata": {},
   "outputs": [],
   "source": [
    "#Subset important features matrix for ML algorithms\n",
    "X_train = X_train.loc[:,important_features]\n",
    "X_test = X_test.loc[:, important_features]"
   ]
  },
  {
   "cell_type": "markdown",
   "metadata": {},
   "source": [
    "## 3.2 ML Algorithms"
   ]
  },
  {
   "cell_type": "markdown",
   "metadata": {},
   "source": [
    "### 3.2.1. Random Forest - TODO verkleinerter grid search"
   ]
  },
  {
   "cell_type": "code",
   "execution_count": 50,
   "metadata": {},
   "outputs": [
    {
     "name": "stdout",
     "output_type": "stream",
     "text": [
      "Test accuracy :  0.6212\n"
     ]
    }
   ],
   "source": [
    "#Create classifier object and fit it to data\n",
    "forest = RandomForestClassifier(criterion = 'gini', random_state = 0, n_jobs = -1)\n",
    "forest.fit(X_train, y_train)\n",
    "\n",
    "#Print test score\n",
    "print('Test accuracy : {0: .4f}'.format(forest.score(X_test, y_test)))"
   ]
  },
  {
   "cell_type": "code",
   "execution_count": 51,
   "metadata": {},
   "outputs": [],
   "source": [
    "#Define arrays of values to be tested for paramgrid inside GridSearchCV function\n",
    "\n",
    "#number of trees in the forest\n",
    "n_estimators = np.array(range(50,60))\n",
    "\n",
    "# Max depth\n",
    "maxDepth = np.array(range(45,50))\n",
    "\n",
    "# Minimum number of samples required to split any internal node \n",
    "minSamplesNode = np.array(range(2,5))\n",
    "\n",
    "# The minimum number of samples required to be at a leaf/terminal node\n",
    "minSamplesLeaf = np.array(range(1,5))"
   ]
  },
  {
   "cell_type": "code",
   "execution_count": null,
   "metadata": {},
   "outputs": [
    {
     "name": "stdout",
     "output_type": "stream",
     "text": [
      "2021-04-15 07:30:42.322453\n"
     ]
    }
   ],
   "source": [
    "def random_forest(X_train, y_train, n_estimators, maxDepth, minSamplesNode, minSamplesLeaf):\n",
    "    \"\"\" \n",
    "    This function applies Random Forest Classifier on X_train and Y_train and uses grid-cross validation on the datasets.\n",
    "    :param X_train: Training Set of X values\n",
    "    :param Y_train: Training Set of Y values(factorized)\n",
    "    :param n_estimators: array of values which will be tested for variable n_estimators\n",
    "    :param maxDepth: array of values which will be tested for variable max_depth\n",
    "    :param minSamplesNode: array of values which will be tested for variable min_samples_split\n",
    "    :param minSamplesLeaf: array of values which will be tested for variable min_samples_leaf\n",
    "    \"\"\"\n",
    "    # Define the hyperparameter values to be tested\n",
    "    param_grid = {\"n_estimators\": n_estimators,\n",
    "                  'max_depth': maxDepth,\n",
    "                  'min_samples_split': minSamplesNode,\n",
    "                  'min_samples_leaf': minSamplesLeaf},\n",
    "\n",
    "    # Run brute-force grid search\n",
    "    grid = GridSearchCV(estimator=RandomForestClassifier(random_state=0),\n",
    "                  param_grid=param_grid,\n",
    "                  scoring='accuracy',\n",
    "                  cv= 5, n_jobs=-1)\n",
    "    grid = grid.fit(X_train, y_train)\n",
    "    return(grid)\n",
    "\n",
    "forest = random_forest(X_train,y_train, n_estimators, maxDepth, minSamplesNode, minSamplesLeaf)\n",
    "print('Best CV accuracy: {:.4f}'.format(forest.best_score_))\n",
    "print('Test score:       {:.4f}'.format(forest.score(X_test,y_test)))\n",
    "print('Best parameters: {}'.format(forest.best_params_))\n",
    "\n",
    "# Predict classes\n",
    "y_pred = forest.predict(X_test)\n",
    "\n",
    "# Manual confusion matrix as pandas DataFrame\n",
    "confm = pd.DataFrame({'Predicted': y_pred,\n",
    "                      'True': y_test})\n",
    "print('Polynomial Kernel Function yields the following confusion matrix:')\n",
    "print(confm.groupby(['True','Predicted'], sort=True).size().unstack('Predicted')) "
   ]
  },
  {
   "cell_type": "markdown",
   "metadata": {},
   "source": [
    "### 3.2.2. MLP classifier"
   ]
  },
  {
   "cell_type": "code",
   "execution_count": null,
   "metadata": {},
   "outputs": [],
   "source": [
    "def neural(X_train, Y_train, hidden_layer, maxIter):\n",
    "    \"\"\" \n",
    "    This function applies MLP Classifier on X_train and Y_train and uses grid-cross validation on the datasets.\n",
    "    :param X_train: Training Set of X values\n",
    "    :param Y_train: Training Set of Y values(factorized)\n",
    "    :param hidden_layer: array of values which will be tested for variable hidden_layer_sizes\n",
    "    :param maxIter: array of values which will be tested for variable max_iter\n",
    "        \n",
    "    \"\"\"\n",
    "\n",
    "    mlp = MLPClassifier(random_state=0, solver= \"lbfgs\", warm_start= True)\n",
    "    \n",
    "    pipe = Pipeline([('scaler', StandardScaler()), \n",
    "                     ('neural', MLPClassifier())])\n",
    "    \n",
    "    # Define the hyperparameter values to be tested\n",
    "    param_grid = {\"neural__hidden_layer_sizes\" : hidden_layer,\n",
    "                  'neural__max_iter': maxIter},\n",
    "\n",
    "\n",
    "    # Run brute-force grid search\n",
    "    #solver \"lbfgs\" has proven to be the best\n",
    "    grid = GridSearchCV(pipe,\n",
    "                  param_grid=param_grid,\n",
    "                  scoring='accuracy',\n",
    "                  cv= 5, n_jobs=-1)\n",
    "    grid = grid.fit(X_train, Y_train)\n",
    "    return(grid)"
   ]
  },
  {
   "cell_type": "code",
   "execution_count": null,
   "metadata": {},
   "outputs": [],
   "source": [
    "#Define arrays of values to be tested for paramgrid inside GridSearchCV function\n",
    "\n",
    "#The ith element represents the number of neurons in the ith hidden layer.\n",
    "hidden_lay = np.array(range(50,500))\n",
    "\n",
    "# Max number of iterations\n",
    "max_Iter = np.array(range(150, 600))"
   ]
  },
  {
   "cell_type": "code",
   "execution_count": null,
   "metadata": {},
   "outputs": [],
   "source": [
    "#Run MLP Classifier\n",
    "mlp = neural(X_train,y_train, hidden_lay, max_Iter)\n",
    "\n",
    "print('Best CV accuracy: {:.4f}'.format(mlp.best_score_))\n",
    "print('Test score:       {:.4f}'.format(mlp.score(X_test,y_test)))\n",
    "print('Best parameters: {}'.format(mlp.best_params_))\n",
    "\n",
    "# Predict classes\n",
    "y_pred = mlp.predict(X_test)\n",
    "\n",
    "# Manual confusion matrix as pandas DataFrame\n",
    "confm = pd.DataFrame({'Predicted': y_pred,\n",
    "                      'True': y_test})\n",
    "print('Polynomial Kernel Function yields the following confusion matrix:')\n",
    "print(confm.groupby(['True','Predicted'], sort=True).size().unstack('Predicted')) "
   ]
  },
  {
   "cell_type": "markdown",
   "metadata": {},
   "source": [
    "### 3.2.3 SVM"
   ]
  },
  {
   "cell_type": "code",
   "execution_count": null,
   "metadata": {},
   "outputs": [],
   "source": [
    "# Create StandardScaler object\n",
    "sc = StandardScaler()\n",
    "\n",
    "# Standardize features\n",
    "X_train_std = sc.fit_transform(X_train)\n",
    "\n",
    "# Transform test set\n",
    "X_test_std = sc.transform(X_test)"
   ]
  },
  {
   "cell_type": "code",
   "execution_count": null,
   "metadata": {},
   "outputs": [],
   "source": [
    "# Create object\n",
    "svm_linear = SVC(kernel='linear', C=1.0)\n",
    "svm_linear\n",
    "\n",
    "# Fit linear SVM to standardized training set\n",
    "svm_linear.fit(X_train_std, y_train)\n",
    "\n",
    "# Print results\n",
    "print(\"Observed probability of non-default: {:.2f}\".format(np.count_nonzero(y_train==0) / len(y_train)))\n",
    "print(\"Train score: {:.2f}\".format(svm_linear.score(X_train_std, y_train)))\n",
    "print(\"Test score:  {:.2f}\".format(svm_linear.score(X_test_std, y_test)))\n",
    "\n",
    "y_pred = svm_linear.predict(X_test_std)\n",
    "\n",
    "# Sklearn's confusion matrix\n",
    "confusion_matrix(y_test, y_pred)"
   ]
  },
  {
   "cell_type": "code",
   "execution_count": null,
   "metadata": {},
   "outputs": [],
   "source": [
    "svm_poly = SVC(kernel='poly', random_state=1)\n",
    "\n",
    "# Fit linear SVM to standardized training set\n",
    "svm_poly.fit(X_train_std, y_train)\n",
    "\n",
    "# Print results\n",
    "print(\"Train score: {:.2f}\".format(svm_poly.score(X_train_std, y_train)))\n",
    "print(\"Test score:  {:.2f}\".format(svm_poly.score(X_test_std, y_test)))\n",
    "\n",
    "y_pred = svm_poly.predict(X_test_std)\n",
    "\n",
    "# Sklearn's confusion matrix\n",
    "confusion_matrix(y_test, y_pred)"
   ]
  },
  {
   "cell_type": "code",
   "execution_count": null,
   "metadata": {},
   "outputs": [],
   "source": [
    "svm_poly_balanced = SVC(kernel='poly', random_state=1, class_weight='balanced')\n",
    "\n",
    "# Fit linear SVM to standardized training set\n",
    "svm_poly_balanced.fit(X_train_std, y_train)\n",
    "\n",
    "# Print results\n",
    "print(\"Train score: {:.2f}\".format(svm_poly_balanced.score(X_train_std, y_train)))\n",
    "print(\"Test score:  {:.2f}\".format(svm_poly_balanced.score(X_test_std, y_test)))\n",
    "\n",
    "y_pred = svm_poly_balanced.predict(X_test_std)\n",
    "\n",
    "# Sklearn's confusion matrix\n",
    "confusion_matrix(y_test, y_pred)"
   ]
  },
  {
   "cell_type": "code",
   "execution_count": null,
   "metadata": {},
   "outputs": [],
   "source": [
    "# Create pipeline object with standard scaler and SVC estimator\n",
    "pipe = Pipeline([('scaler', StandardScaler()), \n",
    "                 ('svm_poly', SVC(kernel='poly', random_state=0))])\n",
    "\n",
    "# Define parameter grid\n",
    "param_grid = {'svm_poly__C': [0.1, 1],\n",
    "              'svm_poly__degree': [1, 2, 3]}\n",
    "\n",
    "# Run grid search\n",
    "grid = GridSearchCV(pipe, param_grid=param_grid, cv=5, n_jobs=-1)\n",
    "grid.fit(X_train_std, y_train)\n",
    "\n",
    "# Print results\n",
    "print('Best CV accuracy: {:.2f}'.format(grid.best_score_))\n",
    "print('Test score:       {:.2f}'.format(grid.score(X_test, y_test)))\n",
    "print('Best parameters: {}'.format(grid.best_params_))"
   ]
  },
  {
   "cell_type": "markdown",
   "metadata": {},
   "source": [
    "### 3.2.4 LDA/QDA"
   ]
  },
  {
   "cell_type": "markdown",
   "metadata": {},
   "source": [
    "#### 3.2.4.1 LDA"
   ]
  },
  {
   "cell_type": "code",
   "execution_count": null,
   "metadata": {},
   "outputs": [],
   "source": [
    "lda = LDA(shrinkage='auto', solver='eigen') # default solver='svd', shrinkage=None\n",
    "lda = lda.fit(X_train_lda_qda, y_train_lda_qda)\n",
    "\n",
    "# Predict labels\n",
    "y_pred_lda = lda.predict(X_test_lda_qda) # vector of 1, 2, 3s --> prediction --> in confusion matrix\n",
    "\n",
    "# Sklearn's confusion matrix\n",
    "print(metrics.confusion_matrix(y_test_lda_qda, y_pred_lda))\n",
    "\n",
    "print('score: {0: .4f}'.format(metrics.accuracy_score(y_test_lda_qda, y_pred_lda)))\n",
    "print('error-rate: {0: .4f}'.format(1-metrics.accuracy_score(y_test_lda_qda, y_pred_lda)))\n",
    "print('explained variance ratio: ' + str(lda.explained_variance_ratio_)) # percentage explained of LDA by the 2 components with svd as solver\n",
    "\n",
    "\n",
    "\n",
    "# Manual confusion matrix as pandas DataFrame\n",
    "confm = pd.DataFrame({'Predicted status': y_pred_lda,\n",
    "                      'True status': y_test_lda_qda})\n",
    "confm.replace(to_replace={0:'Buy', 1:'Hold', 2:'Sell'}, inplace=True)\n",
    "print(confm.groupby(['True status','Predicted status']).size().unstack('Predicted status'))\n",
    "print('\\n')\n",
    "print(metrics.classification_report(y_test_lda_qda, y_pred_lda))\n",
    "\n"
   ]
  },
  {
   "cell_type": "code",
   "execution_count": null,
   "metadata": {},
   "outputs": [],
   "source": [
    "# LDA Gridsearch\n",
    "grid = GridSearchCV(estimator=LDA(),\n",
    "                  param_grid={'solver': ('lsqr', 'eigen', 'svd'), 'shrinkage': (None, 'auto')},\n",
    "                  scoring='accuracy', n_jobs=-1)\n",
    "grid = grid.fit(X_train, y_train)\n",
    "\n",
    "y_pred_grid = grid.predict(X_test)\n",
    "\n",
    "print('score: {0: .4f}'.format(metrics.accuracy_score(y_test_lda_qda, y_pred_grid)))\n",
    "print('error-rate: {0: .4f}'.format(1-metrics.accuracy_score(y_test_lda_qda, y_pred_grid)))\n",
    "print('\\n')\n",
    "print(metrics.confusion_matrix(y_test_lda_qda, y_pred_grid))\n",
    "print('\\n')\n",
    "print(grid.best_estimator_)\n",
    "# there will be a warning 'UserWarning: One or more of the test scores are non-finite' because solver='svd' can't be\n",
    "# combined with shrinkage and solver='eigen' needs shrinkage"
   ]
  },
  {
   "cell_type": "code",
   "execution_count": null,
   "metadata": {},
   "outputs": [],
   "source": [
    "lda_transformed = lda.transform(X_train_lda_qda)\n",
    "colors = ['green', 'darkorange', 'red']\n",
    "lw = 2\n",
    "target_names = ['Buy', 'Hold', 'Sell']\n",
    "plt.figure()\n",
    "for color, i, target_name in zip(colors, [0, 1, 2], target_names):\n",
    "    plt.scatter(lda_transformed[y_train_lda_qda == i, 0], lda_transformed[y_train_lda_qda == i, 1], alpha=.8, color=color,\n",
    "                label=target_name)\n",
    "plt.legend(loc='best', shadow=False, scatterpoints=1)\n",
    "plt.title('LDA')\n",
    "plt.xlabel('Discriminant 1')\n",
    "plt.ylabel('Discriminant 2')\n",
    "plt.show()"
   ]
  },
  {
   "cell_type": "code",
   "execution_count": null,
   "metadata": {},
   "outputs": [],
   "source": [
    "# Recall - correctly predicted positives for each class - when actual value is x, how often is x predicted\n",
    "print('recalls: ' + str(metrics.recall_score(y_test_lda_qda, y_pred_lda, average=None)))\n",
    "print('\\n')\n",
    "\n",
    "# Precision - how often is prediction correct - When a positive value is predicted, how often is the prediction correct?\n",
    "print('precisions: ' + str(metrics.precision_score(y_test_lda_qda, y_pred_lda, average=None)))\n",
    "print('\\n')\n",
    "\n",
    "# F1-Score\n",
    "print('f1-scores: ' + str(metrics.f1_score(y_test_lda_qda, y_pred_lda, average=None)))"
   ]
  },
  {
   "cell_type": "markdown",
   "metadata": {},
   "source": [
    "#### 3.2.4.2 QDA"
   ]
  },
  {
   "cell_type": "code",
   "execution_count": null,
   "metadata": {},
   "outputs": [],
   "source": [
    "# Run qda on training data\n",
    "qda = QDA().fit(X_train_lda_qda, y_train_lda_qda)\n",
    "\n",
    "# Predict classes for qda\n",
    "y_pred_qda = qda.predict(X_test_lda_qda)\n",
    "\n",
    "# Print performance metrics\n",
    "print('score qda: {0: .4f}'.format(metrics.accuracy_score(y_test_lda_qda, y_pred_qda)))\n",
    "print('\\n')\n",
    "print(metrics.confusion_matrix(y_test_lda_qda, y_pred_qda))\n",
    "print('\\n')\n",
    "print(metrics.classification_report(y_test_lda_qda, y_pred_qda))\n",
    "print('\\n')\n",
    "\n",
    "# Recall - correctly predicted positives for each class - when actual value is x, how often is x predicted\n",
    "print('recalls: ' + str(metrics.recall_score(y_test_lda_qda, y_pred_qda, average=None)))\n",
    "print('\\n')\n",
    "\n",
    "# Precision - how often is prediction correct - When a positive value is predicted, how often is the prediction correct?\n",
    "print('precisions: ' + str(metrics.precision_score(y_test_lda_qda, y_pred_qda, average=None)))\n",
    "print('\\n')\n",
    "\n",
    "# F1-Score\n",
    "print('f1-scores: ' + str(metrics.f1_score(y_test_lda_qda, y_pred_qda, average=None)))"
   ]
  },
  {
   "cell_type": "markdown",
   "metadata": {},
   "source": [
    "### 3.2.5 Keras Sequential Model"
   ]
  },
  {
   "cell_type": "code",
   "execution_count": null,
   "metadata": {},
   "outputs": [],
   "source": [
    "from keras.wrappers.scikit_learn import KerasClassifier\n",
    "from keras.models import Sequential\n",
    "from keras.layers import Dense\n",
    "\n",
    "# factorize strategy column in order that the neural network is working\n",
    "y_train = pd.get_dummies(y_train)\n",
    "\n",
    "# Define the scaler \n",
    "scaler = StandardScaler().fit(X_train)\n",
    "\n",
    "# Scale the train set\n",
    "X_train = scaler.transform(X_train)\n",
    "\n",
    "# Scale the test set\n",
    "X_test = scaler.transform(X_test)\n",
    "\n",
    "def base_model():\n",
    "    # define the model and add layers\n",
    "    model = Sequential()\n",
    "    model.add(Dense(17661, input_dim=75, activation='relu'))\n",
    "    model.add(Dense(122, activation='relu'))\n",
    "    model.add(Dense(12, activation='relu'))\n",
    "    model.add(Dense(3, activation ='softmax'))\n",
    "\n",
    "    # compile the keras model\n",
    "    model.compile(loss='categorical_crossentropy', optimizer='adam', metrics=['accuracy'])\n",
    "    return model\n",
    "\n",
    "\n",
    "model = KerasClassifier(build_fn=base_model, verbose=0)\n",
    "#define the grid search parameters\n",
    "batch_size = [100]\n",
    "epochs = [30]\n",
    "param_grid = dict(batch_size=batch_size, epochs=epochs)\n",
    "grid = GridSearchCV(estimator=model, param_grid=param_grid, n_jobs=-1, cv=5)\n",
    "grid_result = grid.fit(X_train, y_train)\n",
    "\n",
    "# summarize results\n",
    "print(\"Best: %f using %s\" % (grid_result.best_score_, grid_result.best_params_))\n",
    "means = grid_result.cv_results_['mean_test_score']\n",
    "stds = grid_result.cv_results_['std_test_score']\n",
    "params = grid_result.cv_results_['params']\n",
    "for mean, stdev, param in zip(means, stds, params):\n",
    "    print(\"%f (%f) with: %r\" % (mean, stdev, param))\n",
    "\n",
    "# predict values with the X_test    \n",
    "y_pred = grid_result.predict(X_test) \n",
    "\n",
    "# generate confusion_matrix and classification report for further insights\n",
    "confusion_matrix(y_test, y_pred)\n",
    "classification_report(y_test, y_pred)\n",
    "print('\\n')\n",
    "\n",
    "# Recall - correctly predicted positives for each class - when actual value is x, how often is x predicted\n",
    "print('recalls: ' + str(metrics.recall_score(y_test_lda_qda, y_pred_qda, average=None)))\n",
    "print('\\n')\n",
    "\n",
    "# Precision - how often is prediction correct - When a positive value is predicted, how often is the prediction correct?\n",
    "print('precisions: ' + str(metrics.precision_score(y_test_lda_qda, y_pred_qda, average=None)))\n",
    "print('\\n')\n",
    "\n",
    "# F1-Score\n",
    "print('f1-scores: ' + str(metrics.f1_score(y_test_lda_qda, y_pred_qda, average=None)))"
   ]
  }
 ],
 "metadata": {
  "kernelspec": {
   "display_name": "Python 3",
   "language": "python",
   "name": "python3"
  },
  "language_info": {
   "codemirror_mode": {
    "name": "ipython",
    "version": 3
   },
   "file_extension": ".py",
   "mimetype": "text/x-python",
   "name": "python",
   "nbconvert_exporter": "python",
   "pygments_lexer": "ipython3",
   "version": "3.8.3"
  }
 },
 "nbformat": 4,
 "nbformat_minor": 4
}
