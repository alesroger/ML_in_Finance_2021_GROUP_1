{
 "cells": [
  {
   "cell_type": "markdown",
   "metadata": {},
   "source": [
    "# Helper Functions"
   ]
  },
  {
   "cell_type": "markdown",
   "metadata": {},
   "source": [
    "### Strategy function"
   ]
  },
  {
   "cell_type": "markdown",
   "metadata": {},
   "source": [
    "We need the method get_strategy with parameters share and sp500 for every row in the dataset to define if the best strategy for this share would be to buy, sell or hold as defined in the task.\n",
    "\n",
    "Buy: A share outperformed the S&P500 by more than 2.5 percentage points for the year\n",
    "Hold: A share performed within +/- 2.5% percentage points of the S&P500 for the year\n",
    "Sell: A share performed below the S&P500 by more than 2.5 percentage points for the year"
   ]
  },
  {
   "cell_type": "code",
   "execution_count": 1,
   "metadata": {},
   "outputs": [],
   "source": [
    "def get_strategy(share, sp500):\n",
    "    \"\"\" Return the strategy as defined in the task.\n",
    "         buy: 0\n",
    "         hold: 1\n",
    "         sell: 2\n",
    "    \n",
    "    Args:\n",
    "        share: performance of share\n",
    "        sp500: performance of S&P500\n",
    "    \"\"\"\n",
    "    diff = abs(share-sp500)\n",
    "    biggest = max(share,sp500)\n",
    "    \n",
    "    if(biggest == share):\n",
    "        if(diff > 2.5):\n",
    "            return 0\n",
    "        else:\n",
    "            return 1\n",
    "    else:\n",
    "        if(diff > 2.5):\n",
    "            return 2\n",
    "        else:\n",
    "            return 1  "
   ]
  },
  {
   "cell_type": "markdown",
   "metadata": {},
   "source": [
    "#### Unit Test for Strategy function\n",
    "It's crucial that our get_strategy function is totally correct since otherwise we would define wrong response variables and the ML part following would be worthless."
   ]
  },
  {
   "cell_type": "code",
   "execution_count": 2,
   "metadata": {},
   "outputs": [
    {
     "name": "stderr",
     "output_type": "stream",
     "text": [
      "test_get_strategy (__main__.TestStrategy) ... ok\n",
      "\n",
      "----------------------------------------------------------------------\n",
      "Ran 1 test in 0.003s\n",
      "\n",
      "OK\n"
     ]
    },
    {
     "data": {
      "text/plain": [
       "<unittest.main.TestProgram at 0x106866eb0>"
      ]
     },
     "execution_count": 2,
     "metadata": {},
     "output_type": "execute_result"
    }
   ],
   "source": [
    "import unittest\n",
    "\n",
    "class TestStrategy(unittest.TestCase):\n",
    "    \n",
    "    def test_get_strategy(self):\n",
    "        #hold test cases\n",
    "        self.assertEqual(get_strategy(1,1), 1)\n",
    "        self.assertEqual(get_strategy(-1,-1), 1)\n",
    "        self.assertEqual(get_strategy(-1,-1), 1)\n",
    "        self.assertEqual(get_strategy(-1,1), 1)\n",
    "        self.assertEqual(get_strategy(1,-1), 1)\n",
    "        self.assertEqual(get_strategy(0,0), 1)\n",
    "        self.assertEqual(get_strategy(0,-2.3), 1)\n",
    "        self.assertEqual(get_strategy(2.3,0), 1)\n",
    "        self.assertEqual(get_strategy(2.3,0), 1)\n",
    "        self.assertEqual(get_strategy(0,2.3), 1)\n",
    "        self.assertEqual(get_strategy(10,8), 1)\n",
    "        self.assertEqual(get_strategy(8,10), 1)\n",
    "        self.assertEqual(get_strategy(-8,-10), 1)\n",
    "        \n",
    "        #buy test cases\n",
    "        self.assertEqual(get_strategy(10,7), 0)\n",
    "        self.assertEqual(get_strategy(-3,-6), 0)\n",
    "        self.assertEqual(get_strategy(2,-1), 0)\n",
    "        self.assertEqual(get_strategy(3,0), 0)\n",
    "        \n",
    "        #sell test cases\n",
    "        self.assertEqual(get_strategy(7,10), 2)\n",
    "        self.assertEqual(get_strategy(-6,-3), 2)\n",
    "        self.assertEqual(get_strategy(-2,1), 2)\n",
    "        self.assertEqual(get_strategy(0,3), 2)\n",
    "\n",
    "unittest.main(argv=[''], verbosity=2, exit=False)"
   ]
  }
 ],
 "metadata": {
  "kernelspec": {
   "display_name": "Python 3",
   "language": "python",
   "name": "python3"
  },
  "language_info": {
   "codemirror_mode": {
    "name": "ipython",
    "version": 3
   },
   "file_extension": ".py",
   "mimetype": "text/x-python",
   "name": "python",
   "nbconvert_exporter": "python",
   "pygments_lexer": "ipython3",
   "version": "3.8.5"
  }
 },
 "nbformat": 4,
 "nbformat_minor": 4
}
