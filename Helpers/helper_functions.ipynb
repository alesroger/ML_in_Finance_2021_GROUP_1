{
 "cells": [
  {
   "cell_type": "markdown",
   "metadata": {},
   "source": [
    "# Helper Functions"
   ]
  },
  {
   "cell_type": "markdown",
   "metadata": {},
   "source": [
    "### Strategy function"
   ]
  },
  {
   "cell_type": "markdown",
   "metadata": {},
   "source": [
    "We need the method get_strategy with parameters share and sp500 for every row in the dataset to define if the best strategy for this share would be to buy, sell or hold as defined in the task.\n",
    "\n",
    "Buy: A share outperformed the S&P500 by more than 2.5 percentage points for the year\n",
    "Hold: A share performed within +/- 2.5% percentage points of the S&P500 for the year\n",
    "Sell: A share performed below the S&P500 by more than 2.5 percentage points for the year"
   ]
  },
  {
   "cell_type": "code",
   "execution_count": 1,
   "metadata": {},
   "outputs": [],
   "source": [
    "#Function to determine the strategy\n",
    "# 0: buy, 1: hold, 2: sell\n",
    "\n",
    "def get_strategy(share, sp500):\n",
    "    diff = abs(share-sp500)\n",
    "    biggest = max(share,sp500)\n",
    "    \n",
    "    if(biggest == share):\n",
    "        if(diff > 2.5):\n",
    "            return 0\n",
    "        else:\n",
    "            return 1\n",
    "    else:\n",
    "        if(diff > 2.5):\n",
    "            return 2\n",
    "        else:\n",
    "            return 1  "
   ]
  },
  {
   "cell_type": "markdown",
   "metadata": {},
   "source": [
    "#### Unit Test for Strategy function\n",
    "It's crucial that our get_strategy function is totally correct since otherwise we would define wrong response variables and the ML part following would be worthless."
   ]
  },
  {
   "cell_type": "code",
   "execution_count": 2,
   "metadata": {},
   "outputs": [
    {
     "name": "stderr",
     "output_type": "stream",
     "text": [
      "test_get_strategy (__main__.TestStrategy) ... ok\n",
      "\n",
      "----------------------------------------------------------------------\n",
      "Ran 1 test in 0.003s\n",
      "\n",
      "OK\n"
     ]
    },
    {
     "data": {
      "text/plain": [
       "<unittest.main.TestProgram at 0x106866eb0>"
      ]
     },
     "execution_count": 2,
     "metadata": {},
     "output_type": "execute_result"
    }
   ],
   "source": [
    "import unittest\n",
    "\n",
    "class TestStrategy(unittest.TestCase):\n",
    "    \n",
    "    def test_get_strategy(self):\n",
    "        #hold test cases\n",
    "        self.assertEqual(get_strategy(1,1), 1)\n",
    "        self.assertEqual(get_strategy(-1,-1), 1)\n",
    "        self.assertEqual(get_strategy(-1,-1), 1)\n",
    "        self.assertEqual(get_strategy(-1,1), 1)\n",
    "        self.assertEqual(get_strategy(1,-1), 1)\n",
    "        self.assertEqual(get_strategy(0,0), 1)\n",
    "        self.assertEqual(get_strategy(0,-2.3), 1)\n",
    "        self.assertEqual(get_strategy(2.3,0), 1)\n",
    "        self.assertEqual(get_strategy(2.3,0), 1)\n",
    "        self.assertEqual(get_strategy(0,2.3), 1)\n",
    "        self.assertEqual(get_strategy(10,8), 1)\n",
    "        self.assertEqual(get_strategy(8,10), 1)\n",
    "        self.assertEqual(get_strategy(-8,-10), 1)\n",
    "        \n",
    "        #buy test cases\n",
    "        self.assertEqual(get_strategy(10,7), 0)\n",
    "        self.assertEqual(get_strategy(-3,-6), 0)\n",
    "        self.assertEqual(get_strategy(2,-1), 0)\n",
    "        self.assertEqual(get_strategy(3,0), 0)\n",
    "        \n",
    "        #sell test cases\n",
    "        self.assertEqual(get_strategy(7,10), 2)\n",
    "        self.assertEqual(get_strategy(-6,-3), 2)\n",
    "        self.assertEqual(get_strategy(-2,1), 2)\n",
    "        self.assertEqual(get_strategy(0,3), 2)\n",
    "\n",
    "unittest.main(argv=[''], verbosity=2, exit=False)"
   ]
  },
  {
   "cell_type": "code",
   "execution_count": 4,
   "metadata": {},
   "outputs": [],
   "source": [
    "from sklearn.ensemble import RandomForestClassifier\n",
    "import matplotlib.pyplot as plt\n",
    "import numpy as np\n",
    "\n",
    "\n",
    "def feature_selection(x, y, thres):\n",
    "    \"\"\" Find out, which the most important features are. Return a list of the most important features\n",
    "        which wil be used for the algorithms.\n",
    "    \n",
    "    Args:\n",
    "        x: feature input without NaN values\n",
    "        y: classification input\n",
    "        thres: input as percentage value, features with relative importance over this value will be in the output \n",
    "    \"\"\"\n",
    "    \n",
    "    feat_labels = x.columns[:]\n",
    "    \n",
    "    # Create Random Forest object, fit data and\n",
    "    # extract feature importance attributes\n",
    "    forest = RandomForestClassifier(random_state=1, class_weight='balanced')\n",
    "    forest.fit(x, y)\n",
    "    importances = forest.feature_importances_\n",
    "    \n",
    "    #Define n as number of importances over the value thres\n",
    "    n = sum(importances > thres)\n",
    "    \n",
    "    # Get cumsum of the n most important features\n",
    "    feat_imp = np.sort(importances)[::-1]\n",
    "    sum_feat_imp = np.cumsum(feat_imp)[:n]\n",
    "    \n",
    "    # Sort output (by relative importance) and \n",
    "    # print top n features\n",
    "    indices = np.argsort(importances)[::-1]\n",
    "    for i in range(n):\n",
    "        print('{0:2d}) {1:7s} {2:6.4f}'.format(i + 1, \n",
    "                                           feat_labels[indices[i]],\n",
    "                                           importances[indices[i]]))\n",
    "        \n",
    "    \n",
    "    # Plot Feature Importance (both cumul., individual)\n",
    "    plt.figure(figsize=(12, 8))\n",
    "    plt.bar(range(n), importances[indices[:n]], align='center')\n",
    "    plt.xticks(range(n), feat_labels[indices[:n]], rotation=90)\n",
    "    plt.xlim([-1, n])\n",
    "    plt.xlabel('Feature')\n",
    "    plt.ylabel('Rel. Feature Importance')\n",
    "    plt.step(range(n), sum_feat_imp, where='mid', \n",
    "         label='Cumulative importance')\n",
    "    plt.tight_layout();\n",
    "    \n",
    "    \n",
    "    # Create a list with the important features for ML algorhithms\n",
    "    feature_list = [None] * n\n",
    "    for i in range(n):\n",
    "        feature_list[i] = feat_labels[indices[i]]\n",
    "    \n",
    "    # return the list of important features\n",
    "    return feature_list"
   ]
  }
 ],
 "metadata": {
  "kernelspec": {
   "display_name": "Python 3",
   "language": "python",
   "name": "python3"
  },
  "language_info": {
   "codemirror_mode": {
    "name": "ipython",
    "version": 3
   },
   "file_extension": ".py",
   "mimetype": "text/x-python",
   "name": "python",
   "nbconvert_exporter": "python",
   "pygments_lexer": "ipython3",
   "version": "3.8.5"
  }
 },
 "nbformat": 4,
 "nbformat_minor": 4
}
