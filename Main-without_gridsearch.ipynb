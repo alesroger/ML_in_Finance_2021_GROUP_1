{
 "cells": [
  {
   "cell_type": "markdown",
   "metadata": {},
   "source": [
    "# Machine Learning in Finance (Seminar) - Group 1"
   ]
  },
  {
   "cell_type": "markdown",
   "metadata": {},
   "source": [
    "## 1 Imports"
   ]
  },
  {
   "cell_type": "markdown",
   "metadata": {},
   "source": [
    "### 1.1 Python imports"
   ]
  },
  {
   "cell_type": "code",
   "execution_count": 1,
   "metadata": {},
   "outputs": [
    {
     "name": "stdout",
     "output_type": "stream",
     "text": [
      "Requirement already satisfied: nbimporter in c:\\users\\marco\\anaconda3\\lib\\site-packages (0.3.4)\n",
      "Requirement already satisfied: imblearn in c:\\users\\marco\\anaconda3\\lib\\site-packages (0.0)\n",
      "Requirement already satisfied: imbalanced-learn in c:\\users\\marco\\anaconda3\\lib\\site-packages (from imblearn) (0.8.0)\n",
      "Requirement already satisfied: joblib>=0.11 in c:\\users\\marco\\anaconda3\\lib\\site-packages (from imbalanced-learn->imblearn) (0.16.0)\n",
      "Requirement already satisfied: numpy>=1.13.3 in c:\\users\\marco\\anaconda3\\lib\\site-packages (from imbalanced-learn->imblearn) (1.18.5)\n",
      "Requirement already satisfied: scipy>=0.19.1 in c:\\users\\marco\\anaconda3\\lib\\site-packages (from imbalanced-learn->imblearn) (1.4.1)\n",
      "Requirement already satisfied: scikit-learn>=0.24 in c:\\users\\marco\\anaconda3\\lib\\site-packages (from imbalanced-learn->imblearn) (0.24.1)\n",
      "Requirement already satisfied: threadpoolctl>=2.0.0 in c:\\users\\marco\\anaconda3\\lib\\site-packages (from scikit-learn>=0.24->imbalanced-learn->imblearn) (2.1.0)\n",
      "Requirement already satisfied: keras in c:\\users\\marco\\anaconda3\\lib\\site-packages (2.4.3)\n",
      "Requirement already satisfied: h5py in c:\\users\\marco\\anaconda3\\lib\\site-packages (from keras) (2.10.0)\n",
      "Requirement already satisfied: numpy>=1.9.1 in c:\\users\\marco\\anaconda3\\lib\\site-packages (from keras) (1.18.5)\n",
      "Requirement already satisfied: pyyaml in c:\\users\\marco\\anaconda3\\lib\\site-packages (from keras) (5.3.1)\n",
      "Requirement already satisfied: scipy>=0.14 in c:\\users\\marco\\anaconda3\\lib\\site-packages (from keras) (1.4.1)\n",
      "Requirement already satisfied: six in c:\\users\\marco\\anaconda3\\lib\\site-packages (from h5py->keras) (1.15.0)\n",
      "Requirement already satisfied: tensorflow in c:\\users\\marco\\anaconda3\\lib\\site-packages (2.3.0)\n",
      "Requirement already satisfied: six>=1.12.0 in c:\\users\\marco\\anaconda3\\lib\\site-packages (from tensorflow) (1.15.0)\n",
      "Requirement already satisfied: termcolor>=1.1.0 in c:\\users\\marco\\anaconda3\\lib\\site-packages (from tensorflow) (1.1.0)\n",
      "Requirement already satisfied: gast==0.3.3 in c:\\users\\marco\\anaconda3\\lib\\site-packages (from tensorflow) (0.3.3)\n",
      "Requirement already satisfied: tensorflow-estimator<2.4.0,>=2.3.0 in c:\\users\\marco\\anaconda3\\lib\\site-packages (from tensorflow) (2.3.0)\n",
      "Requirement already satisfied: numpy<1.19.0,>=1.16.0 in c:\\users\\marco\\anaconda3\\lib\\site-packages (from tensorflow) (1.18.5)\n",
      "Requirement already satisfied: protobuf>=3.9.2 in c:\\users\\marco\\anaconda3\\lib\\site-packages (from tensorflow) (3.14.0)\n",
      "Requirement already satisfied: grpcio>=1.8.6 in c:\\users\\marco\\anaconda3\\lib\\site-packages (from tensorflow) (1.36.1)\n",
      "Requirement already satisfied: keras-preprocessing<1.2,>=1.1.1 in c:\\users\\marco\\anaconda3\\lib\\site-packages (from tensorflow) (1.1.2)\n",
      "Requirement already satisfied: astunparse==1.6.3 in c:\\users\\marco\\anaconda3\\lib\\site-packages (from tensorflow) (1.6.3)\n",
      "Requirement already satisfied: absl-py>=0.7.0 in c:\\users\\marco\\anaconda3\\lib\\site-packages (from tensorflow) (0.12.0)\n",
      "Requirement already satisfied: google-pasta>=0.1.8 in c:\\users\\marco\\anaconda3\\lib\\site-packages (from tensorflow) (0.2.0)\n",
      "Requirement already satisfied: opt-einsum>=2.3.2 in c:\\users\\marco\\anaconda3\\lib\\site-packages (from tensorflow) (3.1.0)\n",
      "Requirement already satisfied: h5py<2.11.0,>=2.10.0 in c:\\users\\marco\\anaconda3\\lib\\site-packages (from tensorflow) (2.10.0)\n",
      "Requirement already satisfied: wheel>=0.26 in c:\\users\\marco\\anaconda3\\lib\\site-packages (from tensorflow) (0.34.2)\n",
      "Requirement already satisfied: scipy==1.4.1 in c:\\users\\marco\\anaconda3\\lib\\site-packages (from tensorflow) (1.4.1)\n",
      "Requirement already satisfied: tensorboard<3,>=2.3.0 in c:\\users\\marco\\anaconda3\\lib\\site-packages (from tensorflow) (2.4.0)\n",
      "Requirement already satisfied: wrapt>=1.11.1 in c:\\users\\marco\\anaconda3\\lib\\site-packages (from tensorflow) (1.12.1)\n",
      "Requirement already satisfied: tensorboard-plugin-wit>=1.6.0 in c:\\users\\marco\\anaconda3\\lib\\site-packages (from tensorboard<3,>=2.3.0->tensorflow) (1.6.0)\n",
      "Requirement already satisfied: werkzeug>=0.11.15 in c:\\users\\marco\\anaconda3\\lib\\site-packages (from tensorboard<3,>=2.3.0->tensorflow) (1.0.1)\n",
      "Requirement already satisfied: google-auth<2,>=1.6.3 in c:\\users\\marco\\anaconda3\\lib\\site-packages (from tensorboard<3,>=2.3.0->tensorflow) (1.28.0)\n",
      "Requirement already satisfied: requests<3,>=2.21.0 in c:\\users\\marco\\anaconda3\\lib\\site-packages (from tensorboard<3,>=2.3.0->tensorflow) (2.24.0)\n",
      "Requirement already satisfied: markdown>=2.6.8 in c:\\users\\marco\\anaconda3\\lib\\site-packages (from tensorboard<3,>=2.3.0->tensorflow) (3.3.4)\n",
      "Requirement already satisfied: google-auth-oauthlib<0.5,>=0.4.1 in c:\\users\\marco\\anaconda3\\lib\\site-packages (from tensorboard<3,>=2.3.0->tensorflow) (0.4.2)\n",
      "Requirement already satisfied: setuptools>=41.0.0 in c:\\users\\marco\\anaconda3\\lib\\site-packages (from tensorboard<3,>=2.3.0->tensorflow) (49.2.0.post20200714)\n",
      "Requirement already satisfied: cachetools<5.0,>=2.0.0 in c:\\users\\marco\\anaconda3\\lib\\site-packages (from google-auth<2,>=1.6.3->tensorboard<3,>=2.3.0->tensorflow) (4.2.1)\n",
      "Requirement already satisfied: rsa<5,>=3.1.4 in c:\\users\\marco\\anaconda3\\lib\\site-packages (from google-auth<2,>=1.6.3->tensorboard<3,>=2.3.0->tensorflow) (4.7.2)\n",
      "Requirement already satisfied: pyasn1-modules>=0.2.1 in c:\\users\\marco\\anaconda3\\lib\\site-packages (from google-auth<2,>=1.6.3->tensorboard<3,>=2.3.0->tensorflow) (0.2.8)\n",
      "Requirement already satisfied: requests-oauthlib>=0.7.0 in c:\\users\\marco\\anaconda3\\lib\\site-packages (from google-auth-oauthlib<0.5,>=0.4.1->tensorboard<3,>=2.3.0->tensorflow) (1.3.0)\n",
      "Requirement already satisfied: pyasn1<0.5.0,>=0.4.6 in c:\\users\\marco\\anaconda3\\lib\\site-packages (from pyasn1-modules>=0.2.1->google-auth<2,>=1.6.3->tensorboard<3,>=2.3.0->tensorflow) (0.4.8)\n",
      "Requirement already satisfied: idna<3,>=2.5 in c:\\users\\marco\\anaconda3\\lib\\site-packages (from requests<3,>=2.21.0->tensorboard<3,>=2.3.0->tensorflow) (2.10)\n",
      "Requirement already satisfied: urllib3!=1.25.0,!=1.25.1,<1.26,>=1.21.1 in c:\\users\\marco\\anaconda3\\lib\\site-packages (from requests<3,>=2.21.0->tensorboard<3,>=2.3.0->tensorflow) (1.25.9)\n",
      "Requirement already satisfied: chardet<4,>=3.0.2 in c:\\users\\marco\\anaconda3\\lib\\site-packages (from requests<3,>=2.21.0->tensorboard<3,>=2.3.0->tensorflow) (3.0.4)\n",
      "Requirement already satisfied: certifi>=2017.4.17 in c:\\users\\marco\\anaconda3\\lib\\site-packages (from requests<3,>=2.21.0->tensorboard<3,>=2.3.0->tensorflow) (2020.12.5)\n",
      "Requirement already satisfied: oauthlib>=3.0.0 in c:\\users\\marco\\anaconda3\\lib\\site-packages (from requests-oauthlib>=0.7.0->google-auth-oauthlib<0.5,>=0.4.1->tensorboard<3,>=2.3.0->tensorflow) (3.1.0)\n"
     ]
    }
   ],
   "source": [
    "import sys\n",
    "!{sys.executable} -m pip install nbimporter\n",
    "!{sys.executable} -m pip install imblearn\n",
    "!{sys.executable} -m pip install keras\n",
    "!{sys.executable} -m pip install tensorflow\n",
    "from keras.wrappers.scikit_learn import KerasClassifier\n",
    "from keras.models import Sequential\n",
    "from keras.layers import Dense\n",
    "import numpy as np\n",
    "import pandas as pd\n",
    "import matplotlib\n",
    "import matplotlib.pyplot as plt\n",
    "import seaborn as sns\n",
    "import datetime\n",
    "import nbimporter\n",
    "from collections import Counter\n",
    "from Helpers import helper_functions\n",
    "from sklearn.model_selection import train_test_split\n",
    "from collections import Counter\n",
    "from imblearn.over_sampling import SMOTE\n",
    "from sklearn.preprocessing import StandardScaler\n",
    "from sklearn.metrics import confusion_matrix, classification_report\n",
    "from sklearn.impute import SimpleImputer\n",
    "from sklearn.ensemble import RandomForestClassifier\n",
    "from sklearn.model_selection import GridSearchCV, cross_validate, cross_val_score, StratifiedKFold, KFold\n",
    "from sklearn.neural_network import MLPClassifier\n",
    "from sklearn.pipeline import Pipeline\n",
    "from sklearn.discriminant_analysis import QuadraticDiscriminantAnalysis as QDA\n",
    "from sklearn import metrics\n",
    "from sklearn.discriminant_analysis import LinearDiscriminantAnalysis as LDA\n",
    "from sklearn.svm import SVC\n",
    "from sklearn.tree import DecisionTreeClassifier"
   ]
  },
  {
   "cell_type": "markdown",
   "metadata": {},
   "source": [
    "### 1.2 Data imports"
   ]
  },
  {
   "cell_type": "markdown",
   "metadata": {},
   "source": [
    "Reading the five datasets from the Data folder (The files were downloaded from Kaggle and uploaded to the repository manually). We than add the additional column 'SP500' to every dataframe including the annual performance of the SP500 according to this source: https://www.macrotrends.net/2526/sp-500-historical-annual-returns. We there downloaded the historical data on Thursday, 04.03.2021. The corresponding file 'sp-500-historical-annual-returns.csv' can be found in our folder 'Data'."
   ]
  },
  {
   "cell_type": "code",
   "execution_count": 2,
   "metadata": {},
   "outputs": [],
   "source": [
    "#load data sets\n",
    "df_2014 = pd.read_csv('Data/2014_Financial_Data.csv')\n",
    "df_2015 = pd.read_csv('Data/2015_Financial_Data.csv')\n",
    "df_2016 = pd.read_csv('Data/2016_Financial_Data.csv')\n",
    "df_2017 = pd.read_csv('Data/2017_Financial_Data.csv')\n",
    "df_2018 = pd.read_csv('Data/2018_Financial_Data.csv')\n",
    "\n",
    "#load S&P-500 data set\n",
    "df_SP500 = pd.read_csv('Data/sp-500-historical-annual-returns.csv')"
   ]
  },
  {
   "cell_type": "markdown",
   "metadata": {},
   "source": [
    "## 2 Dataset Preparation"
   ]
  },
  {
   "cell_type": "markdown",
   "metadata": {},
   "source": [
    "### 2.1 Organising Data Frames"
   ]
  },
  {
   "cell_type": "code",
   "execution_count": 3,
   "metadata": {},
   "outputs": [],
   "source": [
    "#rename price variation columns for later concatenation of the different data frames\n",
    "df_2014 = df_2014.rename(columns={\"2015 PRICE VAR [%]\": \"PRICE VAR [%]\"})\n",
    "df_2015 = df_2015.rename(columns={\"2016 PRICE VAR [%]\": \"PRICE VAR [%]\"})\n",
    "df_2016 = df_2016.rename(columns={\"2017 PRICE VAR [%]\": \"PRICE VAR [%]\"})\n",
    "df_2017 = df_2017.rename(columns={\"2018 PRICE VAR [%]\": \"PRICE VAR [%]\"})\n",
    "df_2018 = df_2018.rename(columns={\"2019 PRICE VAR [%]\": \"PRICE VAR [%]\"})\n",
    "\n",
    "    \n",
    "all_dfs = [df_2014, df_2015, df_2016, df_2017, df_2018]\n",
    "for i in range(len(all_dfs)):\n",
    "    current_df = all_dfs[i]\n",
    "  \n",
    "    #drop row entries consisting of only nan values\n",
    "    current_df.dropna(how = 'all', inplace = True)\n",
    "    \n",
    "    #drop class column and name of share column\n",
    "    current_df = current_df.drop(columns = ['Class', 'Unnamed: 0'], inplace=True)"
   ]
  },
  {
   "cell_type": "markdown",
   "metadata": {},
   "source": [
    "Firstly, we want to get an overview of the data which we deal with. One important property is the Sector and their distribution."
   ]
  },
  {
   "cell_type": "code",
   "execution_count": 4,
   "metadata": {},
   "outputs": [
    {
     "data": {
      "image/png": "[encoded data removed]",
      "text/plain": [
       "<Figure size 432x288 with 5 Axes>"
      ]
     },
     "metadata": {
      "needs_background": "light"
     },
     "output_type": "display_data"
    }
   ],
   "source": [
    "#Plotting the sector distributions\n",
    "df_2014_sector = df_2014['Sector'].value_counts()\n",
    "df_2015_sector = df_2015['Sector'].value_counts()\n",
    "df_2016_sector = df_2016['Sector'].value_counts()\n",
    "df_2017_sector = df_2017['Sector'].value_counts()\n",
    "df_2018_sector = df_2018['Sector'].value_counts()\n",
    "       \n",
    "plt.title('Observations Sector Distribution', fontsize=20)\n",
    "plt.subplot(5, 1, 1)\n",
    "year_2014 = plt.bar(np.arange(len(df_2014_sector)), df_2014_sector)\n",
    "plt.ylabel('2014')\n",
    "plt.ylim([0, 1500])\n",
    "\n",
    "plt.subplot(5, 1, 2)\n",
    "year_2015 = plt.bar(np.arange(len(df_2015_sector)), df_2015_sector)\n",
    "plt.ylabel('2015')\n",
    "plt.ylim([0, 1500])\n",
    "\n",
    "plt.subplot(5, 1, 3)\n",
    "year_2016 = plt.bar(np.arange(len(df_2016_sector)), df_2016_sector)\n",
    "plt.ylabel('2016')\n",
    "plt.ylim([0, 1500])\n",
    "\n",
    "plt.subplot(5, 1, 4)\n",
    "year_2017 = plt.bar(np.arange(len(df_2017_sector)), df_2017_sector)\n",
    "plt.ylabel('2017')\n",
    "plt.ylim([0, 1500])\n",
    "\n",
    "plt.subplot(5,1,5)\n",
    "year_2018 = plt.bar(np.arange(len(df_2018_sector)), df_2018_sector)\n",
    "plt.ylabel('2018')\n",
    "plt.ylim([0, 1500])\n",
    "plt.xticks(np.arange(len(df_2018_sector)), df_2018_sector.index.values.tolist(), rotation = 90)\n",
    "\n",
    "plt.show()"
   ]
  },
  {
   "cell_type": "markdown",
   "metadata": {},
   "source": [
    "We clearly see that some Sectors appear more often than others. And we also see that the dataframes don't have the same size. We decide to add boolean columns for all years. These year columns and the Sector will be part of our most important features."
   ]
  },
  {
   "cell_type": "code",
   "execution_count": 5,
   "metadata": {},
   "outputs": [],
   "source": [
    "#add year columns as booleans\n",
    "df_2014['year_2014'] = 1\n",
    "df_2014['year_2015'] = 0\n",
    "df_2014['year_2016'] = 0\n",
    "df_2014['year_2017'] = 0\n",
    "df_2014['year_2018'] = 0\n",
    "\n",
    "df_2015['year_2014'] = 0\n",
    "df_2015['year_2015'] = 1\n",
    "df_2015['year_2016'] = 0\n",
    "df_2015['year_2017'] = 0\n",
    "df_2015['year_2018'] = 0\n",
    "\n",
    "df_2016['year_2014'] = 0\n",
    "df_2016['year_2015'] = 0\n",
    "df_2016['year_2016'] = 1\n",
    "df_2016['year_2017'] = 0\n",
    "df_2016['year_2018'] = 0\n",
    "\n",
    "df_2017['year_2014'] = 0\n",
    "df_2017['year_2015'] = 0\n",
    "df_2017['year_2016'] = 0\n",
    "df_2017['year_2017'] = 1\n",
    "df_2017['year_2018'] = 0\n",
    "\n",
    "df_2018['year_2014'] = 0\n",
    "df_2018['year_2015'] = 0\n",
    "df_2018['year_2016'] = 0\n",
    "df_2018['year_2017'] = 0\n",
    "df_2018['year_2018'] = 1"
   ]
  },
  {
   "cell_type": "markdown",
   "metadata": {},
   "source": [
    "Obviously, our Sector-column will be important as well. We therefore factorize the categorical value and now have one column per Sector which appears in the data set."
   ]
  },
  {
   "cell_type": "code",
   "execution_count": 6,
   "metadata": {},
   "outputs": [],
   "source": [
    "#Factorize categorical value \"Sector\"\n",
    "df_Sector_Columns_2014 = pd.get_dummies(df_2014['Sector'])\n",
    "df_Sector_Columns_2015 = pd.get_dummies(df_2015['Sector'])\n",
    "df_Sector_Columns_2016 = pd.get_dummies(df_2016['Sector'])\n",
    "df_Sector_Columns_2017 = pd.get_dummies(df_2017['Sector'])\n",
    "df_Sector_Columns_2018 = pd.get_dummies(df_2018['Sector'])\n",
    "\n",
    "#merge dfs\n",
    "df_2014_factorized = pd.concat([df_2014, df_Sector_Columns_2014], axis=1)\n",
    "df_2015_factorized = pd.concat([df_2015, df_Sector_Columns_2015], axis=1)\n",
    "df_2016_factorized = pd.concat([df_2016, df_Sector_Columns_2016], axis=1)\n",
    "df_2017_factorized = pd.concat([df_2017, df_Sector_Columns_2017], axis=1)\n",
    "df_2018_factorized = pd.concat([df_2018, df_Sector_Columns_2018], axis=1)\n",
    "\n",
    "#delete the now useless sector column\n",
    "del df_2014_factorized['Sector']\n",
    "del df_2015_factorized['Sector']\n",
    "del df_2016_factorized['Sector']\n",
    "del df_2017_factorized['Sector']\n",
    "del df_2018_factorized['Sector']"
   ]
  },
  {
   "cell_type": "markdown",
   "metadata": {},
   "source": [
    "### 2.2 Add response variable"
   ]
  },
  {
   "cell_type": "markdown",
   "metadata": {},
   "source": [
    "As requested in the task we add a column for our response variable Strategy (Buy = 0, Hold = 1, Sell = 2). "
   ]
  },
  {
   "cell_type": "code",
   "execution_count": 7,
   "metadata": {},
   "outputs": [],
   "source": [
    "#add S&P500 performance for the following year to the dataframes\n",
    "SP500_performance_2015 = df_SP500.value[87]\n",
    "SP500_performance_2016 = df_SP500.value[88]\n",
    "SP500_performance_2017 = df_SP500.value[89]\n",
    "SP500_performance_2018 = df_SP500.value[90]\n",
    "SP500_performance_2019 = df_SP500.value[91]\n",
    "\n",
    "df_2014_factorized['SP500'] = SP500_performance_2015\n",
    "df_2015_factorized['SP500'] = SP500_performance_2016\n",
    "df_2016_factorized['SP500'] = SP500_performance_2017\n",
    "df_2017_factorized['SP500'] = SP500_performance_2018\n",
    "df_2018_factorized['SP500'] = SP500_performance_2019\n",
    "\n",
    "#add Strategy column      \n",
    "df_2014_factorized['Strategy'] = -1\n",
    "df_2015_factorized['Strategy'] = -1\n",
    "df_2016_factorized['Strategy'] = -1\n",
    "df_2017_factorized['Strategy'] = -1\n",
    "df_2018_factorized['Strategy'] = -1\n",
    "\n",
    "#Fill Strategy column\n",
    "for index in df_2014_factorized.index:\n",
    "    df_2014_factorized.loc[index, 'Strategy'] = helper_functions.get_strategy(df_2014_factorized['PRICE VAR [%]'].values[index],\\\n",
    "                                                                df_2014_factorized['SP500'].values[index])\n",
    "for index in df_2015_factorized.index:\n",
    "    df_2015_factorized.loc[index, 'Strategy'] = helper_functions.get_strategy(df_2015_factorized['PRICE VAR [%]'].values[index],\\\n",
    "                                                                df_2015_factorized['SP500'].values[index])\n",
    "for index in df_2016_factorized.index:\n",
    "    df_2016_factorized.loc[index, 'Strategy'] = helper_functions.get_strategy(df_2016_factorized['PRICE VAR [%]'].values[index],\\\n",
    "                                                                df_2016_factorized['SP500'].values[index])\n",
    "for index in df_2017_factorized.index:\n",
    "    df_2017_factorized.loc[index, 'Strategy'] = helper_functions.get_strategy(df_2017_factorized['PRICE VAR [%]'].values[index],\\\n",
    "                                                                df_2017_factorized['SP500'].values[index])\n",
    "for index in df_2018_factorized.index:\n",
    "    df_2018_factorized.loc[index, 'Strategy'] = helper_functions.get_strategy(df_2018_factorized['PRICE VAR [%]'].values[index],\\\n",
    "                                                                df_2018_factorized['SP500'].values[index])\n",
    "\n",
    "\n"
   ]
  },
  {
   "cell_type": "code",
   "execution_count": 8,
   "metadata": {},
   "outputs": [],
   "source": [
    "#OPTIONAL -- create csv to take a control look at the data frame\n",
    "# e.g. 2016: uncomment following lines\n",
    "\n",
    "#compression_opts = dict(method='zip', archive_name='2016.csv')  \n",
    "#df_2016_factorized.to_csv('2016.zip', index=False,\n",
    "#         compression=compression_opts) "
   ]
  },
  {
   "cell_type": "code",
   "execution_count": 9,
   "metadata": {},
   "outputs": [],
   "source": [
    "#remove S&P 500 column and PRICE VAR\n",
    "columns_to_drop = ['SP500', 'PRICE VAR [%]']\n",
    "df_2014_factorized = df_2014_factorized.drop(columns = columns_to_drop)\n",
    "df_2015_factorized = df_2015_factorized.drop(columns = columns_to_drop)\n",
    "df_2016_factorized = df_2016_factorized.drop(columns = columns_to_drop)\n",
    "df_2017_factorized = df_2017_factorized.drop(columns = columns_to_drop)\n",
    "df_2018_factorized = df_2018_factorized.drop(columns = columns_to_drop)"
   ]
  },
  {
   "cell_type": "markdown",
   "metadata": {},
   "source": [
    "We take a first look at the Strategy distribution. We notice a clear class imbalance but a quite similar picture in every year. "
   ]
  },
  {
   "cell_type": "code",
   "execution_count": 10,
   "metadata": {},
   "outputs": [
    {
     "data": {
      "image/png": "[encoded data removed]",
      "text/plain": [
       "<Figure size 432x288 with 5 Axes>"
      ]
     },
     "metadata": {
      "needs_background": "light"
     },
     "output_type": "display_data"
    }
   ],
   "source": [
    "#Plotting the strategy distributions\n",
    "df_2014_strategy = df_2014_factorized['Strategy'].value_counts()\n",
    "df_2015_strategy = df_2015_factorized['Strategy'].value_counts()\n",
    "df_2016_strategy = df_2016_factorized['Strategy'].value_counts()\n",
    "df_2017_strategy = df_2017_factorized['Strategy'].value_counts()\n",
    "df_2018_strategy = df_2018_factorized['Strategy'].value_counts()\n",
    "       \n",
    "plt.title('Strategy Distributions', fontsize=20)\n",
    "plt.subplot(5, 1, 1)\n",
    "year_2014 = plt.bar(np.arange(len(df_2014_strategy)), df_2014_strategy)\n",
    "plt.ylabel('2014')\n",
    "plt.ylim([0, 3500])\n",
    "\n",
    "plt.subplot(5, 1, 2)\n",
    "year_2015 = plt.bar(np.arange(len(df_2015_strategy)), df_2015_strategy)\n",
    "plt.ylabel('2015')\n",
    "plt.ylim([0, 3500])\n",
    "\n",
    "plt.subplot(5, 1, 3)\n",
    "year_2016 = plt.bar(np.arange(len(df_2016_strategy)), df_2016_strategy)\n",
    "plt.ylabel('2016')\n",
    "plt.ylim([0, 3500])\n",
    "\n",
    "plt.subplot(5, 1, 4)\n",
    "year_2017 = plt.bar(np.arange(len(df_2017_strategy)), df_2017_strategy)\n",
    "plt.ylabel('2017')\n",
    "plt.ylim([0, 3500])\n",
    "\n",
    "plt.subplot(5,1,5)\n",
    "year_2018 = plt.bar(np.arange(len(df_2018_strategy)), df_2018_strategy)\n",
    "plt.ylabel('2018')\n",
    "plt.ylim([0, 3500])\n",
    "plt.xticks(np.arange(len(df_2018_strategy)), df_2018_strategy.index.values.tolist(), rotation = 90)\n",
    "\n",
    "plt.show()"
   ]
  },
  {
   "cell_type": "markdown",
   "metadata": {},
   "source": [
    "## 2.3 Handling missing values"
   ]
  },
  {
   "cell_type": "markdown",
   "metadata": {},
   "source": [
    "### 2.3.1 Columns"
   ]
  },
  {
   "cell_type": "markdown",
   "metadata": {},
   "source": [
    "Financial Data 2014 - zero values"
   ]
  },
  {
   "cell_type": "code",
   "execution_count": 11,
   "metadata": {},
   "outputs": [],
   "source": [
    "#Identification of missing and zero values\n",
    "pd.options.display.max_columns = None\n",
    "pd.options.display.max_rows = None\n",
    "\n",
    "#Check zero values per column\n",
    "percentage_of_zeroes_2014 = round(df_2014_factorized[df_2014_factorized == 0].count(axis = 0) * 100 / len(df_2014_factorized), 1)\n",
    "df_zeroes_2014 = pd.DataFrame({'Percentage of Zero Values': percentage_of_zeroes_2014})\n",
    "df_zeroes_2014.sort_values('Percentage of Zero Values', inplace = True, ascending = False)\n",
    "\n",
    "#print(df_zeroes_2014)"
   ]
  },
  {
   "cell_type": "markdown",
   "metadata": {},
   "source": [
    "Financial Data 2014 - nan values"
   ]
  },
  {
   "cell_type": "code",
   "execution_count": 12,
   "metadata": {},
   "outputs": [],
   "source": [
    "#Check nan values per column\n",
    "percentage_of_nan_2014 = round(df_2014_factorized.isnull().sum() * 100 / len(df_2014_factorized), 1)\n",
    "df_nan_2014 = pd.DataFrame({'Percentage of nan Values': percentage_of_nan_2014})\n",
    "df_nan_2014.sort_values('Percentage of nan Values', inplace = True, ascending = False)\n",
    "\n",
    "#print(df_nan_2014)"
   ]
  },
  {
   "cell_type": "markdown",
   "metadata": {},
   "source": [
    "Besides just getting a first feel for our data set concerning zero and nan values, we also took a closer look at features with extreme or identical percentage values.\n",
    "\n",
    "Hereby we discovered a great amount of duplicate columns and other useless features, which are removed next. As all the data sets consist of the same columns, these will also be removed in the 2015-2018 data sets.\n",
    "\n",
    "As the fractions of zero and nan values may, and most certainly will vary from one year to another, we decided to drop columns due to their overstepping of a certain threshold after combining the cleaned data sets."
   ]
  },
  {
   "cell_type": "markdown",
   "metadata": {},
   "source": [
    "### 2.3.1.1 Drop columns – Unnecessary features"
   ]
  },
  {
   "cell_type": "code",
   "execution_count": 13,
   "metadata": {},
   "outputs": [],
   "source": [
    "useless_feature_columns = ['cashConversionCycle', 'operatingCycle', 'operatingProfitMargin']\n",
    "\n",
    "duplicates = ['priceToSalesRatio', 'priceEarningsRatio', 'priceToFreeCashFlowsRatio', 'priceToOperatingCashFlowsRatio', \\\n",
    "              'dividendYield', 'ebitperRevenue', 'grossProfitMargin', 'returnOnEquity', 'returnOnCapitalEmployed', \\\n",
    "              'eBTperEBIT', 'eBITperRevenue', 'payablesTurnover', 'inventoryTurnover', 'currentRatio', \\\n",
    "              'daysOfPayablesOutstanding', 'debtEquityRatio', 'interestCoverage', 'payoutRatio', 'dividendPayoutRatio', \\\n",
    "              'niperEBT', 'cashFlowCoverageRatios', 'Return on Tangible Assets', 'PTB ratio', 'PB ratio', \\\n",
    "              'Cash per Share', 'Operating Cash Flow per Share', 'Debt to Assets']\n",
    "\n",
    "columns_to_drop = useless_feature_columns + duplicates\n",
    "\n",
    "df_2014_factorized = df_2014_factorized.drop(columns = columns_to_drop)\n",
    "df_2015_factorized = df_2015_factorized.drop(columns = columns_to_drop)\n",
    "df_2016_factorized = df_2016_factorized.drop(columns = columns_to_drop)\n",
    "df_2017_factorized = df_2017_factorized.drop(columns = columns_to_drop)\n",
    "df_2018_factorized = df_2018_factorized.drop(columns = columns_to_drop)"
   ]
  },
  {
   "cell_type": "markdown",
   "metadata": {},
   "source": [
    "### 2.3.1.2 Drop columns – Zero values"
   ]
  },
  {
   "cell_type": "markdown",
   "metadata": {},
   "source": [
    "Financial Data 2014 - zero values"
   ]
  },
  {
   "cell_type": "code",
   "execution_count": 14,
   "metadata": {},
   "outputs": [],
   "source": [
    "#Check zero values per column\n",
    "percentage_of_zeroes_2014 = round(df_2014_factorized[df_2014_factorized == 0].count(axis = 0) * 100 / len(df_2014_factorized), 1)\n",
    "df_zeroes_2014 = pd.DataFrame({'Percentage of Zero Values': percentage_of_zeroes_2014})\n",
    "df_zeroes_2014.sort_values('Percentage of Zero Values', inplace = True, ascending = False)\n",
    "\n",
    "#OPTIONAL\n",
    "#print(df_zeroes_2014)"
   ]
  },
  {
   "cell_type": "markdown",
   "metadata": {},
   "source": [
    "Financial Data 2015 - zero values"
   ]
  },
  {
   "cell_type": "code",
   "execution_count": 15,
   "metadata": {},
   "outputs": [],
   "source": [
    "#Check zero values per column\n",
    "percentage_of_zeroes_2015 = round(df_2015_factorized[df_2015_factorized == 0].count(axis = 0) * 100 / len(df_2015_factorized), 1)\n",
    "df_zeroes_2015 = pd.DataFrame({'Percentage of Zero Values': percentage_of_zeroes_2015})\n",
    "df_zeroes_2015.sort_values('Percentage of Zero Values', inplace = True, ascending = False)\n",
    "\n",
    "#OPTIONAL\n",
    "#print(df_zeroes_2015)"
   ]
  },
  {
   "cell_type": "markdown",
   "metadata": {},
   "source": [
    "Financial Data 2016 - zero values"
   ]
  },
  {
   "cell_type": "code",
   "execution_count": 16,
   "metadata": {},
   "outputs": [],
   "source": [
    "#Check zero values per column\n",
    "percentage_of_zeroes_2016 = round(df_2016_factorized[df_2016_factorized == 0].count(axis = 0) * 100 / len(df_2016_factorized), 1)\n",
    "df_zeroes_2016 = pd.DataFrame({'Percentage of Zero Values': percentage_of_zeroes_2016})\n",
    "df_zeroes_2016.sort_values('Percentage of Zero Values', inplace = True, ascending = False)\n",
    "\n",
    "#OPTIONAL\n",
    "#print(df_zeroes_2016)"
   ]
  },
  {
   "cell_type": "markdown",
   "metadata": {},
   "source": [
    "Financial Data 2017 - zero values"
   ]
  },
  {
   "cell_type": "code",
   "execution_count": 17,
   "metadata": {},
   "outputs": [],
   "source": [
    "#Check zero values per column\n",
    "percentage_of_zeroes_2017 = round(df_2017_factorized[df_2017_factorized == 0].count(axis = 0) * 100 / len(df_2017_factorized), 1)\n",
    "df_zeroes_2017 = pd.DataFrame({'Percentage of Zero Values': percentage_of_zeroes_2017})\n",
    "df_zeroes_2017.sort_values('Percentage of Zero Values', inplace = True, ascending = False)\n",
    "\n",
    "#OPTIONAL\n",
    "#print(df_zeroes_2017)"
   ]
  },
  {
   "cell_type": "markdown",
   "metadata": {},
   "source": [
    "Financial Data 2018 - zero values"
   ]
  },
  {
   "cell_type": "code",
   "execution_count": 18,
   "metadata": {},
   "outputs": [],
   "source": [
    "#Check zero values per column\n",
    "percentage_of_zeroes_2018 = round(df_2018_factorized[df_2018_factorized == 0].count(axis = 0) * 100 / len(df_2018_factorized), 1)\n",
    "df_zeroes_2018 = pd.DataFrame({'Percentage of Zero Values': percentage_of_zeroes_2018})\n",
    "df_zeroes_2018.sort_values('Percentage of Zero Values', inplace = True, ascending = False)\n",
    "\n",
    "#OPTIONAL\n",
    "#print(df_zeroes_2018)"
   ]
  },
  {
   "cell_type": "markdown",
   "metadata": {},
   "source": [
    "When comparing the Zero Value Percentage Columns, corrected from the factorized sector columns, then we can see, that there are the following columns present with a threshold of more than 50%:\n",
    "\n",
    "2014: <br>\n",
    "Preferred Dividends                                              (83.7)<br>\n",
    "Net Income - Discontinued ops                                    (80.0)<br>\n",
    "Deposit Liabilities                                              (79.6)<br>\n",
    "R&D to Revenue                                                   (65.0)<br>\n",
    "Net Income - Non-Controlling int                                 (64.4)<br>\n",
    "Deferred revenue                                                 (62.4)<br>\n",
    "R&D Expenses                                                     (61.5)<br>\n",
    "R&D Expense Growth                                               (60.0)<br>\n",
    "Dividends per Share Growth                                       (57.3)<br>\n",
    "Effect of forex changes on cash                                  (51.4)<br>\n",
    "3Y Dividend per Share Growth (per Share)                         (51.1)<br>\n",
    "Dividend Yield                                                   (50.5)<br>\n",
    "Dividend per Share                                               (50.3)<br>\n",
    "<br>\n",
    "<br>\n",
    "2015: <br>\n",
    "Preferred Dividends                                              (81.8)<br>\n",
    "Net Income - Discontinued ops                                    (80.0)<br>\n",
    "Deposit Liabilities                                              (78.1)<br>\n",
    "R&D to Revenue                                                   (62.5)<br>\n",
    "Net Income - Non-Controlling int                                 (62.3)<br>\n",
    "Deferred revenue                                                 (60.8)<br>\n",
    "R&D Expenses                                                     (59.1)<br>\n",
    "Short-term investments                                           (58.5)<br>\n",
    "R&D Expense Growth                                               (58.3)<br>\n",
    "Dividends per Share Growth                                       (55.9)<br>\n",
    "<br>\n",
    "<br>\n",
    "2016:<br>\n",
    "Preferred Dividends                                              (75.0)<br>\n",
    "Net Income - Discontinued ops                                    (74.2)<br>\n",
    "Deposit Liabilities                                              (71.3)<br>\n",
    "Net Income - Non-Controlling int                                 (57.2)<br>\n",
    "R&D to Revenue                                                   (56.7)<br>\n",
    "Deferred revenue                                                 (55.2)<br>\n",
    "Short-term investments                                           (54.7)<br>\n",
    "R&D Expenses                                                     (53.4)<br>\n",
    "R&D Expense Growth                                               (52.8)<br>\n",
    "Dividends per Share Growth                                       (52.7)<br>\n",
    "<br>\n",
    "<br>\n",
    "2017:<br>\n",
    "Net Income - Discontinued ops                                    (74.2)<br>\n",
    "Preferred Dividends                                              (73.3)<br>\n",
    "Deposit Liabilities                                              (70.4)<br>\n",
    "Net Income - Non-Controlling int                                 (56.0)<br>\n",
    "R&D to Revenue                                                   (55.7)<br>\n",
    "Deferred revenue                                                 (55.4)<br>\n",
    "Short-term investments                                           (53.8)<br>\n",
    "Dividends per Share Growth                                       (53.0)<br>\n",
    "R&D Expenses                                                     (52.5)<br>\n",
    "R&D Expense Growth                                               (52.2)<br>\n",
    "<br>\n",
    "<br>\n",
    "2018:<br>\n",
    "Preferred Dividends                                              (83.5)<br>\n",
    "Deposit Liabilities                                              (79.8)<br>\n",
    "Deferred revenue                                                 (64.2)<br>\n",
    "R&D to Revenue                                                   (63.1)<br>\n",
    "Net Income - Non-Controlling int                                 (63.0)<br>\n",
    "Short-term investments                                           (59.7)<br>\n",
    "R&D Expenses                                                     (59.6)<br>\n",
    "R&D Expense Growth                                               (59.4)<br>\n",
    "Dividends per Share Growth                                       (58.4)<br>\n",
    "3Y Dividend per Share Growth (per Share)                         (55.1)<br>\n",
    "Tax assets                                                       (52.6)<br>\n",
    "<br>\n",
    "<br>\n",
    "Due to these findings, we decided to further remove from all data sets the following columns"
   ]
  },
  {
   "cell_type": "code",
   "execution_count": 19,
   "metadata": {},
   "outputs": [],
   "source": [
    "zero_value_drops = ['Preferred Dividends', 'Net Income - Discontinued ops', 'Deposit Liabilities', 'Deferred revenue', \\\n",
    "                   'Net Income - Non-Controlling int', 'R&D to Revenue', 'R&D Expenses', 'Short-term investments', \\\n",
    "                   'R&D Expense Growth', 'Dividends per Share Growth']\n",
    "\n",
    "df_2014_factorized = df_2014_factorized.drop(columns = zero_value_drops)\n",
    "df_2015_factorized = df_2015_factorized.drop(columns = zero_value_drops)\n",
    "df_2016_factorized = df_2016_factorized.drop(columns = zero_value_drops)\n",
    "df_2017_factorized = df_2017_factorized.drop(columns = zero_value_drops)\n",
    "df_2018_factorized = df_2018_factorized.drop(columns = zero_value_drops)"
   ]
  },
  {
   "cell_type": "markdown",
   "metadata": {},
   "source": [
    "### 2.3.1.2 Drop columns – NaN values"
   ]
  },
  {
   "cell_type": "markdown",
   "metadata": {},
   "source": [
    "Financial Data 2014 - NaN values"
   ]
  },
  {
   "cell_type": "code",
   "execution_count": 20,
   "metadata": {},
   "outputs": [],
   "source": [
    "#Check nan values per column\n",
    "percentage_of_nan_2014 = round(df_2014_factorized.isnull().sum() * 100 / len(df_2014_factorized), 1)\n",
    "df_nan_2014 = pd.DataFrame({'Percentage of nan Values': percentage_of_nan_2014})\n",
    "df_nan_2014.sort_values('Percentage of nan Values', inplace = True, ascending = False)\n",
    "\n",
    "#OPTIONAL\n",
    "#print(df_nan_2014)"
   ]
  },
  {
   "cell_type": "markdown",
   "metadata": {},
   "source": [
    "Financial Data 2015 - NaN values"
   ]
  },
  {
   "cell_type": "code",
   "execution_count": 21,
   "metadata": {},
   "outputs": [],
   "source": [
    "#Check nan values per column\n",
    "percentage_of_nan_2015 = round(df_2015_factorized.isnull().sum() * 100 / len(df_2015_factorized), 1)\n",
    "df_nan_2015 = pd.DataFrame({'Percentage of nan Values': percentage_of_nan_2015})\n",
    "df_nan_2015.sort_values('Percentage of nan Values', inplace = True, ascending = False)\n",
    "\n",
    "#OPTIONAL\n",
    "#print(df_nan_2015)"
   ]
  },
  {
   "cell_type": "markdown",
   "metadata": {},
   "source": [
    "Financial Data 2016 - NaN values"
   ]
  },
  {
   "cell_type": "code",
   "execution_count": 22,
   "metadata": {},
   "outputs": [],
   "source": [
    "#Check nan values per column\n",
    "percentage_of_nan_2016 = round(df_2016_factorized.isnull().sum() * 100 / len(df_2016_factorized), 1)\n",
    "df_nan_2016 = pd.DataFrame({'Percentage of nan Values': percentage_of_nan_2016})\n",
    "df_nan_2016.sort_values('Percentage of nan Values', inplace = True, ascending = False)\n",
    "\n",
    "#OPTIONAL\n",
    "#print(df_nan_2016)"
   ]
  },
  {
   "cell_type": "markdown",
   "metadata": {},
   "source": [
    "Financial Data 2017 - NaN values"
   ]
  },
  {
   "cell_type": "code",
   "execution_count": 23,
   "metadata": {},
   "outputs": [],
   "source": [
    "#Check nan values per column\n",
    "percentage_of_nan_2017 = round(df_2017_factorized.isnull().sum() * 100 / len(df_2017_factorized), 1)\n",
    "df_nan_2017 = pd.DataFrame({'Percentage of nan Values': percentage_of_nan_2017})\n",
    "df_nan_2017.sort_values('Percentage of nan Values', inplace = True, ascending = False)\n",
    "\n",
    "#OPTIONAL\n",
    "#print(df_nan_2017)"
   ]
  },
  {
   "cell_type": "markdown",
   "metadata": {},
   "source": [
    "Financial Data 2018 - NaN values"
   ]
  },
  {
   "cell_type": "code",
   "execution_count": 24,
   "metadata": {},
   "outputs": [],
   "source": [
    "#Check nan values per column\n",
    "percentage_of_nan_2018 = round(df_2018_factorized.isnull().sum() * 100 / len(df_2018_factorized), 1)\n",
    "df_nan_2018 = pd.DataFrame({'Percentage of nan Values': percentage_of_nan_2018})\n",
    "df_nan_2018.sort_values('Percentage of nan Values', inplace = True, ascending = False)\n",
    "\n",
    "#OPTIONAL\n",
    "#print(df_nan_2018)"
   ]
  },
  {
   "cell_type": "markdown",
   "metadata": {},
   "source": [
    "When comparing the NaN Value Percentage Columns we can see, that there are the following columns present with a threshold of missing values above 40%:\n",
    "\n",
    "2014: <br>\n",
    "shortTermCoverageRatios                                         51.4<br>\n",
    "cashFlowToDebtRatio                                             41.9<br>\n",
    "10Y Shareholders Equity Growth (per Share)                      41.6<br>\n",
    "10Y Revenue Growth (per Share)                                  40.6<br>\n",
    "10Y Net Income Growth (per Share)                               40.6<br>\n",
    "10Y Operating CF Growth (per Share)                             40.3<br>\n",
    "<br>\n",
    "<br>\n",
    "2015: <br>\n",
    "shortTermCoverageRatios                                         46.7<br>\n",
    "10Y Shareholders Equity Growth (per Share)                      42.9<br>\n",
    "10Y Revenue Growth (per Share)                                  42.2<br>\n",
    "10Y Net Income Growth (per Share)                               42.2<br>\n",
    "10Y Operating CF Growth (per Share)                             41.9<br>\n",
    "<br>\n",
    "<br>\n",
    "2016: <br>\n",
    "shortTermCoverageRatios                                         50.4<br>\n",
    "10Y Shareholders Equity Growth (per Share)                      47.7<br>\n",
    "10Y Net Income Growth (per Share)                               47.4<br>\n",
    "10Y Revenue Growth (per Share)                                  47.4<br>\n",
    "10Y Operating CF Growth (per Share)                             47.1<br>\n",
    "priceEarningsToGrowthRatio                                      46.2<br>\n",
    "10Y Dividend per Share Growth (per Share)                       46.1<br>\n",
    "Net Debt to EBITDA                                              44.1<br>\n",
    "nIperEBT                                                        43.5<br>\n",
    "effectiveTaxRate                                                43.5<br>\n",
    "ebtperEBIT                                                      41.4<br>\n",
    "Net Debt                                                        40.5<br>\n",
    "Other Assets                                                    40.3<br>\n",
    "<br>\n",
    "<br>\n",
    "2017: <br>\n",
    "shortTermCoverageRatios                                         50.8<br>\n",
    "10Y Shareholders Equity Growth (per Share)                      47.3<br>\n",
    "10Y Net Income Growth (per Share)                               46.8<br>\n",
    "10Y Revenue Growth (per Share)                                  46.8<br>\n",
    "10Y Operating CF Growth (per Share)                             46.6<br>\n",
    "10Y Dividend per Share Growth (per Share)                       45.8<br>\n",
    "priceEarningsToGrowthRatio                                      45.6<br>\n",
    "Net Debt to EBITDA                                              44.4<br>\n",
    "effectiveTaxRate                                                43.2<br>\n",
    "nIperEBT                                                        43.2<br>\n",
    "ebtperEBIT                                                      41.0<br>\n",
    "<br>\n",
    "<br>\n",
    "2018: <br>\n",
    "shortTermCoverageRatios                                         43.9<br>\n",
    "<br>\n",
    "<br>\n",
    "Due to these findings, we decided to further remove from all data sets the following columns"
   ]
  },
  {
   "cell_type": "code",
   "execution_count": 25,
   "metadata": {},
   "outputs": [],
   "source": [
    "nan_values_drop = ['shortTermCoverageRatios', '10Y Shareholders Equity Growth (per Share)', \\\n",
    "                   '10Y Net Income Growth (per Share)', '10Y Revenue Growth (per Share)', \\\n",
    "                  '10Y Operating CF Growth (per Share)', '10Y Dividend per Share Growth (per Share)']\n",
    "\n",
    "df_2014_factorized = df_2014_factorized.drop(columns = nan_values_drop)\n",
    "df_2015_factorized = df_2015_factorized.drop(columns = nan_values_drop)\n",
    "df_2016_factorized = df_2016_factorized.drop(columns = nan_values_drop)\n",
    "df_2017_factorized = df_2017_factorized.drop(columns = nan_values_drop)\n",
    "df_2018_factorized = df_2018_factorized.drop(columns = nan_values_drop)"
   ]
  },
  {
   "cell_type": "markdown",
   "metadata": {},
   "source": [
    "When looking at the dropped columns above, it also makes sense, in our opinion, from an economical point of view to drop these 10 year metrics, as we see such a long period as too long to be of any use."
   ]
  },
  {
   "cell_type": "markdown",
   "metadata": {},
   "source": [
    "### 2.3.2 Rows"
   ]
  },
  {
   "cell_type": "markdown",
   "metadata": {},
   "source": [
    "We decided to delete rows which still have more than 48 NaN values. I.e. all rows need at least 144 Non-NaN-values in their 192 columns. These values are chosen since in this case, 75% of all values of every row are Non-NaN-values which seams plausible for us. If you have to impute more than every fourth value, we don't see the legitimacy to still include such a row into our dataframe.\n",
    "We therefore delete XXX out of XXX rows (XXXX %)."
   ]
  },
  {
   "cell_type": "code",
   "execution_count": 26,
   "metadata": {},
   "outputs": [],
   "source": [
    "#delete rows which have less than 144 Non-NaN values\n",
    "df_2014_factorized.dropna(axis=0, thresh=144, inplace=True)\n",
    "df_2015_factorized.dropna(axis=0, thresh=144, inplace=True)\n",
    "df_2016_factorized.dropna(axis=0, thresh=144, inplace=True)\n",
    "df_2017_factorized.dropna(axis=0, thresh=144, inplace=True)\n",
    "df_2018_factorized.dropna(axis=0, thresh=144, inplace=True)"
   ]
  },
  {
   "cell_type": "markdown",
   "metadata": {},
   "source": [
    "## 2.4 Outlier Handling"
   ]
  },
  {
   "cell_type": "markdown",
   "metadata": {},
   "source": [
    "We decided to handle possible outliers on a per year data set level. Furthermore, it is in our opinion of importance to do this task sectorwise. We define the upper 5 and lower 5 percent of all values in every year and sector as outliers and replace it with the corresponding threshold."
   ]
  },
  {
   "cell_type": "code",
   "execution_count": 27,
   "metadata": {},
   "outputs": [],
   "source": [
    "upper_quantile_threshold = 0.95\n",
    "lower_quantile_threshold = 0.05"
   ]
  },
  {
   "cell_type": "markdown",
   "metadata": {},
   "source": [
    "Financial Data 2014"
   ]
  },
  {
   "cell_type": "code",
   "execution_count": 28,
   "metadata": {},
   "outputs": [],
   "source": [
    "#OPTIONAL check if Outlier handling works (see below as well)\n",
    "#df_2014_factorized[df_2014_factorized['Consumer Defensive']==1].describe()"
   ]
  },
  {
   "cell_type": "code",
   "execution_count": 29,
   "metadata": {},
   "outputs": [],
   "source": [
    "factorized_dfs = [df_2014_factorized, df_2015_factorized, df_2016_factorized, df_2017_factorized,df_2018_factorized]\n",
    "imputed_factorized = [None] * 5\n",
    "for i in range(len(factorized_dfs)):\n",
    "    df_factorized = factorized_dfs[i]\n",
    "    df_sectors_strategy = df_factorized.iloc[:, -12:]\n",
    "    \n",
    "    df_factorized_copy = df_factorized.drop(columns = ['Consumer Cyclical', 'Consumer Defensive', \\\n",
    "                                                                'Energy', 'Financial Services', 'Healthcare', 'Industrials', \\\n",
    "                                                                'Real Estate', 'Technology', 'Utilities', 'Basic Materials', \\\n",
    "                                                                 'Communication Services', 'Strategy'])\n",
    "    sectors = ['Consumer Defensive','Basic Materials','Healthcare', 'Consumer Cyclical', 'Industrials','Real Estate', 'Communication Services',\n",
    "          'Energy', 'Financial Services','Utilities','Technology']\n",
    "    df_names = {'CD':[],'BM':[],'HC':[],'CC':[],'II':[],'RE':[],\n",
    "            'CS':[],'EE':[],'FS':[],'UU':[],'TC':[]}\n",
    "    dfs_to_check = []\n",
    "    for i, j in zip(sectors, df_names):\n",
    "        df_names[j] = df_factorized_copy[df_factorized[i] == 1].values\n",
    "        df_names[j] = pd.DataFrame(df_names[j])\n",
    "        dfs_to_check.append(df_names[j])\n",
    "\n",
    "    new_dfs = []\n",
    "    for i in range(len(dfs_to_check)):\n",
    "        df_deep_copy = dfs_to_check[i].copy(deep = True)\n",
    "        top_quantiles = df_deep_copy.quantile(upper_quantile_threshold)\n",
    "        outliers_top = (df_deep_copy > top_quantiles)\n",
    "\n",
    "        low_quantiles = df_deep_copy.quantile(lower_quantile_threshold)\n",
    "        outliers_low = (df_deep_copy < low_quantiles)\n",
    "\n",
    "        df_deep_copy = df_deep_copy.mask(outliers_top, top_quantiles, axis=1)\n",
    "        df_deep_copy = df_deep_copy.mask(outliers_low, low_quantiles, axis=1)\n",
    "\n",
    "        new_dfs.append(df_deep_copy)\n",
    "\n",
    "    df_factorized = pd.concat(new_dfs)\n",
    "    df_factorized['Strategy'] = df_sectors_strategy['Strategy']\n",
    "    for i in sectors:\n",
    "        df_factorized[i] = df_sectors_strategy[i]   "
   ]
  },
  {
   "cell_type": "code",
   "execution_count": 30,
   "metadata": {},
   "outputs": [],
   "source": [
    "#OPTIONAL check if Outlier handling works (see above as well)\n",
    "#df_2014_factorized[df_2014_factorized['Consumer Defensive']==1].describe()"
   ]
  },
  {
   "cell_type": "markdown",
   "metadata": {},
   "source": [
    "## 2.5 Imputation of missing values"
   ]
  },
  {
   "cell_type": "markdown",
   "metadata": {},
   "source": [
    "We decided to impute missing values on a per year data set level. Furthermore, it is in our opinion of importance to do this task sectorwise as the outlier handling. We imputed with the median strategy with the help of SimpleImputer."
   ]
  },
  {
   "cell_type": "code",
   "execution_count": 32,
   "metadata": {},
   "outputs": [],
   "source": [
    "factorizeds = [df_2014_factorized, df_2015_factorized, df_2016_factorized, df_2017_factorized,df_2018_factorized]\n",
    "imputed_factorized = [None] * 5\n",
    "for k in range(len(factorizeds)):\n",
    "    factorized = factorizeds[k]\n",
    "    sectors = ['Consumer Defensive','Basic Materials','Healthcare', 'Consumer Cyclical', 'Industrials','Real Estate', 'Communication Services',\n",
    "          'Energy', 'Financial Services','Utilities','Technology']\n",
    "    df_names = {'imp_CD':[],'imp_BM':[],'imp_HC':[],'imp_CC':[],'imp_II':[],'imp_RE':[],\n",
    "            'imp_CS':[],'imp_EE':[],'imp_FS':[],'imp_UU':[],'imp_TC':[]}\n",
    "    frames_to_concat = []\n",
    "    for i, j in zip(sectors, df_names):\n",
    "        ipr = SimpleImputer(missing_values=np.nan, strategy='median')\n",
    "        ipr = ipr.fit(factorized[factorized[i] == 1].values)\n",
    "        df_names[j] = ipr.transform(factorized[factorized[i] == 1].values)\n",
    "        df_names[j] = pd.DataFrame(df_names[j])\n",
    "        frames_to_concat.append(df_names[j])\n",
    "\n",
    "    df_factorized_imputed = pd.concat(frames_to_concat)\n",
    "    df_factorized_imputed.columns = factorized.columns\n",
    "    imputed_factorized[k] = df_factorized_imputed"
   ]
  },
  {
   "cell_type": "markdown",
   "metadata": {},
   "source": [
    "Finally, we can concatenate our yearly data frames."
   ]
  },
  {
   "cell_type": "code",
   "execution_count": 33,
   "metadata": {},
   "outputs": [],
   "source": [
    "#Concatenating all yearly data frames\n",
    "all_frames = [imputed_factorized[0], imputed_factorized[1], imputed_factorized[2], \\\n",
    "              imputed_factorized[3], imputed_factorized[4]]\n",
    "\n",
    "df_complete = pd.concat(all_frames)"
   ]
  },
  {
   "cell_type": "markdown",
   "metadata": {},
   "source": [
    "We than do a zero-value-check again. Because we imputed with the median (which can be zero of course), it's possible that some columns now have a high number of zero-values."
   ]
  },
  {
   "cell_type": "code",
   "execution_count": 34,
   "metadata": {},
   "outputs": [
    {
     "name": "stdout",
     "output_type": "stream",
     "text": [
      "                                           Percentage of Zero Values\n",
      "Communication Services                                     98.101201\n",
      "Utilities                                                  97.536143\n",
      "Consumer Defensive                                         95.642435\n",
      "Energy                                                     94.405416\n",
      "Real Estate                                                94.257789\n",
      "Basic Materials                                            93.499287\n",
      "Consumer Cyclical                                          88.123600\n",
      "Industrials                                                86.540419\n",
      "Technology                                                 84.575443\n",
      "Healthcare                                                 83.715129\n",
      "Financial Services                                         83.603136\n",
      "year_2014                                                  81.892690\n",
      "year_2015                                                  80.706577\n",
      "year_2016                                                  79.393199\n",
      "year_2017                                                  79.057218\n",
      "year_2018                                                  78.950316\n",
      "5Y Dividend per Share Growth (per Share)                   64.589697\n",
      "3Y Dividend per Share Growth (per Share)                   61.520057\n",
      "Dividend Yield                                             52.911831\n",
      "Dividend per Share                                         52.682753\n",
      "Payout Ratio                                               52.555488\n",
      "Tax assets                                                 52.270413\n",
      "Dividend payments                                          51.914070\n",
      "Long-term investments                                      51.578090\n",
      "Effect of forex changes on cash                            51.399919\n",
      "Acquisitions and disposals                                 50.478518\n",
      "5Y Net Income Growth (per Share)                           48.172470\n",
      "Days of Inventory on Hand                                  46.731827\n",
      "daysOfSalesOutstanding                                     46.731827\n",
      "Tax Liabilities                                            46.599471\n",
      "Inventory Growth                                           46.385665\n",
      "Inventories                                                45.693341\n",
      "Inventory Turnover                                         45.092649\n",
      "3Y Net Income Growth (per Share)                           45.067196\n",
      "Average Inventory                                          44.715944\n",
      "Investment purchases and sales                             41.900835\n",
      "Short-term debt                                            41.605579\n",
      "Strategy                                                   39.834046\n",
      "Investments                                                38.016697\n",
      "PFCF ratio                                                 35.512116\n",
      "PE ratio                                                   34.402362\n",
      "5Y Operating CF Growth (per Share)                         31.811240\n",
      "3Y Operating CF Growth (per Share)                         31.714518\n",
      "Graham Number                                              29.673183\n",
      "Capex to Operating Cash Flow                               26.740990\n",
      "Intangibles to Total Assets                                26.517003\n",
      "Goodwill and Intangible Assets                             26.420281\n",
      "Interest Expense                                           25.488699\n",
      "Interest Coverage                                          25.483608\n",
      "longtermDebtToCapitalization                               24.725107\n",
      "Other comprehensive income                                 24.429851\n",
      "Long-term debt                                             21.884545\n",
      "Cost of Revenue                                            21.640195\n",
      "Enterprise Value over EBITDA                               21.543474\n",
      "totalDebtToCapitalization                                  20.912238\n",
      "Debt Growth                                                19.639585\n",
      "priceToBookRatio                                           19.217064\n",
      "Stock-based compensation to Revenue                        18.977805\n",
      "Days Sales Outstanding                                     17.781511\n",
      "daysOfInventoryOutstanding                                 17.781511\n",
      "Issuance (buybacks) of shares                              17.771330\n",
      "Interest Debt per Share                                    17.598249\n",
      "Debt to Equity                                             17.593158\n",
      "debtRatio                                                  17.567705\n",
      "Total debt                                                 17.526980\n",
      "Issuance (repayment) of debt                               17.246997\n",
      "Receivables growth                                         16.921197\n",
      "Receivables Turnover                                       16.855019\n",
      "Receivables                                                16.615761\n",
      "Average Receivables                                        15.424557\n",
      "Days Payables Outstanding                                  14.951130\n",
      "Stock-based compensation                                   14.660965\n",
      "Payables Turnover                                          14.355528\n",
      "Income Tax Expense                                         13.515577\n",
      "5Y Shareholders Equity Growth (per Share)                  12.466911\n",
      "3Y Shareholders Equity Growth (per Share)                  11.968031\n",
      "Payables                                                   10.501934\n",
      "Average Payables                                           10.140501\n",
      "Capex to Revenue                                            8.435146\n",
      "ROIC                                                        7.284667\n",
      "3Y Revenue Growth (per Share)                               7.009774\n",
      "SG&A to Revenue                                             6.872327\n",
      "5Y Revenue Growth (per Share)                               6.760334\n",
      "Capex to Depreciation                                       6.699247\n",
      "priceBookValueRatio                                         5.217878\n",
      "Revenue Growth                                              5.019344\n",
      "Gross Profit Growth                                         4.978619\n",
      "Weighted Average Shares Diluted Growth                      4.830992\n",
      "Capex per Share                                             4.820810\n",
      "Property, Plant & Equipment Net                             4.739361\n",
      "Revenue per Share                                           4.668092\n",
      "Capital Expenditure                                         4.642639\n",
      "Net Profit Margin                                           4.632458\n",
      "Earnings Before Tax Margin                                  4.586642\n",
      "Free Cash Flow margin                                       4.576461\n",
      "Price to Sales Ratio                                        4.556099\n",
      "EBIT Margin                                                 4.551008\n",
      "Gross Margin                                                4.520464\n",
      "Revenue                                                     4.515374\n",
      "assetTurnover                                               4.515374\n",
      "Depreciation & Amortization                                 4.449196\n",
      "Gross Profit                                                4.423743\n",
      "fixedAssetTurnover                                          3.996131\n",
      "priceSalesRatio                                             3.894319\n",
      "Weighted Average Shares Growth                              3.721238\n",
      "Total non-current liabilities                               3.680513\n",
      "EV to Sales                                                 3.655060\n",
      "effectiveTaxRate                                            3.313989\n",
      "Other Liabilities                                           3.263083\n",
      "priceFairValue                                              3.191814\n",
      "priceCashFlowRatio                                          2.703115\n",
      "SG&A Expenses Growth                                        2.499491\n",
      "SG&A Expense                                                2.412951\n",
      "priceEarningsToGrowthRatio                                  2.316229\n",
      "Retained earnings (deficit)                                 2.148239\n",
      "Investing Cash flow                                         1.791896\n",
      "EPS Diluted Growth                                          1.298106\n",
      "EPS Growth                                                  1.287925\n",
      "Financing Cash Flow                                         0.865404\n",
      "Other Assets                                                0.626145\n",
      "Profit Margin                                               0.473427\n",
      "cashPerShare                                                0.463246\n",
      "Earnings Yield                                              0.422521\n",
      "EPS                                                         0.412340\n",
      "EPS Diluted                                                 0.412340\n",
      "Cash and cash equivalents                                   0.341071\n",
      "Net cash flow / Change in cash                              0.320709\n",
      "Net Cash/Marketcap                                          0.305437\n",
      "cashRatio                                                   0.300346\n",
      "Cash and short-term investments                             0.259621\n",
      "Net Income Growth                                           0.239259\n",
      "Operating Cash Flow growth                                  0.234168\n",
      "Operating Expenses                                          0.223987\n",
      "Shareholders Equity per Share                               0.198534\n",
      "Net Income per Share                                        0.198534\n",
      "Asset Growth                                                0.173081\n",
      "operatingCashFlowPerShare                                   0.157809\n",
      "Operating Income Growth                                     0.152718\n",
      "EBIT Growth                                                 0.147628\n",
      "Book Value per Share Growth                                 0.137447\n",
      "ROE                                                         0.127265\n",
      "Free Cash Flow Yield                                        0.122175\n",
      "netProfitMargin                                             0.117084\n",
      "Total non-current assets                                    0.117084\n",
      "returnOnAssets                                              0.101812\n",
      "EBITDA Margin                                               0.096722\n",
      "freeCashFlowPerShare                                        0.091631\n",
      "Free Cash Flow per Share                                    0.091631\n",
      "Income Quality                                              0.086540\n",
      "Free Cash Flow growth                                       0.081450\n",
      "Graham Net-Net                                              0.076359\n",
      "Total current liabilities                                   0.071269\n",
      "Market Cap                                                  0.071269\n",
      "Net Income Com                                              0.066178\n",
      "Net Income                                                  0.066178\n",
      "Book Value per Share                                        0.066178\n",
      "Net Debt to EBITDA                                          0.055997\n",
      "nIperEBT                                                    0.050906\n",
      "EBIT                                                        0.050906\n",
      "POCF ratio                                                  0.045816\n",
      "Operating Income                                            0.045816\n",
      "Net Debt                                                    0.045816\n",
      "Total shareholders equity                                   0.045816\n",
      "enterpriseValueMultiple                                     0.040725\n",
      "Earnings before Tax                                         0.035634\n",
      "freeCashFlowOperatingCashFlowRatio                          0.035634\n",
      "Total liabilities                                           0.035634\n",
      "ebtperEBIT                                                  0.035634\n",
      "Operating Cash Flow                                         0.025453\n",
      "Total current assets                                        0.025453\n",
      "Current ratio                                               0.020362\n",
      "operatingCashFlowSalesRatio                                 0.020362\n",
      "Net Current Asset Value                                     0.015272\n",
      "Consolidated Income                                         0.015272\n",
      "Free Cash Flow                                              0.015272\n",
      "Weighted Average Shs Out (Dil)                              0.015272\n",
      "Weighted Average Shs Out                                    0.015272\n",
      "cashFlowToDebtRatio                                         0.015272\n",
      "Tangible Book Value per Share                               0.010181\n",
      "pretaxProfitMargin                                          0.010181\n",
      "EV to Free cash flow                                        0.010181\n",
      "capitalExpenditureCoverageRatios                            0.005091\n",
      "EV to Operating cash flow                                   0.005091\n",
      "quickRatio                                                  0.005091\n",
      "Working Capital                                             0.005091\n",
      "Tangible Asset Value                                        0.005091\n",
      "dividendpaidAndCapexCoverageRatios                          0.005091\n",
      "companyEquityMultiplier                                     0.000000\n",
      "Total assets                                                0.000000\n",
      "EBITDA                                                      0.000000\n",
      "Enterprise Value                                            0.000000\n",
      "Invested Capital                                            0.000000\n"
     ]
    }
   ],
   "source": [
    "#Check zero values per column\n",
    "percentage_of_zeroes_complete = df_complete[df_complete == 0].count(axis = 0) *100 / len(df_complete)\n",
    "df_zeroes_complete = pd.DataFrame({'Percentage of Zero Values': percentage_of_zeroes_complete})\n",
    "df_zeroes_complete.sort_values('Percentage of Zero Values', inplace = True, ascending = False)\n",
    "\n",
    "\n",
    "print(df_zeroes_complete)"
   ]
  },
  {
   "cell_type": "code",
   "execution_count": 35,
   "metadata": {},
   "outputs": [],
   "source": [
    "#Again we drop columns with zero values percentages above 50%\n",
    "#wegen median imputation können die 0-Werte wieder steigen -> mehr Spalten rausschmeissen\n",
    "zero_values_drops_complete = ['5Y Dividend per Share Growth (per Share)', '3Y Dividend per Share Growth (per Share)', \\\n",
    "                              'Tax assets', 'Acquisitions and disposals', 'Effect of forex changes on cash', \\\n",
    "                              'Inventory Growth', 'Payout Ratio']\n",
    "\n",
    "df_complete = df_complete.drop(columns = zero_values_drops_complete)"
   ]
  },
  {
   "cell_type": "markdown",
   "metadata": {},
   "source": [
    "# 3 Machine Learning Data Analysis"
   ]
  },
  {
   "cell_type": "markdown",
   "metadata": {},
   "source": [
    "## 3.1 ML Data Preparation"
   ]
  },
  {
   "cell_type": "markdown",
   "metadata": {},
   "source": [
    "### 3.1.1. Train-Test-Split"
   ]
  },
  {
   "cell_type": "markdown",
   "metadata": {},
   "source": [
    "Define Strategy as the response variable. Split into train and test set."
   ]
  },
  {
   "cell_type": "code",
   "execution_count": 36,
   "metadata": {},
   "outputs": [],
   "source": [
    "cols = df_complete.columns.values\n",
    "y = df_complete['Strategy']\n",
    "X = df_complete.drop(['Strategy'],1)\n",
    "\n",
    "X_train, X_test, y_train, y_test = train_test_split(X, y, test_size = 0.3, random_state = 0, stratify = y)\n",
    "\n",
    "#OPTIONAL check shapes\n",
    "#print(X_train.shape)\n",
    "#print(X_test.shape)\n",
    "#print(y_train.shape)\n",
    "#print(y_test.shape)\n",
    "\n",
    "X_train_lda_qda = X_train\n",
    "y_train_lda_qda = y_train\n",
    "X_test_lda_qda = X_test\n",
    "y_test_lda_qda = y_test"
   ]
  },
  {
   "cell_type": "markdown",
   "metadata": {},
   "source": [
    "### 3.1.2 Class Imbalance"
   ]
  },
  {
   "cell_type": "markdown",
   "metadata": {},
   "source": [
    "As seen at the very top of the notebook, there is a huge class imbalance. It's crucial to train our models on a balanced train set. Note that we balance only after the train-test-split on the train set such that the test set is not containing artificial data which happens while balancing. Our test set still just contains real data."
   ]
  },
  {
   "cell_type": "code",
   "execution_count": 37,
   "metadata": {},
   "outputs": [
    {
     "name": "stdout",
     "output_type": "stream",
     "text": [
      "BEFORE balancing dataset shape Counter({2.0: 7440, 0.0: 5477, 1.0: 833})\n",
      "AFTER balancing dataset shape Counter({2.0: 7440, 0.0: 7440, 1.0: 7440})\n"
     ]
    }
   ],
   "source": [
    "print('BEFORE balancing dataset shape %s' % Counter(y_train))\n",
    "sm = SMOTE(random_state=1, sampling_strategy='all', k_neighbors=10, n_jobs=-1)\n",
    "X_train, y_train = sm.fit_resample(X_train,y_train)\n",
    "print('AFTER balancing dataset shape %s' % Counter(y_train))"
   ]
  },
  {
   "cell_type": "markdown",
   "metadata": {},
   "source": [
    "### 3.1.3 Feature Selection"
   ]
  },
  {
   "cell_type": "markdown",
   "metadata": {},
   "source": [
    "After trying out many thresholds on all models we decided to select all features with at least 0.0055 rel. feature importance which holds for 81 features. Note that years are very important features."
   ]
  },
  {
   "cell_type": "code",
   "execution_count": 38,
   "metadata": {},
   "outputs": [
    {
     "name": "stdout",
     "output_type": "stream",
     "text": [
      " 1) year_2015 0.0176\n",
      " 2) year_2017 0.0150\n",
      " 3) year_2018 0.0142\n",
      " 4) year_2016 0.0128\n",
      " 5) Dividend per Share 0.0117\n",
      " 6) Dividend Yield 0.0110\n",
      " 7) year_2014 0.0107\n",
      " 8) PFCF ratio 0.0101\n",
      " 9) Dividend payments 0.0094\n",
      "10) PE ratio 0.0092\n",
      "11) 3Y Net Income Growth (per Share) 0.0073\n",
      "12) 5Y Net Income Growth (per Share) 0.0073\n",
      "13) Long-term investments 0.0072\n",
      "14) POCF ratio 0.0070\n",
      "15) Graham Number 0.0068\n",
      "16) Intangibles to Total Assets 0.0068\n",
      "17) EV to Sales 0.0068\n",
      "18) Total non-current liabilities 0.0065\n",
      "19) Other comprehensive income 0.0065\n",
      "20) dividendpaidAndCapexCoverageRatios 0.0065\n",
      "21) Current ratio 0.0064\n",
      "22) Net Income per Share 0.0064\n",
      "23) ROIC    0.0064\n",
      "24) Investments 0.0064\n",
      "25) Enterprise Value over EBITDA 0.0063\n",
      "26) EV to Free cash flow 0.0063\n",
      "27) Total non-current assets 0.0063\n",
      "28) Earnings Yield 0.0063\n",
      "29) Short-term debt 0.0063\n",
      "30) Working Capital 0.0063\n",
      "31) Capex to Operating Cash Flow 0.0063\n",
      "32) Goodwill and Intangible Assets 0.0062\n",
      "33) fixedAssetTurnover 0.0062\n",
      "34) Weighted Average Shares Diluted Growth 0.0061\n",
      "35) Price to Sales Ratio 0.0061\n",
      "36) Asset Growth 0.0060\n",
      "37) 3Y Shareholders Equity Growth (per Share) 0.0060\n",
      "38) Weighted Average Shares Growth 0.0060\n",
      "39) cashRatio 0.0060\n",
      "40) priceBookValueRatio 0.0060\n",
      "41) EPS     0.0060\n",
      "42) Graham Net-Net 0.0060\n",
      "43) quickRatio 0.0059\n",
      "44) priceCashFlowRatio 0.0059\n",
      "45) Net Debt to EBITDA 0.0059\n",
      "46) cashPerShare 0.0059\n",
      "47) returnOnAssets 0.0059\n",
      "48) priceFairValue 0.0058\n",
      "49) Operating Cash Flow growth 0.0058\n",
      "50) nIperEBT 0.0058\n",
      "51) Free Cash Flow growth 0.0057\n",
      "52) 3Y Operating CF Growth (per Share) 0.0057\n",
      "53) Free Cash Flow Yield 0.0057\n",
      "54) capitalExpenditureCoverageRatios 0.0057\n",
      "55) priceEarningsToGrowthRatio 0.0057\n",
      "56) priceToBookRatio 0.0057\n",
      "57) Income Quality 0.0057\n",
      "58) longtermDebtToCapitalization 0.0057\n",
      "59) Debt Growth 0.0056\n",
      "60) 5Y Revenue Growth (per Share) 0.0056\n",
      "61) enterpriseValueMultiple 0.0056\n",
      "62) 3Y Revenue Growth (per Share) 0.0056\n",
      "63) effectiveTaxRate 0.0056\n",
      "64) ROE     0.0056\n",
      "65) Revenue Growth 0.0056\n",
      "66) Net Cash/Marketcap 0.0056\n",
      "67) EV to Operating cash flow 0.0056\n",
      "68) assetTurnover 0.0056\n",
      "69) SG&A to Revenue 0.0056\n",
      "70) Gross Profit Growth 0.0055\n",
      "71) Receivables growth 0.0055\n",
      "72) Book Value per Share Growth 0.0055\n",
      "73) Tangible Book Value per Share 0.0055\n",
      "74) 5Y Shareholders Equity Growth (per Share) 0.0055\n",
      "75) Net cash flow / Change in cash 0.0055\n"
     ]
    },
    {
     "data": {
      "image/png": "[encoded data removed]",
      "text/plain": [
       "<Figure size 864x576 with 1 Axes>"
      ]
     },
     "metadata": {
      "needs_background": "light"
     },
     "output_type": "display_data"
    }
   ],
   "source": [
    "important_features = helper_functions.feature_selection(x = X_train, y = y_train.values.ravel(), thres=0.0055)"
   ]
  },
  {
   "cell_type": "code",
   "execution_count": 39,
   "metadata": {},
   "outputs": [],
   "source": [
    "#Subset important features matrix for ML algorithms\n",
    "X_train = X_train.loc[:,important_features]\n",
    "X_test = X_test.loc[:, important_features]"
   ]
  },
  {
   "cell_type": "markdown",
   "metadata": {},
   "source": [
    "## 3.2 ML Algorithms"
   ]
  },
  {
   "cell_type": "markdown",
   "metadata": {},
   "source": [
    "SORTIEREN NACH END SCORE plus hier tabelle der scores"
   ]
  },
  {
   "cell_type": "markdown",
   "metadata": {},
   "source": [
    "### 3.2.1. Random Forest"
   ]
  },
  {
   "cell_type": "markdown",
   "metadata": {},
   "source": [
    "Parameters found with Grid Search"
   ]
  },
  {
   "cell_type": "code",
   "execution_count": 40,
   "metadata": {},
   "outputs": [
    {
     "name": "stdout",
     "output_type": "stream",
     "text": [
      "Best CV accuracy: 0.7270\n",
      "Test score:       0.6110\n",
      "Best parameters: {'max_depth': 25, 'min_samples_leaf': 1, 'min_samples_split': 2, 'n_estimators': 70}\n",
      "Predicted   Buy  Hold  Sell\n",
      "True                       \n",
      "Buy        1170    48  1130\n",
      "Hold        145    12   200\n",
      "Sell        718    52  2419\n",
      "\n",
      "\n",
      "              precision    recall  f1-score   support\n",
      "\n",
      "         0.0       0.58      0.50      0.53      2348\n",
      "         1.0       0.11      0.03      0.05       357\n",
      "         2.0       0.65      0.76      0.70      3189\n",
      "\n",
      "    accuracy                           0.61      5894\n",
      "   macro avg       0.44      0.43      0.43      5894\n",
      "weighted avg       0.58      0.61      0.59      5894\n",
      "\n"
     ]
    }
   ],
   "source": [
    "param_grid = {\"n_estimators\": [70],\n",
    "                  'max_depth': [25],\n",
    "                  'min_samples_split': [2],\n",
    "                  'min_samples_leaf': [1]},\n",
    "\n",
    "# Run brute-force grid search\n",
    "grid = GridSearchCV(estimator=RandomForestClassifier(random_state=0),\n",
    "                  param_grid=param_grid,\n",
    "                  scoring='accuracy',\n",
    "                  cv= 5, n_jobs=-1)\n",
    "grid = grid.fit(X_train, y_train)\n",
    "print('Best CV accuracy: {:.4f}'.format(grid.best_score_))\n",
    "print('Test score:       {:.4f}'.format(grid.score(X_test,y_test)))\n",
    "print('Best parameters: {}'.format(grid.best_params_))\n",
    "\n",
    "# Predict classes\n",
    "y_pred = grid.predict(X_test)\n",
    "\n",
    "# Manual confusion matrix as pandas DataFrame\n",
    "confm = pd.DataFrame({'Predicted': y_pred,\n",
    "                      'True': y_test})\n",
    "confm.replace(to_replace={0:'Buy', 1:'Hold', 2:'Sell'}, inplace=True)\n",
    "print(confm.groupby(['True','Predicted']).size().unstack('Predicted'))\n",
    "print('\\n')\n",
    "print(metrics.classification_report(y_test, y_pred))"
   ]
  },
  {
   "cell_type": "markdown",
   "metadata": {},
   "source": [
    "### 3.2.2. Decision Tree"
   ]
  },
  {
   "cell_type": "code",
   "execution_count": 41,
   "metadata": {},
   "outputs": [],
   "source": [
    "# Max depth\n",
    "maxDepth = np.array([15])\n",
    "\n",
    "# Minimum number of samples required to split any internal node \n",
    "minSamplesNode = np.array([2])\n",
    "\n",
    "# The minimum number of samples required to be at a leaf/terminal node\n",
    "minSamplesLeaf = np.array([2])"
   ]
  },
  {
   "cell_type": "code",
   "execution_count": 42,
   "metadata": {},
   "outputs": [
    {
     "name": "stdout",
     "output_type": "stream",
     "text": [
      "0.6039426523297491\n",
      "{'criterion': 'gini', 'max_depth': 15, 'min_samples_leaf': 2, 'min_samples_split': 2}\n",
      "Predicted   Buy  Hold  Sell\n",
      "True                       \n",
      "Buy        1170    48  1130\n",
      "Hold        145    12   200\n",
      "Sell        718    52  2419\n",
      "\n",
      "\n",
      "              precision    recall  f1-score   support\n",
      "\n",
      "         0.0       0.58      0.50      0.53      2348\n",
      "         1.0       0.11      0.03      0.05       357\n",
      "         2.0       0.65      0.76      0.70      3189\n",
      "\n",
      "    accuracy                           0.61      5894\n",
      "   macro avg       0.44      0.43      0.43      5894\n",
      "weighted avg       0.58      0.61      0.59      5894\n",
      "\n"
     ]
    }
   ],
   "source": [
    "kFold = StratifiedKFold(n_splits=10)\n",
    "\n",
    "# Define the hyperparameter values to be tested\n",
    "param_grid = {'criterion': ['gini'],\n",
    "              'max_depth': maxDepth,\n",
    "              'min_samples_split': minSamplesNode,\n",
    "              'min_samples_leaf': minSamplesLeaf}\n",
    "\n",
    "# Run brute-force grid search\n",
    "gs = GridSearchCV(estimator=DecisionTreeClassifier(random_state=0),\n",
    "                  param_grid=param_grid,\n",
    "                  scoring='accuracy',\n",
    "                  cv=kFold, n_jobs=-1)\n",
    "gs = gs.fit(X_train, y_train)\n",
    "print(gs.best_score_)\n",
    "print(gs.best_params_)\n",
    "\n",
    "# Manual confusion matrix as pandas DataFrame\n",
    "confm = pd.DataFrame({'Predicted': y_pred,\n",
    "                      'True': y_test})\n",
    "confm.replace(to_replace={0:'Buy', 1:'Hold', 2:'Sell'}, inplace=True)\n",
    "print(confm.groupby(['True','Predicted']).size().unstack('Predicted'))\n",
    "print('\\n')\n",
    "print(metrics.classification_report(y_test, y_pred))"
   ]
  },
  {
   "cell_type": "markdown",
   "metadata": {},
   "source": [
    "### 3.2.2. MLP classifier"
   ]
  },
  {
   "cell_type": "code",
   "execution_count": 43,
   "metadata": {},
   "outputs": [
    {
     "name": "stderr",
     "output_type": "stream",
     "text": [
      "C:\\Users\\Marco\\anaconda3\\lib\\site-packages\\sklearn\\neural_network\\_multilayer_perceptron.py:614: ConvergenceWarning: Stochastic Optimizer: Maximum iterations (150) reached and the optimization hasn't converged yet.\n",
      "  warnings.warn(\n"
     ]
    }
   ],
   "source": [
    "#mlp = MLPClassifier(random_state=0, solver= \"lbfgs\", warm_start= True)\n",
    "\n",
    "pipe = Pipeline([('scaler', StandardScaler()), \n",
    "                     ('neural', MLPClassifier())])\n",
    "    \n",
    "# Define the hyperparameter values to be tested\n",
    "param_grid = {\"neural__hidden_layer_sizes\" :[50],\n",
    "                  'neural__max_iter': [150]},\n",
    "\n",
    "\n",
    "# Run brute-force grid search\n",
    "#solver \"lbfgs\" has proven to be the best\n",
    "grid = GridSearchCV(pipe,\n",
    "                  param_grid=param_grid,\n",
    "                  scoring='accuracy',\n",
    "                  cv= 5, n_jobs=-1)\n",
    "grid = grid.fit(X_train, y_train)\n",
    "                                               \n"
   ]
  },
  {
   "cell_type": "code",
   "execution_count": 44,
   "metadata": {},
   "outputs": [
    {
     "name": "stdout",
     "output_type": "stream",
     "text": [
      "Best CV accuracy: 0.6045\n",
      "Test score:       0.5249\n",
      "Best parameters: {'neural__hidden_layer_sizes': 50, 'neural__max_iter': 150}\n",
      "Predicted   Buy  Hold  Sell\n",
      "True                       \n",
      "Buy        1121   251   976\n",
      "Hold        133    60   164\n",
      "Sell       1002   274  1913\n",
      "\n",
      "\n",
      "              precision    recall  f1-score   support\n",
      "\n",
      "         0.0       0.50      0.48      0.49      2348\n",
      "         1.0       0.10      0.17      0.13       357\n",
      "         2.0       0.63      0.60      0.61      3189\n",
      "\n",
      "    accuracy                           0.52      5894\n",
      "   macro avg       0.41      0.42      0.41      5894\n",
      "weighted avg       0.54      0.52      0.53      5894\n",
      "\n"
     ]
    }
   ],
   "source": [
    "print('Best CV accuracy: {:.4f}'.format(grid.best_score_))\n",
    "print('Test score:       {:.4f}'.format(grid.score(X_test,y_test)))\n",
    "print('Best parameters: {}'.format(grid.best_params_))\n",
    "\n",
    "# Predict classes\n",
    "y_pred = grid.predict(X_test)\n",
    "\n",
    "# Manual confusion matrix as pandas DataFrame\n",
    "confm = pd.DataFrame({'Predicted': y_pred,\n",
    "                      'True': y_test})\n",
    "confm.replace(to_replace={0:'Buy', 1:'Hold', 2:'Sell'}, inplace=True)\n",
    "print(confm.groupby(['True','Predicted']).size().unstack('Predicted'))\n",
    "print('\\n')\n",
    "print(metrics.classification_report(y_test, y_pred))"
   ]
  },
  {
   "cell_type": "markdown",
   "metadata": {},
   "source": [
    "### 3.2.3 SVM"
   ]
  },
  {
   "cell_type": "markdown",
   "metadata": {},
   "source": [
    "TODO: in Bericht integrieren, nicht hier!!\n",
    "\n",
    "Support Vector Machines\n",
    "\n",
    "SVMs delivered disappointing results in our case. Nevertheless, we included the algorithms within our Python Notebook. For both linear and polynomial kernel functions we didn’t reach test scores above 0.5. We should note that the train scores for the polynomial versions are high (above 0.7) but are in great discrepancy with the test scores. \n",
    "As recommended in the script, we worked with the standardized version of the train and test sets.\n",
    "With growing parameter C, the runtimes went into the hours very fast such that we are not 100 percent sure to have found the best parameters. Nevertheless, it seems very unlikely that the score would improve onto the level of the Random Forest because the difference is just too big.\n",
    "\n"
   ]
  },
  {
   "cell_type": "code",
   "execution_count": 45,
   "metadata": {},
   "outputs": [],
   "source": [
    "# Create StandardScaler object\n",
    "sc = StandardScaler()\n",
    "\n",
    "# Standardize features\n",
    "X_train_std = sc.fit_transform(X_train)\n",
    "\n",
    "# Transform test set\n",
    "X_test_std = sc.transform(X_test)"
   ]
  },
  {
   "cell_type": "code",
   "execution_count": 46,
   "metadata": {},
   "outputs": [
    {
     "name": "stdout",
     "output_type": "stream",
     "text": [
      "Observed probability of non-default: 0.33\n",
      "Train score: 0.43\n",
      "Test score:  0.41\n",
      "Predicted  Buy  Hold  Sell\n",
      "True                      \n",
      "Buy        719   726   903\n",
      "Hold        70   135   152\n",
      "Sell       621   999  1569\n",
      "\n",
      "\n",
      "              precision    recall  f1-score   support\n",
      "\n",
      "         0.0       0.51      0.31      0.38      2348\n",
      "         1.0       0.07      0.38      0.12       357\n",
      "         2.0       0.60      0.49      0.54      3189\n",
      "\n",
      "    accuracy                           0.41      5894\n",
      "   macro avg       0.39      0.39      0.35      5894\n",
      "weighted avg       0.53      0.41      0.45      5894\n",
      "\n"
     ]
    }
   ],
   "source": [
    "# Create object\n",
    "svm_linear = SVC(kernel='linear', C=1.0)\n",
    "svm_linear\n",
    "\n",
    "# Fit linear SVM to standardized training set\n",
    "svm_linear.fit(X_train_std, y_train)\n",
    "\n",
    "# Print results\n",
    "print(\"Observed probability of non-default: {:.2f}\".format(np.count_nonzero(y_train==0) / len(y_train)))\n",
    "print(\"Train score: {:.2f}\".format(svm_linear.score(X_train_std, y_train)))\n",
    "print(\"Test score:  {:.2f}\".format(svm_linear.score(X_test_std, y_test)))\n",
    "\n",
    "y_pred = svm_linear.predict(X_test_std)\n",
    "\n",
    "# Manual confusion matrix as pandas DataFrame\n",
    "confm = pd.DataFrame({'Predicted': y_pred,\n",
    "                      'True': y_test})\n",
    "confm.replace(to_replace={0:'Buy', 1:'Hold', 2:'Sell'}, inplace=True)\n",
    "print(confm.groupby(['True','Predicted']).size().unstack('Predicted'))\n",
    "print('\\n')\n",
    "print(metrics.classification_report(y_test, y_pred))"
   ]
  },
  {
   "cell_type": "code",
   "execution_count": 47,
   "metadata": {},
   "outputs": [
    {
     "name": "stdout",
     "output_type": "stream",
     "text": [
      "Train score: 0.49\n",
      "Test score:  0.30\n",
      "Predicted   Buy  Hold  Sell\n",
      "True                       \n",
      "Buy        1269   954   125\n",
      "Hold        146   195    16\n",
      "Sell       1401  1477   311\n",
      "\n",
      "\n",
      "              precision    recall  f1-score   support\n",
      "\n",
      "         0.0       0.45      0.54      0.49      2348\n",
      "         1.0       0.07      0.55      0.13       357\n",
      "         2.0       0.69      0.10      0.17      3189\n",
      "\n",
      "    accuracy                           0.30      5894\n",
      "   macro avg       0.40      0.39      0.26      5894\n",
      "weighted avg       0.56      0.30      0.30      5894\n",
      "\n"
     ]
    }
   ],
   "source": [
    "svm_poly = SVC(kernel='poly', random_state=1)\n",
    "\n",
    "# Fit linear SVM to standardized training set\n",
    "svm_poly.fit(X_train_std, y_train)\n",
    "\n",
    "# Print results\n",
    "print(\"Train score: {:.2f}\".format(svm_poly.score(X_train_std, y_train)))\n",
    "print(\"Test score:  {:.2f}\".format(svm_poly.score(X_test_std, y_test)))\n",
    "\n",
    "y_pred = svm_poly.predict(X_test_std)\n",
    "\n",
    "# Manual confusion matrix as pandas DataFrame\n",
    "confm = pd.DataFrame({'Predicted': y_pred,\n",
    "                      'True': y_test})\n",
    "confm.replace(to_replace={0:'Buy', 1:'Hold', 2:'Sell'}, inplace=True)\n",
    "print(confm.groupby(['True','Predicted']).size().unstack('Predicted'))\n",
    "print('\\n')\n",
    "print(metrics.classification_report(y_test, y_pred))"
   ]
  },
  {
   "cell_type": "markdown",
   "metadata": {},
   "source": [
    "beschreiben. pipeline didn't help..."
   ]
  },
  {
   "cell_type": "markdown",
   "metadata": {},
   "source": [
    "### 3.2.4 LDA/QDA"
   ]
  },
  {
   "cell_type": "markdown",
   "metadata": {},
   "source": [
    "#### 3.2.4.1 LDA"
   ]
  },
  {
   "cell_type": "code",
   "execution_count": 48,
   "metadata": {},
   "outputs": [
    {
     "name": "stdout",
     "output_type": "stream",
     "text": [
      "score qda:  0.5758\n",
      "Predicted status  Buy  Hold  Sell\n",
      "True status                      \n",
      "Buy               765    11  1572\n",
      "Hold               87     2   268\n",
      "Sell              538    24  2627\n",
      "\n",
      "\n",
      "              precision    recall  f1-score   support\n",
      "\n",
      "         0.0       0.55      0.33      0.41      2348\n",
      "         1.0       0.05      0.01      0.01       357\n",
      "         2.0       0.59      0.82      0.69      3189\n",
      "\n",
      "    accuracy                           0.58      5894\n",
      "   macro avg       0.40      0.39      0.37      5894\n",
      "weighted avg       0.54      0.58      0.53      5894\n",
      "\n"
     ]
    }
   ],
   "source": [
    "lda = LDA(shrinkage='auto', solver='eigen') # default solver='svd', shrinkage=None\n",
    "lda = lda.fit(X_train_lda_qda, y_train_lda_qda)\n",
    "\n",
    "# Predict labels\n",
    "y_pred_lda = lda.predict(X_test_lda_qda) # vector of 1, 2, 3s --> prediction --> in confusion matrix\n",
    "\n",
    "# Print perfomance metrics \n",
    "print('score qda: {0: .4f}'.format(metrics.accuracy_score(y_test_lda_qda, y_pred_lda)))\n",
    "confm = pd.DataFrame({'Predicted status': y_pred_lda,\n",
    "                      'True status': y_test_lda_qda})\n",
    "confm.replace(to_replace={0:'Buy', 1:'Hold', 2:'Sell'}, inplace=True)\n",
    "print(confm.groupby(['True status','Predicted status']).size().unstack('Predicted status'))\n",
    "print('\\n')\n",
    "print(metrics.classification_report(y_test_lda_qda, y_pred_lda))"
   ]
  },
  {
   "cell_type": "code",
   "execution_count": 49,
   "metadata": {},
   "outputs": [
    {
     "name": "stderr",
     "output_type": "stream",
     "text": [
      "C:\\Users\\Marco\\anaconda3\\lib\\site-packages\\sklearn\\model_selection\\_search.py:918: UserWarning: One or more of the test scores are non-finite: [0.3625448         nan 0.41680108 0.37007168 0.41433692        nan]\n",
      "  warnings.warn(\n"
     ]
    },
    {
     "name": "stdout",
     "output_type": "stream",
     "text": [
      "score:  0.4477\n",
      "error-rate:  0.5523\n",
      "\n",
      "\n",
      "[[ 715  649  984]\n",
      " [  70  111  176]\n",
      " [ 567  809 1813]]\n",
      "\n",
      "\n",
      "LinearDiscriminantAnalysis()\n"
     ]
    }
   ],
   "source": [
    "# TODO Machen wir jetzt 2 files oder nicht? Falls 2 files dann müsste man diesen Block in diesem file komplett entfernen\n",
    "# da es den gridsearch macht\n",
    "\n",
    "# LDA Gridsearch\n",
    "grid = GridSearchCV(estimator=LDA(),\n",
    "                  param_grid={'solver': ('lsqr', 'eigen', 'svd'), 'shrinkage': (None, 'auto')},\n",
    "                  scoring='accuracy', n_jobs=-1)\n",
    "grid = grid.fit(X_train, y_train)\n",
    "\n",
    "y_pred_grid = grid.predict(X_test)\n",
    "\n",
    "print('score: {0: .4f}'.format(metrics.accuracy_score(y_test_lda_qda, y_pred_grid)))\n",
    "print('error-rate: {0: .4f}'.format(1-metrics.accuracy_score(y_test_lda_qda, y_pred_grid)))\n",
    "print('\\n')\n",
    "print(metrics.confusion_matrix(y_test_lda_qda, y_pred_grid))\n",
    "print('\\n')\n",
    "print(grid.best_estimator_)\n",
    "# there will be a warning 'UserWarning: One or more of the test scores are non-finite' because solver='svd' can't be\n",
    "# combined with shrinkage and solver='eigen' needs shrinkage"
   ]
  },
  {
   "cell_type": "code",
   "execution_count": 50,
   "metadata": {},
   "outputs": [
    {
     "data": {
      "image/png": "[encoded data removed]",
      "text/plain": [
       "<Figure size 432x288 with 1 Axes>"
      ]
     },
     "metadata": {
      "needs_background": "light"
     },
     "output_type": "display_data"
    }
   ],
   "source": [
    "lda_transformed = lda.transform(X_train_lda_qda)\n",
    "colors = ['green', 'darkorange', 'red']\n",
    "lw = 2\n",
    "target_names = ['Buy', 'Hold', 'Sell']\n",
    "plt.figure()\n",
    "for color, i, target_name in zip(colors, [0, 1, 2], target_names):\n",
    "    plt.scatter(lda_transformed[y_train_lda_qda == i, 0], lda_transformed[y_train_lda_qda == i, 1], alpha=.8, color=color,\n",
    "                label=target_name)\n",
    "plt.legend(loc='best', shadow=False, scatterpoints=1)\n",
    "plt.title('LDA')\n",
    "plt.xlabel('Discriminant 1')\n",
    "plt.ylabel('Discriminant 2')\n",
    "plt.show()"
   ]
  },
  {
   "cell_type": "markdown",
   "metadata": {},
   "source": [
    "#### 3.2.4.2 QDA"
   ]
  },
  {
   "cell_type": "code",
   "execution_count": 51,
   "metadata": {},
   "outputs": [
    {
     "name": "stdout",
     "output_type": "stream",
     "text": [
      "score qda:  0.1359\n",
      "\n",
      "\n",
      "Predicted status  Buy  Hold  Sell\n",
      "True status                      \n",
      "Buy               765    11  1572\n",
      "Hold               87     2   268\n",
      "Sell              538    24  2627\n",
      "\n",
      "\n",
      "              precision    recall  f1-score   support\n",
      "\n",
      "         0.0       0.55      0.33      0.41      2348\n",
      "         1.0       0.05      0.01      0.01       357\n",
      "         2.0       0.59      0.82      0.69      3189\n",
      "\n",
      "    accuracy                           0.58      5894\n",
      "   macro avg       0.40      0.39      0.37      5894\n",
      "weighted avg       0.54      0.58      0.53      5894\n",
      "\n"
     ]
    }
   ],
   "source": [
    "# Run qda on training data\n",
    "qda = QDA().fit(X_train_lda_qda, y_train_lda_qda)\n",
    "\n",
    "# Predict classes for qda\n",
    "y_pred_qda = qda.predict(X_test_lda_qda)\n",
    "\n",
    "# Print performance metrics\n",
    "print('score qda: {0: .4f}'.format(metrics.accuracy_score(y_test_lda_qda, y_pred_qda)))\n",
    "print('\\n')\n",
    "confm = pd.DataFrame({'Predicted status': y_pred_lda,\n",
    "                      'True status': y_test_lda_qda})\n",
    "confm.replace(to_replace={0:'Buy', 1:'Hold', 2:'Sell'}, inplace=True)\n",
    "print(confm.groupby(['True status','Predicted status']).size().unstack('Predicted status'))\n",
    "print('\\n')\n",
    "print(metrics.classification_report(y_test_lda_qda, y_pred_lda))"
   ]
  },
  {
   "cell_type": "markdown",
   "metadata": {},
   "source": [
    "### 3.2.5 Keras Sequential Model"
   ]
  },
  {
   "cell_type": "code",
   "execution_count": 52,
   "metadata": {},
   "outputs": [
    {
     "name": "stdout",
     "output_type": "stream",
     "text": [
      "Best: 0.630914 using {'batch_size': 100, 'epochs': 30}\n",
      "0.630914 (0.120336) with: {'batch_size': 100, 'epochs': 30}\n"
     ]
    }
   ],
   "source": [
    "# factorize strategy column in order that the neural network is working\n",
    "y_train = pd.get_dummies(y_train)\n",
    "\n",
    "# Define the scaler \n",
    "scaler = StandardScaler().fit(X_train)\n",
    "\n",
    "# Scale the train set\n",
    "X_train = scaler.transform(X_train)\n",
    "\n",
    "# Scale the test set\n",
    "X_test = scaler.transform(X_test)\n",
    "\n",
    "def base_model():\n",
    "    # define the model and add layers\n",
    "    model = Sequential()\n",
    "    model.add(Dense(np.shape(X_train)[0], input_dim= np.shape(X_train)[1], activation='relu'))\n",
    "    model.add(Dense(12, activation='relu'))\n",
    "    model.add(Dense(3, activation ='softmax'))\n",
    "\n",
    "    # compile the keras model\n",
    "    model.compile(loss='categorical_crossentropy', optimizer='adam', metrics=['accuracy'])\n",
    "    return model\n",
    "\n",
    "\n",
    "model = KerasClassifier(build_fn=base_model, verbose=0)\n",
    "#define the grid search parameters\n",
    "batch_size = [100]\n",
    "epochs = [30]\n",
    "param_grid = dict(batch_size=batch_size, epochs=epochs)\n",
    "grid = GridSearchCV(estimator=model, param_grid=param_grid, n_jobs=-1, cv=5)\n",
    "grid_result = grid.fit(X_train, y_train)\n",
    "\n",
    "# summarize results\n",
    "print(\"Best: %f using %s\" % (grid_result.best_score_, grid_result.best_params_))\n",
    "means = grid_result.cv_results_['mean_test_score']\n",
    "stds = grid_result.cv_results_['std_test_score']\n",
    "params = grid_result.cv_results_['params']\n",
    "for mean, stdev, param in zip(means, stds, params):\n",
    "    print(\"%f (%f) with: %r\" % (mean, stdev, param))\n",
    "\n"
   ]
  },
  {
   "cell_type": "code",
   "execution_count": 53,
   "metadata": {},
   "outputs": [
    {
     "name": "stdout",
     "output_type": "stream",
     "text": [
      "WARNING:tensorflow:From C:\\Users\\Marco\\anaconda3\\lib\\site-packages\\tensorflow\\python\\keras\\wrappers\\scikit_learn.py:241: Sequential.predict_classes (from tensorflow.python.keras.engine.sequential) is deprecated and will be removed after 2021-01-01.\n",
      "Instructions for updating:\n",
      "Please use instead:* `np.argmax(model.predict(x), axis=-1)`,   if your model does multi-class classification   (e.g. if it uses a `softmax` last-layer activation).* `(model.predict(x) > 0.5).astype(\"int32\")`,   if your model does binary classification   (e.g. if it uses a `sigmoid` last-layer activation).\n"
     ]
    },
    {
     "ename": "TypeError",
     "evalue": "Singleton array 0 cannot be considered a valid collection.",
     "output_type": "error",
     "traceback": [
      "\u001b[1;31m---------------------------------------------------------------------------\u001b[0m",
      "\u001b[1;31mTypeError\u001b[0m                                 Traceback (most recent call last)",
      "\u001b[1;32m<ipython-input-53-7ad3da403a6b>\u001b[0m in \u001b[0;36m<module>\u001b[1;34m\u001b[0m\n\u001b[0;32m      3\u001b[0m \u001b[1;33m\u001b[0m\u001b[0m\n\u001b[0;32m      4\u001b[0m \u001b[1;31m# Print performance metrics\u001b[0m\u001b[1;33m\u001b[0m\u001b[1;33m\u001b[0m\u001b[1;33m\u001b[0m\u001b[0m\n\u001b[1;32m----> 5\u001b[1;33m \u001b[0mprint\u001b[0m\u001b[1;33m(\u001b[0m\u001b[1;34m'score Keras model: {0: .4f}'\u001b[0m\u001b[1;33m.\u001b[0m\u001b[0mformat\u001b[0m\u001b[1;33m(\u001b[0m\u001b[0mmetrics\u001b[0m\u001b[1;33m.\u001b[0m\u001b[0maccuracy_score\u001b[0m\u001b[1;33m(\u001b[0m\u001b[0my_test\u001b[0m\u001b[1;33m,\u001b[0m \u001b[0my_pred\u001b[0m\u001b[1;33m)\u001b[0m\u001b[1;33m)\u001b[0m\u001b[1;33m)\u001b[0m\u001b[1;33m\u001b[0m\u001b[1;33m\u001b[0m\u001b[0m\n\u001b[0m\u001b[0;32m      6\u001b[0m \u001b[0mprint\u001b[0m\u001b[1;33m(\u001b[0m\u001b[1;34m'\\n'\u001b[0m\u001b[1;33m)\u001b[0m\u001b[1;33m\u001b[0m\u001b[1;33m\u001b[0m\u001b[0m\n\u001b[0;32m      7\u001b[0m confm = pd.DataFrame({'Predicted status': y_pred,\n",
      "\u001b[1;32m~\\anaconda3\\lib\\site-packages\\sklearn\\utils\\validation.py\u001b[0m in \u001b[0;36minner_f\u001b[1;34m(*args, **kwargs)\u001b[0m\n\u001b[0;32m     61\u001b[0m             \u001b[0mextra_args\u001b[0m \u001b[1;33m=\u001b[0m \u001b[0mlen\u001b[0m\u001b[1;33m(\u001b[0m\u001b[0margs\u001b[0m\u001b[1;33m)\u001b[0m \u001b[1;33m-\u001b[0m \u001b[0mlen\u001b[0m\u001b[1;33m(\u001b[0m\u001b[0mall_args\u001b[0m\u001b[1;33m)\u001b[0m\u001b[1;33m\u001b[0m\u001b[1;33m\u001b[0m\u001b[0m\n\u001b[0;32m     62\u001b[0m             \u001b[1;32mif\u001b[0m \u001b[0mextra_args\u001b[0m \u001b[1;33m<=\u001b[0m \u001b[1;36m0\u001b[0m\u001b[1;33m:\u001b[0m\u001b[1;33m\u001b[0m\u001b[1;33m\u001b[0m\u001b[0m\n\u001b[1;32m---> 63\u001b[1;33m                 \u001b[1;32mreturn\u001b[0m \u001b[0mf\u001b[0m\u001b[1;33m(\u001b[0m\u001b[1;33m*\u001b[0m\u001b[0margs\u001b[0m\u001b[1;33m,\u001b[0m \u001b[1;33m**\u001b[0m\u001b[0mkwargs\u001b[0m\u001b[1;33m)\u001b[0m\u001b[1;33m\u001b[0m\u001b[1;33m\u001b[0m\u001b[0m\n\u001b[0m\u001b[0;32m     64\u001b[0m \u001b[1;33m\u001b[0m\u001b[0m\n\u001b[0;32m     65\u001b[0m             \u001b[1;31m# extra_args > 0\u001b[0m\u001b[1;33m\u001b[0m\u001b[1;33m\u001b[0m\u001b[1;33m\u001b[0m\u001b[0m\n",
      "\u001b[1;32m~\\anaconda3\\lib\\site-packages\\sklearn\\metrics\\_classification.py\u001b[0m in \u001b[0;36maccuracy_score\u001b[1;34m(y_true, y_pred, normalize, sample_weight)\u001b[0m\n\u001b[0;32m    200\u001b[0m \u001b[1;33m\u001b[0m\u001b[0m\n\u001b[0;32m    201\u001b[0m     \u001b[1;31m# Compute accuracy for each possible representation\u001b[0m\u001b[1;33m\u001b[0m\u001b[1;33m\u001b[0m\u001b[1;33m\u001b[0m\u001b[0m\n\u001b[1;32m--> 202\u001b[1;33m     \u001b[0my_type\u001b[0m\u001b[1;33m,\u001b[0m \u001b[0my_true\u001b[0m\u001b[1;33m,\u001b[0m \u001b[0my_pred\u001b[0m \u001b[1;33m=\u001b[0m \u001b[0m_check_targets\u001b[0m\u001b[1;33m(\u001b[0m\u001b[0my_true\u001b[0m\u001b[1;33m,\u001b[0m \u001b[0my_pred\u001b[0m\u001b[1;33m)\u001b[0m\u001b[1;33m\u001b[0m\u001b[1;33m\u001b[0m\u001b[0m\n\u001b[0m\u001b[0;32m    203\u001b[0m     \u001b[0mcheck_consistent_length\u001b[0m\u001b[1;33m(\u001b[0m\u001b[0my_true\u001b[0m\u001b[1;33m,\u001b[0m \u001b[0my_pred\u001b[0m\u001b[1;33m,\u001b[0m \u001b[0msample_weight\u001b[0m\u001b[1;33m)\u001b[0m\u001b[1;33m\u001b[0m\u001b[1;33m\u001b[0m\u001b[0m\n\u001b[0;32m    204\u001b[0m     \u001b[1;32mif\u001b[0m \u001b[0my_type\u001b[0m\u001b[1;33m.\u001b[0m\u001b[0mstartswith\u001b[0m\u001b[1;33m(\u001b[0m\u001b[1;34m'multilabel'\u001b[0m\u001b[1;33m)\u001b[0m\u001b[1;33m:\u001b[0m\u001b[1;33m\u001b[0m\u001b[1;33m\u001b[0m\u001b[0m\n",
      "\u001b[1;32m~\\anaconda3\\lib\\site-packages\\sklearn\\metrics\\_classification.py\u001b[0m in \u001b[0;36m_check_targets\u001b[1;34m(y_true, y_pred)\u001b[0m\n\u001b[0;32m     81\u001b[0m     \u001b[0my_pred\u001b[0m \u001b[1;33m:\u001b[0m \u001b[0marray\u001b[0m \u001b[1;32mor\u001b[0m \u001b[0mindicator\u001b[0m \u001b[0mmatrix\u001b[0m\u001b[1;33m\u001b[0m\u001b[1;33m\u001b[0m\u001b[0m\n\u001b[0;32m     82\u001b[0m     \"\"\"\n\u001b[1;32m---> 83\u001b[1;33m     \u001b[0mcheck_consistent_length\u001b[0m\u001b[1;33m(\u001b[0m\u001b[0my_true\u001b[0m\u001b[1;33m,\u001b[0m \u001b[0my_pred\u001b[0m\u001b[1;33m)\u001b[0m\u001b[1;33m\u001b[0m\u001b[1;33m\u001b[0m\u001b[0m\n\u001b[0m\u001b[0;32m     84\u001b[0m     \u001b[0mtype_true\u001b[0m \u001b[1;33m=\u001b[0m \u001b[0mtype_of_target\u001b[0m\u001b[1;33m(\u001b[0m\u001b[0my_true\u001b[0m\u001b[1;33m)\u001b[0m\u001b[1;33m\u001b[0m\u001b[1;33m\u001b[0m\u001b[0m\n\u001b[0;32m     85\u001b[0m     \u001b[0mtype_pred\u001b[0m \u001b[1;33m=\u001b[0m \u001b[0mtype_of_target\u001b[0m\u001b[1;33m(\u001b[0m\u001b[0my_pred\u001b[0m\u001b[1;33m)\u001b[0m\u001b[1;33m\u001b[0m\u001b[1;33m\u001b[0m\u001b[0m\n",
      "\u001b[1;32m~\\anaconda3\\lib\\site-packages\\sklearn\\utils\\validation.py\u001b[0m in \u001b[0;36mcheck_consistent_length\u001b[1;34m(*arrays)\u001b[0m\n\u001b[0;32m    257\u001b[0m     \"\"\"\n\u001b[0;32m    258\u001b[0m \u001b[1;33m\u001b[0m\u001b[0m\n\u001b[1;32m--> 259\u001b[1;33m     \u001b[0mlengths\u001b[0m \u001b[1;33m=\u001b[0m \u001b[1;33m[\u001b[0m\u001b[0m_num_samples\u001b[0m\u001b[1;33m(\u001b[0m\u001b[0mX\u001b[0m\u001b[1;33m)\u001b[0m \u001b[1;32mfor\u001b[0m \u001b[0mX\u001b[0m \u001b[1;32min\u001b[0m \u001b[0marrays\u001b[0m \u001b[1;32mif\u001b[0m \u001b[0mX\u001b[0m \u001b[1;32mis\u001b[0m \u001b[1;32mnot\u001b[0m \u001b[1;32mNone\u001b[0m\u001b[1;33m]\u001b[0m\u001b[1;33m\u001b[0m\u001b[1;33m\u001b[0m\u001b[0m\n\u001b[0m\u001b[0;32m    260\u001b[0m     \u001b[0muniques\u001b[0m \u001b[1;33m=\u001b[0m \u001b[0mnp\u001b[0m\u001b[1;33m.\u001b[0m\u001b[0munique\u001b[0m\u001b[1;33m(\u001b[0m\u001b[0mlengths\u001b[0m\u001b[1;33m)\u001b[0m\u001b[1;33m\u001b[0m\u001b[1;33m\u001b[0m\u001b[0m\n\u001b[0;32m    261\u001b[0m     \u001b[1;32mif\u001b[0m \u001b[0mlen\u001b[0m\u001b[1;33m(\u001b[0m\u001b[0muniques\u001b[0m\u001b[1;33m)\u001b[0m \u001b[1;33m>\u001b[0m \u001b[1;36m1\u001b[0m\u001b[1;33m:\u001b[0m\u001b[1;33m\u001b[0m\u001b[1;33m\u001b[0m\u001b[0m\n",
      "\u001b[1;32m~\\anaconda3\\lib\\site-packages\\sklearn\\utils\\validation.py\u001b[0m in \u001b[0;36m<listcomp>\u001b[1;34m(.0)\u001b[0m\n\u001b[0;32m    257\u001b[0m     \"\"\"\n\u001b[0;32m    258\u001b[0m \u001b[1;33m\u001b[0m\u001b[0m\n\u001b[1;32m--> 259\u001b[1;33m     \u001b[0mlengths\u001b[0m \u001b[1;33m=\u001b[0m \u001b[1;33m[\u001b[0m\u001b[0m_num_samples\u001b[0m\u001b[1;33m(\u001b[0m\u001b[0mX\u001b[0m\u001b[1;33m)\u001b[0m \u001b[1;32mfor\u001b[0m \u001b[0mX\u001b[0m \u001b[1;32min\u001b[0m \u001b[0marrays\u001b[0m \u001b[1;32mif\u001b[0m \u001b[0mX\u001b[0m \u001b[1;32mis\u001b[0m \u001b[1;32mnot\u001b[0m \u001b[1;32mNone\u001b[0m\u001b[1;33m]\u001b[0m\u001b[1;33m\u001b[0m\u001b[1;33m\u001b[0m\u001b[0m\n\u001b[0m\u001b[0;32m    260\u001b[0m     \u001b[0muniques\u001b[0m \u001b[1;33m=\u001b[0m \u001b[0mnp\u001b[0m\u001b[1;33m.\u001b[0m\u001b[0munique\u001b[0m\u001b[1;33m(\u001b[0m\u001b[0mlengths\u001b[0m\u001b[1;33m)\u001b[0m\u001b[1;33m\u001b[0m\u001b[1;33m\u001b[0m\u001b[0m\n\u001b[0;32m    261\u001b[0m     \u001b[1;32mif\u001b[0m \u001b[0mlen\u001b[0m\u001b[1;33m(\u001b[0m\u001b[0muniques\u001b[0m\u001b[1;33m)\u001b[0m \u001b[1;33m>\u001b[0m \u001b[1;36m1\u001b[0m\u001b[1;33m:\u001b[0m\u001b[1;33m\u001b[0m\u001b[1;33m\u001b[0m\u001b[0m\n",
      "\u001b[1;32m~\\anaconda3\\lib\\site-packages\\sklearn\\utils\\validation.py\u001b[0m in \u001b[0;36m_num_samples\u001b[1;34m(x)\u001b[0m\n\u001b[0;32m    200\u001b[0m     \u001b[1;32mif\u001b[0m \u001b[0mhasattr\u001b[0m\u001b[1;33m(\u001b[0m\u001b[0mx\u001b[0m\u001b[1;33m,\u001b[0m \u001b[1;34m'shape'\u001b[0m\u001b[1;33m)\u001b[0m \u001b[1;32mand\u001b[0m \u001b[0mx\u001b[0m\u001b[1;33m.\u001b[0m\u001b[0mshape\u001b[0m \u001b[1;32mis\u001b[0m \u001b[1;32mnot\u001b[0m \u001b[1;32mNone\u001b[0m\u001b[1;33m:\u001b[0m\u001b[1;33m\u001b[0m\u001b[1;33m\u001b[0m\u001b[0m\n\u001b[0;32m    201\u001b[0m         \u001b[1;32mif\u001b[0m \u001b[0mlen\u001b[0m\u001b[1;33m(\u001b[0m\u001b[0mx\u001b[0m\u001b[1;33m.\u001b[0m\u001b[0mshape\u001b[0m\u001b[1;33m)\u001b[0m \u001b[1;33m==\u001b[0m \u001b[1;36m0\u001b[0m\u001b[1;33m:\u001b[0m\u001b[1;33m\u001b[0m\u001b[1;33m\u001b[0m\u001b[0m\n\u001b[1;32m--> 202\u001b[1;33m             raise TypeError(\"Singleton array %r cannot be considered\"\n\u001b[0m\u001b[0;32m    203\u001b[0m                             \" a valid collection.\" % x)\n\u001b[0;32m    204\u001b[0m         \u001b[1;31m# Check that shape is returning an integer or default to len\u001b[0m\u001b[1;33m\u001b[0m\u001b[1;33m\u001b[0m\u001b[1;33m\u001b[0m\u001b[0m\n",
      "\u001b[1;31mTypeError\u001b[0m: Singleton array 0 cannot be considered a valid collection."
     ]
    }
   ],
   "source": [
    "# predict values with X_test    \n",
    "y_pred = np.argmax(grid_result.predict(X_test), axis=-1)\n",
    "\n",
    "# Print performance metrics\n",
    "print('score Keras model: {0: .4f}'.format(metrics.accuracy_score(y_test, y_pred)))\n",
    "print('\\n')\n",
    "confm = pd.DataFrame({'Predicted status': y_pred,\n",
    "                      'True status': y_test})\n",
    "confm.replace(to_replace={0:'Buy', 1:'Hold', 2:'Sell'}, inplace=True)\n",
    "print(confm.groupby(['True status','Predicted status']).size().unstack('Predicted status'))\n",
    "print('\\n')\n",
    "print(metrics.classification_report(y_test, y_pred))"
   ]
  }
 ],
 "metadata": {
  "kernelspec": {
   "display_name": "Python 3",
   "language": "python",
   "name": "python3"
  },
  "language_info": {
   "codemirror_mode": {
    "name": "ipython",
    "version": 3
   },
   "file_extension": ".py",
   "mimetype": "text/x-python",
   "name": "python",
   "nbconvert_exporter": "python",
   "pygments_lexer": "ipython3",
   "version": "3.8.3"
  }
 },
 "nbformat": 4,
 "nbformat_minor": 4
}
